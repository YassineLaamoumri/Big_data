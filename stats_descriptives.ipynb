{
  "cells": [
    {
      "cell_type": "markdown",
      "id": "fmSp58c_5nIc",
      "metadata": {
        "id": "fmSp58c_5nIc"
      },
      "source": [
        "### Modélisation des données du Défi IA 2021-2022\n",
        "\n",
        "Dans ce calepin, nous décrivons quelques éléments de modélisation des données du  Défi IA 2021-2022. Il est suggéré quelques pistes pour réaliser des statistiques descriptives de ces données ainsi qu'une approche de prévision du cumul de pluie à l'aide de la régression linéaire. Des codes en Python sont également proposés. Le but de calepin est également de vous aider à initier la rédaction d'un rapport sur votre travail dans ce Défi IA.\n",
        "\n",
        "#### Données disponibles sur les stations de mesure\n",
        "\n",
        "Sur les années 2016 et 2017, données d'apprentissage sur $N$ stations météorologiques dont on dispose des coordonnées spatiales (latitude et longitude).\n",
        "\n",
        "Pour chaque station $1 \\leq i \\leq N$, on dispose des mesures suivantes :\n",
        "\n",
        "**Variables explicatives** : mesure de $p$ variables $X_{ijt} = (X_{ijt}^{(k)})_{1 \\leq k \\leq p} \\in \\mathbb{R}^{p}$ pour la station $i$, le jour $j$ (variable non-ordonnée car non-disponible dans l'ensemble test) et l'heure $t \\in \\{0,\\ldots,23 \\}$ (variable ordonnée disponible dans l'ensemble test). Les mesures sont\n",
        "\n",
        "- 'ff' : *inclure une description*\n",
        "- 't' : *inclure une description*\n",
        "- 'td' : *inclure une description*\n",
        "- 'hu' : *humidité*\n",
        "- 'dd' : *inclure une description*\n",
        "- 'precip' : *cumul de pluie sur une heure en ml*\n",
        "\n",
        "On peut également ajouter une variable sur le mois de l'année car cette information est disponible dans l'ensemble test.\n",
        "\n",
        "\n",
        "**Variable à expliquer/prédire** : cumul de pluie $Y_{ij}$ sur une journée au jour $j+1$ dans la station $i$ à partir des données disponibles au jour $j$. Dans l'ensemble d'apprentissage, on dipose en fait de la variable $Y_{ijt}$ cumul de pluie  sur une journée au jour $j+1$ dans la station $i$ et àl'heure $t$. De façon évidente on a que (avec $T=23$)\n",
        "$$\n",
        "Y_{ij} = \\sum_{t = 0}^{T} Y_{ijt}\n",
        "$$\n",
        "\n",
        "**Travail préliminaire** : proposer une analyse descriptive de ces données : boxplot, histogramme uni-varié, ACP pour étude des corrélation entre variables explicatives, etc...\n",
        "\n",
        "**Modèles linéaires possibles de prévision du cumul de pluie** : \n",
        "\n",
        "*Modèle global temps par temps*\n",
        "\n",
        "$$\n",
        "Y_{ijt} = \\theta_{0}^{t} + \\sum_{k = 1}^{p} \\theta_{k}^{t}X_{ijt}^{(k)} + \\varepsilon_{ijt}\n",
        "$$\n",
        "\n",
        "et prévision par $\\hat{Y}_{ij} = \\sum_{t = 0}^{T} \\hat{Y}_{ijt} $ où $\\hat{Y}_{ijt} = \\hat{\\theta}_{0}^{t} + \\sum_{k = 1}^{p} \\hat{\\theta}_{k}^{t}X_{ijt}^{(k)}$\n",
        "\n",
        "*Modèle par station et temps par temps*\n",
        "\n",
        "$$\n",
        "Y_{ijt} = \\theta_{0,i}^{t} + \\sum_{k = 1}^{p} \\theta_{k,i}^{t}X_{ijt}^{(k)} + \\varepsilon_{ijt}\n",
        "$$\n",
        "\n",
        "où les cofficients du modèle linéaire varient selon la station de mesure.\n",
        "\n",
        "*Modèle global avec agrégation du temps*\n",
        "\n",
        "$$\n",
        "Y_{ij} = \\theta_{0} + \\sum_{t = 0}^{T}  \\sum_{k = 1}^{p} \\theta_{k}^{t}X_{ijt}^{(k)} + \\varepsilon_{ij}\n",
        "$$\n",
        "\n",
        "et bien d'autres modèles sont possibles !"
      ]
    },
    {
      "cell_type": "code",
      "execution_count": 2,
      "id": "soXUjKP__g3x",
      "metadata": {
        "colab": {
          "base_uri": "https://localhost:8080/"
        },
        "id": "soXUjKP__g3x",
        "outputId": "239da4af-4135-4b68-fac3-d94cd88e85a2"
      },
      "outputs": [],
      "source": [
        "#from google.colab import drive\n",
        "#drive.mount('/content/drive',force_remount=True)"
      ]
    },
    {
      "cell_type": "code",
      "execution_count": 3,
      "id": "0xCTnK0V_tBO",
      "metadata": {
        "id": "0xCTnK0V_tBO"
      },
      "outputs": [],
      "source": [
        "#import os\n",
        "#os.chdir('/content/drive/My Drive/Données Massives/')"
      ]
    },
    {
      "cell_type": "code",
      "execution_count": 3,
      "id": "PcBf1UqmC8ub",
      "metadata": {
        "id": "PcBf1UqmC8ub"
      },
      "outputs": [],
      "source": [
        "import matplotlib.pyplot as plt\n",
        "from IPython.display import display\n"
      ]
    },
    {
      "cell_type": "code",
      "execution_count": 4,
      "id": "mFKj1Mq_5nIh",
      "metadata": {
        "_cell_guid": "b1076dfc-b9ad-4769-8c92-a6c4dae69d19",
        "_uuid": "8f2839f25d086af736a60e9eeb907d3b93b6e0e5",
        "execution": {
          "iopub.execute_input": "2021-10-07T08:26:22.782954Z",
          "iopub.status.busy": "2021-10-07T08:26:22.782072Z",
          "iopub.status.idle": "2021-10-07T08:26:22.786494Z",
          "shell.execute_reply": "2021-10-07T08:26:22.785723Z",
          "shell.execute_reply.started": "2021-10-07T08:23:02.804372Z"
        },
        "id": "mFKj1Mq_5nIh",
        "papermill": {
          "duration": 0.026187,
          "end_time": "2021-10-07T08:26:22.786670",
          "exception": false,
          "start_time": "2021-10-07T08:26:22.760483",
          "status": "completed"
        },
        "tags": []
      },
      "outputs": [],
      "source": [
        "import pandas as pd\n",
        "import datetime\n",
        "import seaborn as sns\n",
        "import numpy as np\n",
        "\n",
        "# Suppression des messages d'erreur liés à des besoins de mise à jour de syntaxe en Python\n",
        "import warnings\n",
        "\n",
        "def fxn():\n",
        "    warnings.warn(\"deprecated\", DeprecationWarning)\n",
        "\n",
        "with warnings.catch_warnings():\n",
        "    warnings.simplefilter(\"ignore\")\n",
        "    fxn()\n",
        "\n",
        "warnings.filterwarnings(\"ignore\")"
      ]
    },
    {
      "cell_type": "code",
      "execution_count": 5,
      "id": "qaYvJsal5nIi",
      "metadata": {
        "colab": {
          "base_uri": "https://localhost:8080/",
          "height": 424
        },
        "id": "qaYvJsal5nIi",
        "outputId": "9c2c00cf-2f04-4841-e24d-6d88f7a6ad1b"
      },
      "outputs": [
        {
          "data": {
            "text/html": [
              "<div>\n",
              "<style scoped>\n",
              "    .dataframe tbody tr th:only-of-type {\n",
              "        vertical-align: middle;\n",
              "    }\n",
              "\n",
              "    .dataframe tbody tr th {\n",
              "        vertical-align: top;\n",
              "    }\n",
              "\n",
              "    .dataframe thead th {\n",
              "        text-align: right;\n",
              "    }\n",
              "</style>\n",
              "<table border=\"1\" class=\"dataframe\">\n",
              "  <thead>\n",
              "    <tr style=\"text-align: right;\">\n",
              "      <th></th>\n",
              "      <th>number_sta</th>\n",
              "      <th>date</th>\n",
              "      <th>ff</th>\n",
              "      <th>t</th>\n",
              "      <th>td</th>\n",
              "      <th>hu</th>\n",
              "      <th>dd</th>\n",
              "      <th>precip</th>\n",
              "      <th>Id</th>\n",
              "    </tr>\n",
              "  </thead>\n",
              "  <tbody>\n",
              "    <tr>\n",
              "      <th>0</th>\n",
              "      <td>14066001</td>\n",
              "      <td>2016-01-01 00:00:00</td>\n",
              "      <td>3.05</td>\n",
              "      <td>279.28</td>\n",
              "      <td>277.97</td>\n",
              "      <td>91.4</td>\n",
              "      <td>200.0</td>\n",
              "      <td>0.0</td>\n",
              "      <td>14066001_0_0</td>\n",
              "    </tr>\n",
              "    <tr>\n",
              "      <th>1</th>\n",
              "      <td>14066001</td>\n",
              "      <td>2016-01-01 01:00:00</td>\n",
              "      <td>2.57</td>\n",
              "      <td>278.76</td>\n",
              "      <td>277.45</td>\n",
              "      <td>91.4</td>\n",
              "      <td>190.0</td>\n",
              "      <td>0.0</td>\n",
              "      <td>14066001_0_1</td>\n",
              "    </tr>\n",
              "    <tr>\n",
              "      <th>2</th>\n",
              "      <td>14066001</td>\n",
              "      <td>2016-01-01 02:00:00</td>\n",
              "      <td>2.26</td>\n",
              "      <td>278.27</td>\n",
              "      <td>277.02</td>\n",
              "      <td>91.7</td>\n",
              "      <td>181.0</td>\n",
              "      <td>0.0</td>\n",
              "      <td>14066001_0_2</td>\n",
              "    </tr>\n",
              "    <tr>\n",
              "      <th>3</th>\n",
              "      <td>14066001</td>\n",
              "      <td>2016-01-01 03:00:00</td>\n",
              "      <td>2.62</td>\n",
              "      <td>277.98</td>\n",
              "      <td>276.95</td>\n",
              "      <td>93.0</td>\n",
              "      <td>159.0</td>\n",
              "      <td>0.0</td>\n",
              "      <td>14066001_0_3</td>\n",
              "    </tr>\n",
              "    <tr>\n",
              "      <th>4</th>\n",
              "      <td>14066001</td>\n",
              "      <td>2016-01-01 04:00:00</td>\n",
              "      <td>2.99</td>\n",
              "      <td>277.32</td>\n",
              "      <td>276.72</td>\n",
              "      <td>95.9</td>\n",
              "      <td>171.0</td>\n",
              "      <td>0.0</td>\n",
              "      <td>14066001_0_4</td>\n",
              "    </tr>\n",
              "    <tr>\n",
              "      <th>...</th>\n",
              "      <td>...</td>\n",
              "      <td>...</td>\n",
              "      <td>...</td>\n",
              "      <td>...</td>\n",
              "      <td>...</td>\n",
              "      <td>...</td>\n",
              "      <td>...</td>\n",
              "      <td>...</td>\n",
              "      <td>...</td>\n",
              "    </tr>\n",
              "    <tr>\n",
              "      <th>4409469</th>\n",
              "      <td>95690001</td>\n",
              "      <td>2017-12-30 19:00:00</td>\n",
              "      <td>9.10</td>\n",
              "      <td>286.68</td>\n",
              "      <td>283.44</td>\n",
              "      <td>80.8</td>\n",
              "      <td>239.0</td>\n",
              "      <td>0.0</td>\n",
              "      <td>95690001_729_19</td>\n",
              "    </tr>\n",
              "    <tr>\n",
              "      <th>4409470</th>\n",
              "      <td>95690001</td>\n",
              "      <td>2017-12-30 20:00:00</td>\n",
              "      <td>8.58</td>\n",
              "      <td>286.39</td>\n",
              "      <td>283.21</td>\n",
              "      <td>81.1</td>\n",
              "      <td>231.0</td>\n",
              "      <td>0.0</td>\n",
              "      <td>95690001_729_20</td>\n",
              "    </tr>\n",
              "    <tr>\n",
              "      <th>4409471</th>\n",
              "      <td>95690001</td>\n",
              "      <td>2017-12-30 21:00:00</td>\n",
              "      <td>8.74</td>\n",
              "      <td>286.28</td>\n",
              "      <td>283.40</td>\n",
              "      <td>82.6</td>\n",
              "      <td>226.0</td>\n",
              "      <td>0.0</td>\n",
              "      <td>95690001_729_21</td>\n",
              "    </tr>\n",
              "    <tr>\n",
              "      <th>4409472</th>\n",
              "      <td>95690001</td>\n",
              "      <td>2017-12-30 22:00:00</td>\n",
              "      <td>9.04</td>\n",
              "      <td>286.21</td>\n",
              "      <td>283.29</td>\n",
              "      <td>82.4</td>\n",
              "      <td>224.0</td>\n",
              "      <td>0.0</td>\n",
              "      <td>95690001_729_22</td>\n",
              "    </tr>\n",
              "    <tr>\n",
              "      <th>4409473</th>\n",
              "      <td>95690001</td>\n",
              "      <td>2017-12-30 23:00:00</td>\n",
              "      <td>9.11</td>\n",
              "      <td>285.92</td>\n",
              "      <td>282.42</td>\n",
              "      <td>79.4</td>\n",
              "      <td>221.0</td>\n",
              "      <td>0.0</td>\n",
              "      <td>95690001_729_23</td>\n",
              "    </tr>\n",
              "  </tbody>\n",
              "</table>\n",
              "<p>4409474 rows × 9 columns</p>\n",
              "</div>"
            ],
            "text/plain": [
              "        number_sta                date    ff       t      td    hu     dd  \\\n",
              "0         14066001 2016-01-01 00:00:00  3.05  279.28  277.97  91.4  200.0   \n",
              "1         14066001 2016-01-01 01:00:00  2.57  278.76  277.45  91.4  190.0   \n",
              "2         14066001 2016-01-01 02:00:00  2.26  278.27  277.02  91.7  181.0   \n",
              "3         14066001 2016-01-01 03:00:00  2.62  277.98  276.95  93.0  159.0   \n",
              "4         14066001 2016-01-01 04:00:00  2.99  277.32  276.72  95.9  171.0   \n",
              "...            ...                 ...   ...     ...     ...   ...    ...   \n",
              "4409469   95690001 2017-12-30 19:00:00  9.10  286.68  283.44  80.8  239.0   \n",
              "4409470   95690001 2017-12-30 20:00:00  8.58  286.39  283.21  81.1  231.0   \n",
              "4409471   95690001 2017-12-30 21:00:00  8.74  286.28  283.40  82.6  226.0   \n",
              "4409472   95690001 2017-12-30 22:00:00  9.04  286.21  283.29  82.4  224.0   \n",
              "4409473   95690001 2017-12-30 23:00:00  9.11  285.92  282.42  79.4  221.0   \n",
              "\n",
              "         precip               Id  \n",
              "0           0.0     14066001_0_0  \n",
              "1           0.0     14066001_0_1  \n",
              "2           0.0     14066001_0_2  \n",
              "3           0.0     14066001_0_3  \n",
              "4           0.0     14066001_0_4  \n",
              "...         ...              ...  \n",
              "4409469     0.0  95690001_729_19  \n",
              "4409470     0.0  95690001_729_20  \n",
              "4409471     0.0  95690001_729_21  \n",
              "4409472     0.0  95690001_729_22  \n",
              "4409473     0.0  95690001_729_23  \n",
              "\n",
              "[4409474 rows x 9 columns]"
            ]
          },
          "execution_count": 5,
          "metadata": {},
          "output_type": "execute_result"
        }
      ],
      "source": [
        "# Lecture des données de l'ensemble d'apprentissage \n",
        "\n",
        "path = 'defi-ia-2022/Train/Train/X_station_train.csv'\n",
        "first_date = datetime.datetime(2016,1,1)    \n",
        "last_date = datetime.datetime(2017,12,31)\n",
        "\n",
        "# Read the ground station data\n",
        "def read_gs_data(fname):\n",
        "    gs_data = pd.read_csv(fname,parse_dates=['date'],infer_datetime_format=True)\n",
        "    gs_data = gs_data.sort_values(by=[\"number_sta\",\"date\"])\n",
        "    return gs_data\n",
        "\n",
        "x = read_gs_data(path)\n",
        "x['number_sta']=x['number_sta'].astype('category')\n",
        "\n",
        "# Tri par station puis par datea\n",
        "x = x.sort_values(['number_sta','date'])\n",
        "x"
      ]
    },
    {
      "cell_type": "code",
      "execution_count": 6,
      "id": "rAFqSjtz5nIj",
      "metadata": {
        "colab": {
          "base_uri": "https://localhost:8080/",
          "height": 424
        },
        "id": "rAFqSjtz5nIj",
        "outputId": "7ba58d9c-3ffa-4d1d-bac7-ebfd4a4ecd10"
      },
      "outputs": [
        {
          "data": {
            "text/html": [
              "<div>\n",
              "<style scoped>\n",
              "    .dataframe tbody tr th:only-of-type {\n",
              "        vertical-align: middle;\n",
              "    }\n",
              "\n",
              "    .dataframe tbody tr th {\n",
              "        vertical-align: top;\n",
              "    }\n",
              "\n",
              "    .dataframe thead th {\n",
              "        text-align: right;\n",
              "    }\n",
              "</style>\n",
              "<table border=\"1\" class=\"dataframe\">\n",
              "  <thead>\n",
              "    <tr style=\"text-align: right;\">\n",
              "      <th></th>\n",
              "      <th>number_sta</th>\n",
              "      <th>date</th>\n",
              "      <th>ff</th>\n",
              "      <th>t</th>\n",
              "      <th>td</th>\n",
              "      <th>hu</th>\n",
              "      <th>dd</th>\n",
              "      <th>precip</th>\n",
              "      <th>Id</th>\n",
              "      <th>day</th>\n",
              "      <th>hour</th>\n",
              "    </tr>\n",
              "  </thead>\n",
              "  <tbody>\n",
              "    <tr>\n",
              "      <th>0</th>\n",
              "      <td>14066001</td>\n",
              "      <td>2016-01-01 00:00:00</td>\n",
              "      <td>3.05</td>\n",
              "      <td>279.28</td>\n",
              "      <td>277.97</td>\n",
              "      <td>91.4</td>\n",
              "      <td>200.0</td>\n",
              "      <td>0.0</td>\n",
              "      <td>14066001_0_0</td>\n",
              "      <td>0</td>\n",
              "      <td>0</td>\n",
              "    </tr>\n",
              "    <tr>\n",
              "      <th>1</th>\n",
              "      <td>14066001</td>\n",
              "      <td>2016-01-01 01:00:00</td>\n",
              "      <td>2.57</td>\n",
              "      <td>278.76</td>\n",
              "      <td>277.45</td>\n",
              "      <td>91.4</td>\n",
              "      <td>190.0</td>\n",
              "      <td>0.0</td>\n",
              "      <td>14066001_0_1</td>\n",
              "      <td>0</td>\n",
              "      <td>1</td>\n",
              "    </tr>\n",
              "    <tr>\n",
              "      <th>2</th>\n",
              "      <td>14066001</td>\n",
              "      <td>2016-01-01 02:00:00</td>\n",
              "      <td>2.26</td>\n",
              "      <td>278.27</td>\n",
              "      <td>277.02</td>\n",
              "      <td>91.7</td>\n",
              "      <td>181.0</td>\n",
              "      <td>0.0</td>\n",
              "      <td>14066001_0_2</td>\n",
              "      <td>0</td>\n",
              "      <td>2</td>\n",
              "    </tr>\n",
              "    <tr>\n",
              "      <th>3</th>\n",
              "      <td>14066001</td>\n",
              "      <td>2016-01-01 03:00:00</td>\n",
              "      <td>2.62</td>\n",
              "      <td>277.98</td>\n",
              "      <td>276.95</td>\n",
              "      <td>93.0</td>\n",
              "      <td>159.0</td>\n",
              "      <td>0.0</td>\n",
              "      <td>14066001_0_3</td>\n",
              "      <td>0</td>\n",
              "      <td>3</td>\n",
              "    </tr>\n",
              "    <tr>\n",
              "      <th>4</th>\n",
              "      <td>14066001</td>\n",
              "      <td>2016-01-01 04:00:00</td>\n",
              "      <td>2.99</td>\n",
              "      <td>277.32</td>\n",
              "      <td>276.72</td>\n",
              "      <td>95.9</td>\n",
              "      <td>171.0</td>\n",
              "      <td>0.0</td>\n",
              "      <td>14066001_0_4</td>\n",
              "      <td>0</td>\n",
              "      <td>4</td>\n",
              "    </tr>\n",
              "    <tr>\n",
              "      <th>...</th>\n",
              "      <td>...</td>\n",
              "      <td>...</td>\n",
              "      <td>...</td>\n",
              "      <td>...</td>\n",
              "      <td>...</td>\n",
              "      <td>...</td>\n",
              "      <td>...</td>\n",
              "      <td>...</td>\n",
              "      <td>...</td>\n",
              "      <td>...</td>\n",
              "      <td>...</td>\n",
              "    </tr>\n",
              "    <tr>\n",
              "      <th>4409469</th>\n",
              "      <td>95690001</td>\n",
              "      <td>2017-12-30 19:00:00</td>\n",
              "      <td>9.10</td>\n",
              "      <td>286.68</td>\n",
              "      <td>283.44</td>\n",
              "      <td>80.8</td>\n",
              "      <td>239.0</td>\n",
              "      <td>0.0</td>\n",
              "      <td>95690001_729_19</td>\n",
              "      <td>729</td>\n",
              "      <td>19</td>\n",
              "    </tr>\n",
              "    <tr>\n",
              "      <th>4409470</th>\n",
              "      <td>95690001</td>\n",
              "      <td>2017-12-30 20:00:00</td>\n",
              "      <td>8.58</td>\n",
              "      <td>286.39</td>\n",
              "      <td>283.21</td>\n",
              "      <td>81.1</td>\n",
              "      <td>231.0</td>\n",
              "      <td>0.0</td>\n",
              "      <td>95690001_729_20</td>\n",
              "      <td>729</td>\n",
              "      <td>20</td>\n",
              "    </tr>\n",
              "    <tr>\n",
              "      <th>4409471</th>\n",
              "      <td>95690001</td>\n",
              "      <td>2017-12-30 21:00:00</td>\n",
              "      <td>8.74</td>\n",
              "      <td>286.28</td>\n",
              "      <td>283.40</td>\n",
              "      <td>82.6</td>\n",
              "      <td>226.0</td>\n",
              "      <td>0.0</td>\n",
              "      <td>95690001_729_21</td>\n",
              "      <td>729</td>\n",
              "      <td>21</td>\n",
              "    </tr>\n",
              "    <tr>\n",
              "      <th>4409472</th>\n",
              "      <td>95690001</td>\n",
              "      <td>2017-12-30 22:00:00</td>\n",
              "      <td>9.04</td>\n",
              "      <td>286.21</td>\n",
              "      <td>283.29</td>\n",
              "      <td>82.4</td>\n",
              "      <td>224.0</td>\n",
              "      <td>0.0</td>\n",
              "      <td>95690001_729_22</td>\n",
              "      <td>729</td>\n",
              "      <td>22</td>\n",
              "    </tr>\n",
              "    <tr>\n",
              "      <th>4409473</th>\n",
              "      <td>95690001</td>\n",
              "      <td>2017-12-30 23:00:00</td>\n",
              "      <td>9.11</td>\n",
              "      <td>285.92</td>\n",
              "      <td>282.42</td>\n",
              "      <td>79.4</td>\n",
              "      <td>221.0</td>\n",
              "      <td>0.0</td>\n",
              "      <td>95690001_729_23</td>\n",
              "      <td>729</td>\n",
              "      <td>23</td>\n",
              "    </tr>\n",
              "  </tbody>\n",
              "</table>\n",
              "<p>4409474 rows × 11 columns</p>\n",
              "</div>"
            ],
            "text/plain": [
              "        number_sta                date    ff       t      td    hu     dd  \\\n",
              "0         14066001 2016-01-01 00:00:00  3.05  279.28  277.97  91.4  200.0   \n",
              "1         14066001 2016-01-01 01:00:00  2.57  278.76  277.45  91.4  190.0   \n",
              "2         14066001 2016-01-01 02:00:00  2.26  278.27  277.02  91.7  181.0   \n",
              "3         14066001 2016-01-01 03:00:00  2.62  277.98  276.95  93.0  159.0   \n",
              "4         14066001 2016-01-01 04:00:00  2.99  277.32  276.72  95.9  171.0   \n",
              "...            ...                 ...   ...     ...     ...   ...    ...   \n",
              "4409469   95690001 2017-12-30 19:00:00  9.10  286.68  283.44  80.8  239.0   \n",
              "4409470   95690001 2017-12-30 20:00:00  8.58  286.39  283.21  81.1  231.0   \n",
              "4409471   95690001 2017-12-30 21:00:00  8.74  286.28  283.40  82.6  226.0   \n",
              "4409472   95690001 2017-12-30 22:00:00  9.04  286.21  283.29  82.4  224.0   \n",
              "4409473   95690001 2017-12-30 23:00:00  9.11  285.92  282.42  79.4  221.0   \n",
              "\n",
              "         precip               Id  day hour  \n",
              "0           0.0     14066001_0_0    0    0  \n",
              "1           0.0     14066001_0_1    0    1  \n",
              "2           0.0     14066001_0_2    0    2  \n",
              "3           0.0     14066001_0_3    0    3  \n",
              "4           0.0     14066001_0_4    0    4  \n",
              "...         ...              ...  ...  ...  \n",
              "4409469     0.0  95690001_729_19  729   19  \n",
              "4409470     0.0  95690001_729_20  729   20  \n",
              "4409471     0.0  95690001_729_21  729   21  \n",
              "4409472     0.0  95690001_729_22  729   22  \n",
              "4409473     0.0  95690001_729_23  729   23  \n",
              "\n",
              "[4409474 rows x 11 columns]"
            ]
          },
          "metadata": {},
          "output_type": "display_data"
        }
      ],
      "source": [
        "# Ajout des variables jour et heure\n",
        "Xtrain = x\n",
        "split_Id = Xtrain['Id'].str.split(pat=\"_\", expand = True)\n",
        "split_Id = split_Id.rename(columns={0: \"number_sta_2\", 1: \"day\", 2: \"hour\"})\n",
        "Xtrain['number_sta_2'] = split_Id['number_sta_2']\n",
        "Xtrain['day'] = split_Id[\"day\"]\n",
        "Xtrain['hour'] = split_Id[\"hour\"]\n",
        "Xtrain = Xtrain.drop(\"number_sta_2\",axis=1)\n",
        "display(Xtrain) "
      ]
    },
    {
      "cell_type": "code",
      "execution_count": 7,
      "id": "qlxBWBwMC4CV",
      "metadata": {
        "colab": {
          "base_uri": "https://localhost:8080/",
          "height": 424
        },
        "id": "qlxBWBwMC4CV",
        "outputId": "b7479e89-ab1e-423a-b332-57ccfaba610b"
      },
      "outputs": [
        {
          "data": {
            "text/html": [
              "<div>\n",
              "<style scoped>\n",
              "    .dataframe tbody tr th:only-of-type {\n",
              "        vertical-align: middle;\n",
              "    }\n",
              "\n",
              "    .dataframe tbody tr th {\n",
              "        vertical-align: top;\n",
              "    }\n",
              "\n",
              "    .dataframe thead th {\n",
              "        text-align: right;\n",
              "    }\n",
              "</style>\n",
              "<table border=\"1\" class=\"dataframe\">\n",
              "  <thead>\n",
              "    <tr style=\"text-align: right;\">\n",
              "      <th></th>\n",
              "      <th>number_sta</th>\n",
              "      <th>date</th>\n",
              "      <th>ff</th>\n",
              "      <th>t</th>\n",
              "      <th>td</th>\n",
              "      <th>hu</th>\n",
              "      <th>dd</th>\n",
              "      <th>precip</th>\n",
              "      <th>Id</th>\n",
              "      <th>day</th>\n",
              "      <th>hour</th>\n",
              "      <th>month</th>\n",
              "    </tr>\n",
              "  </thead>\n",
              "  <tbody>\n",
              "    <tr>\n",
              "      <th>0</th>\n",
              "      <td>14066001</td>\n",
              "      <td>2016-01-01 00:00:00</td>\n",
              "      <td>3.05</td>\n",
              "      <td>279.28</td>\n",
              "      <td>277.97</td>\n",
              "      <td>91.4</td>\n",
              "      <td>200.0</td>\n",
              "      <td>0.0</td>\n",
              "      <td>14066001_0_0</td>\n",
              "      <td>0</td>\n",
              "      <td>0</td>\n",
              "      <td>1</td>\n",
              "    </tr>\n",
              "    <tr>\n",
              "      <th>1</th>\n",
              "      <td>14066001</td>\n",
              "      <td>2016-01-01 01:00:00</td>\n",
              "      <td>2.57</td>\n",
              "      <td>278.76</td>\n",
              "      <td>277.45</td>\n",
              "      <td>91.4</td>\n",
              "      <td>190.0</td>\n",
              "      <td>0.0</td>\n",
              "      <td>14066001_0_1</td>\n",
              "      <td>0</td>\n",
              "      <td>1</td>\n",
              "      <td>1</td>\n",
              "    </tr>\n",
              "    <tr>\n",
              "      <th>2</th>\n",
              "      <td>14066001</td>\n",
              "      <td>2016-01-01 02:00:00</td>\n",
              "      <td>2.26</td>\n",
              "      <td>278.27</td>\n",
              "      <td>277.02</td>\n",
              "      <td>91.7</td>\n",
              "      <td>181.0</td>\n",
              "      <td>0.0</td>\n",
              "      <td>14066001_0_2</td>\n",
              "      <td>0</td>\n",
              "      <td>2</td>\n",
              "      <td>1</td>\n",
              "    </tr>\n",
              "    <tr>\n",
              "      <th>3</th>\n",
              "      <td>14066001</td>\n",
              "      <td>2016-01-01 03:00:00</td>\n",
              "      <td>2.62</td>\n",
              "      <td>277.98</td>\n",
              "      <td>276.95</td>\n",
              "      <td>93.0</td>\n",
              "      <td>159.0</td>\n",
              "      <td>0.0</td>\n",
              "      <td>14066001_0_3</td>\n",
              "      <td>0</td>\n",
              "      <td>3</td>\n",
              "      <td>1</td>\n",
              "    </tr>\n",
              "    <tr>\n",
              "      <th>4</th>\n",
              "      <td>14066001</td>\n",
              "      <td>2016-01-01 04:00:00</td>\n",
              "      <td>2.99</td>\n",
              "      <td>277.32</td>\n",
              "      <td>276.72</td>\n",
              "      <td>95.9</td>\n",
              "      <td>171.0</td>\n",
              "      <td>0.0</td>\n",
              "      <td>14066001_0_4</td>\n",
              "      <td>0</td>\n",
              "      <td>4</td>\n",
              "      <td>1</td>\n",
              "    </tr>\n",
              "    <tr>\n",
              "      <th>...</th>\n",
              "      <td>...</td>\n",
              "      <td>...</td>\n",
              "      <td>...</td>\n",
              "      <td>...</td>\n",
              "      <td>...</td>\n",
              "      <td>...</td>\n",
              "      <td>...</td>\n",
              "      <td>...</td>\n",
              "      <td>...</td>\n",
              "      <td>...</td>\n",
              "      <td>...</td>\n",
              "      <td>...</td>\n",
              "    </tr>\n",
              "    <tr>\n",
              "      <th>4409469</th>\n",
              "      <td>95690001</td>\n",
              "      <td>2017-12-30 19:00:00</td>\n",
              "      <td>9.10</td>\n",
              "      <td>286.68</td>\n",
              "      <td>283.44</td>\n",
              "      <td>80.8</td>\n",
              "      <td>239.0</td>\n",
              "      <td>0.0</td>\n",
              "      <td>95690001_729_19</td>\n",
              "      <td>729</td>\n",
              "      <td>19</td>\n",
              "      <td>12</td>\n",
              "    </tr>\n",
              "    <tr>\n",
              "      <th>4409470</th>\n",
              "      <td>95690001</td>\n",
              "      <td>2017-12-30 20:00:00</td>\n",
              "      <td>8.58</td>\n",
              "      <td>286.39</td>\n",
              "      <td>283.21</td>\n",
              "      <td>81.1</td>\n",
              "      <td>231.0</td>\n",
              "      <td>0.0</td>\n",
              "      <td>95690001_729_20</td>\n",
              "      <td>729</td>\n",
              "      <td>20</td>\n",
              "      <td>12</td>\n",
              "    </tr>\n",
              "    <tr>\n",
              "      <th>4409471</th>\n",
              "      <td>95690001</td>\n",
              "      <td>2017-12-30 21:00:00</td>\n",
              "      <td>8.74</td>\n",
              "      <td>286.28</td>\n",
              "      <td>283.40</td>\n",
              "      <td>82.6</td>\n",
              "      <td>226.0</td>\n",
              "      <td>0.0</td>\n",
              "      <td>95690001_729_21</td>\n",
              "      <td>729</td>\n",
              "      <td>21</td>\n",
              "      <td>12</td>\n",
              "    </tr>\n",
              "    <tr>\n",
              "      <th>4409472</th>\n",
              "      <td>95690001</td>\n",
              "      <td>2017-12-30 22:00:00</td>\n",
              "      <td>9.04</td>\n",
              "      <td>286.21</td>\n",
              "      <td>283.29</td>\n",
              "      <td>82.4</td>\n",
              "      <td>224.0</td>\n",
              "      <td>0.0</td>\n",
              "      <td>95690001_729_22</td>\n",
              "      <td>729</td>\n",
              "      <td>22</td>\n",
              "      <td>12</td>\n",
              "    </tr>\n",
              "    <tr>\n",
              "      <th>4409473</th>\n",
              "      <td>95690001</td>\n",
              "      <td>2017-12-30 23:00:00</td>\n",
              "      <td>9.11</td>\n",
              "      <td>285.92</td>\n",
              "      <td>282.42</td>\n",
              "      <td>79.4</td>\n",
              "      <td>221.0</td>\n",
              "      <td>0.0</td>\n",
              "      <td>95690001_729_23</td>\n",
              "      <td>729</td>\n",
              "      <td>23</td>\n",
              "      <td>12</td>\n",
              "    </tr>\n",
              "  </tbody>\n",
              "</table>\n",
              "<p>4409474 rows × 12 columns</p>\n",
              "</div>"
            ],
            "text/plain": [
              "        number_sta                date    ff       t      td    hu     dd  \\\n",
              "0         14066001 2016-01-01 00:00:00  3.05  279.28  277.97  91.4  200.0   \n",
              "1         14066001 2016-01-01 01:00:00  2.57  278.76  277.45  91.4  190.0   \n",
              "2         14066001 2016-01-01 02:00:00  2.26  278.27  277.02  91.7  181.0   \n",
              "3         14066001 2016-01-01 03:00:00  2.62  277.98  276.95  93.0  159.0   \n",
              "4         14066001 2016-01-01 04:00:00  2.99  277.32  276.72  95.9  171.0   \n",
              "...            ...                 ...   ...     ...     ...   ...    ...   \n",
              "4409469   95690001 2017-12-30 19:00:00  9.10  286.68  283.44  80.8  239.0   \n",
              "4409470   95690001 2017-12-30 20:00:00  8.58  286.39  283.21  81.1  231.0   \n",
              "4409471   95690001 2017-12-30 21:00:00  8.74  286.28  283.40  82.6  226.0   \n",
              "4409472   95690001 2017-12-30 22:00:00  9.04  286.21  283.29  82.4  224.0   \n",
              "4409473   95690001 2017-12-30 23:00:00  9.11  285.92  282.42  79.4  221.0   \n",
              "\n",
              "         precip               Id  day hour  month  \n",
              "0           0.0     14066001_0_0    0    0      1  \n",
              "1           0.0     14066001_0_1    0    1      1  \n",
              "2           0.0     14066001_0_2    0    2      1  \n",
              "3           0.0     14066001_0_3    0    3      1  \n",
              "4           0.0     14066001_0_4    0    4      1  \n",
              "...         ...              ...  ...  ...    ...  \n",
              "4409469     0.0  95690001_729_19  729   19     12  \n",
              "4409470     0.0  95690001_729_20  729   20     12  \n",
              "4409471     0.0  95690001_729_21  729   21     12  \n",
              "4409472     0.0  95690001_729_22  729   22     12  \n",
              "4409473     0.0  95690001_729_23  729   23     12  \n",
              "\n",
              "[4409474 rows x 12 columns]"
            ]
          },
          "metadata": {},
          "output_type": "display_data"
        }
      ],
      "source": [
        "#Ajout de mois \n",
        "\n",
        "Xtrain['month'] = pd.DatetimeIndex(Xtrain['date']).month\n",
        "display(Xtrain) "
      ]
    },
    {
      "cell_type": "markdown",
      "id": "86_cKBRpPLdQ",
      "metadata": {
        "id": "86_cKBRpPLdQ"
      },
      "source": [
        "Visualisons la répartition des valeurs de précipitation."
      ]
    },
    {
      "cell_type": "code",
      "execution_count": 9,
      "id": "BOHN5mmPNyxa",
      "metadata": {
        "id": "BOHN5mmPNyxa"
      },
      "outputs": [
        {
          "data": {
            "text/plain": [
              "<AxesSubplot:xlabel='precip'>"
            ]
          },
          "execution_count": 9,
          "metadata": {},
          "output_type": "execute_result"
        },
        {
          "data": {
            "image/png": "[encoded data removed]",
            "text/plain": [
              "<Figure size 432x288 with 1 Axes>"
            ]
          },
          "metadata": {
            "needs_background": "light"
          },
          "output_type": "display_data"
        }
      ],
      "source": [
        "bins = [0,1,2,4,5,6,7,8,9,10,20,30]\n",
        "data_bar_precip = Xtrain.groupby(pd.cut(Xtrain['precip'], bins=bins)).count()\n",
        "data_bar_precip['precip'].plot.bar()"
      ]
    },
    {
      "cell_type": "markdown",
      "id": "c8e17ca3",
      "metadata": {},
      "source": [
        "On voit avec ce diagramme en bâtons qu'il y a énormément de fois où il pleut très peu."
      ]
    },
    {
      "cell_type": "code",
      "execution_count": 10,
      "id": "arKhvDVFRt14",
      "metadata": {
        "id": "arKhvDVFRt14"
      },
      "outputs": [
        {
          "data": {
            "text/plain": [
              "<AxesSubplot:>"
            ]
          },
          "execution_count": 10,
          "metadata": {},
          "output_type": "execute_result"
        },
        {
          "data": {
            "image/png": "[encoded data removed]",
            "text/plain": [
              "<Figure size 432x288 with 1 Axes>"
            ]
          },
          "metadata": {
            "needs_background": "light"
          },
          "output_type": "display_data"
        }
      ],
      "source": [
        "Xtrain.boxplot()"
      ]
    },
    {
      "cell_type": "markdown",
      "id": "914e2572",
      "metadata": {},
      "source": [
        "Ces boîtes à moustaches nous permettent d'évaluer les caractéristiques clés des variables explicatives.  \n",
        "Les variables **ff,precip** ont des valeurs faibles proche de **0** comparer aux autres variables.  \n",
        "Les variables **t,td,hu,dd** ont des valeurs majoritairement au dessus de **50**."
      ]
    },
    {
      "cell_type": "markdown",
      "id": "5d7493f7",
      "metadata": {},
      "source": [
        "Matrice de corrélation de Xtrain."
      ]
    },
    {
      "cell_type": "code",
      "execution_count": 14,
      "id": "0NTCW4dsDA0z",
      "metadata": {
        "id": "0NTCW4dsDA0z"
      },
      "outputs": [
        {
          "data": {
            "text/html": [
              "<div>\n",
              "<style scoped>\n",
              "    .dataframe tbody tr th:only-of-type {\n",
              "        vertical-align: middle;\n",
              "    }\n",
              "\n",
              "    .dataframe tbody tr th {\n",
              "        vertical-align: top;\n",
              "    }\n",
              "\n",
              "    .dataframe thead th {\n",
              "        text-align: right;\n",
              "    }\n",
              "</style>\n",
              "<table border=\"1\" class=\"dataframe\">\n",
              "  <thead>\n",
              "    <tr style=\"text-align: right;\">\n",
              "      <th></th>\n",
              "      <th>ff</th>\n",
              "      <th>t</th>\n",
              "      <th>td</th>\n",
              "      <th>hu</th>\n",
              "      <th>dd</th>\n",
              "      <th>precip</th>\n",
              "      <th>month</th>\n",
              "    </tr>\n",
              "  </thead>\n",
              "  <tbody>\n",
              "    <tr>\n",
              "      <th>ff</th>\n",
              "      <td>1.000000</td>\n",
              "      <td>0.058643</td>\n",
              "      <td>-0.016959</td>\n",
              "      <td>-0.172687</td>\n",
              "      <td>0.201671</td>\n",
              "      <td>0.119734</td>\n",
              "      <td>-0.114946</td>\n",
              "    </tr>\n",
              "    <tr>\n",
              "      <th>t</th>\n",
              "      <td>0.058643</td>\n",
              "      <td>1.000000</td>\n",
              "      <td>0.843943</td>\n",
              "      <td>-0.569910</td>\n",
              "      <td>0.144818</td>\n",
              "      <td>-0.022993</td>\n",
              "      <td>0.173252</td>\n",
              "    </tr>\n",
              "    <tr>\n",
              "      <th>td</th>\n",
              "      <td>-0.016959</td>\n",
              "      <td>0.843943</td>\n",
              "      <td>1.000000</td>\n",
              "      <td>-0.052729</td>\n",
              "      <td>0.174139</td>\n",
              "      <td>0.044981</td>\n",
              "      <td>0.243252</td>\n",
              "    </tr>\n",
              "    <tr>\n",
              "      <th>hu</th>\n",
              "      <td>-0.172687</td>\n",
              "      <td>-0.569910</td>\n",
              "      <td>-0.052729</td>\n",
              "      <td>1.000000</td>\n",
              "      <td>-0.005359</td>\n",
              "      <td>0.119600</td>\n",
              "      <td>0.058531</td>\n",
              "    </tr>\n",
              "    <tr>\n",
              "      <th>dd</th>\n",
              "      <td>0.201671</td>\n",
              "      <td>0.144818</td>\n",
              "      <td>0.174139</td>\n",
              "      <td>-0.005359</td>\n",
              "      <td>1.000000</td>\n",
              "      <td>0.045052</td>\n",
              "      <td>0.011905</td>\n",
              "    </tr>\n",
              "    <tr>\n",
              "      <th>precip</th>\n",
              "      <td>0.119734</td>\n",
              "      <td>-0.022993</td>\n",
              "      <td>0.044981</td>\n",
              "      <td>0.119600</td>\n",
              "      <td>0.045052</td>\n",
              "      <td>1.000000</td>\n",
              "      <td>-0.023655</td>\n",
              "    </tr>\n",
              "    <tr>\n",
              "      <th>month</th>\n",
              "      <td>-0.114946</td>\n",
              "      <td>0.173252</td>\n",
              "      <td>0.243252</td>\n",
              "      <td>0.058531</td>\n",
              "      <td>0.011905</td>\n",
              "      <td>-0.023655</td>\n",
              "      <td>1.000000</td>\n",
              "    </tr>\n",
              "  </tbody>\n",
              "</table>\n",
              "</div>"
            ],
            "text/plain": [
              "              ff         t        td        hu        dd    precip     month\n",
              "ff      1.000000  0.058643 -0.016959 -0.172687  0.201671  0.119734 -0.114946\n",
              "t       0.058643  1.000000  0.843943 -0.569910  0.144818 -0.022993  0.173252\n",
              "td     -0.016959  0.843943  1.000000 -0.052729  0.174139  0.044981  0.243252\n",
              "hu     -0.172687 -0.569910 -0.052729  1.000000 -0.005359  0.119600  0.058531\n",
              "dd      0.201671  0.144818  0.174139 -0.005359  1.000000  0.045052  0.011905\n",
              "precip  0.119734 -0.022993  0.044981  0.119600  0.045052  1.000000 -0.023655\n",
              "month  -0.114946  0.173252  0.243252  0.058531  0.011905 -0.023655  1.000000"
            ]
          },
          "execution_count": 14,
          "metadata": {},
          "output_type": "execute_result"
        }
      ],
      "source": [
        "corr_Xtrain = Xtrain.corr(method='pearson')\n",
        "corr_Xtrain\n"
      ]
    },
    {
      "cell_type": "markdown",
      "id": "UVZFo2C5Qui4",
      "metadata": {
        "id": "UVZFo2C5Qui4"
      },
      "source": [
        "  \n",
        "On retrouve une corrélation négative entre la température et l'humidité ce qui semble logique.  \n",
        "On constate aussi une forte corrélation positive entre la température et td"
      ]
    },
    {
      "cell_type": "code",
      "execution_count": 12,
      "id": "gXHMZzayQgQR",
      "metadata": {
        "id": "gXHMZzayQgQR"
      },
      "outputs": [
        {
          "data": {
            "image/png": "[encoded data removed]",
            "text/plain": [
              "<Figure size 432x288 with 2 Axes>"
            ]
          },
          "metadata": {
            "needs_background": "light"
          },
          "output_type": "display_data"
        }
      ],
      "source": [
        "sns.heatmap(corr_Xtrain,annot=True)\n",
        "plt.show()"
      ]
    },
    {
      "cell_type": "markdown",
      "id": "d4f74893",
      "metadata": {},
      "source": [
        "Ce que l'on peut en tirer est qu'aucune variable n'est corrélé avec la variable **precip**."
      ]
    },
    {
      "cell_type": "markdown",
      "id": "6D24VD-sT1NA",
      "metadata": {
        "id": "6D24VD-sT1NA"
      },
      "source": [
        "ACP normée avec deux composantes principales\n"
      ]
    },
    {
      "cell_type": "code",
      "execution_count": 15,
      "id": "kkOOtJlXT2oZ",
      "metadata": {
        "id": "kkOOtJlXT2oZ"
      },
      "outputs": [],
      "source": [
        "from sklearn.preprocessing import StandardScaler\n",
        "\n",
        "Xtrain = Xtrain.fillna(method='ffill')\n",
        "features = ['ff','t','td','hu','dd']\n",
        "\n",
        "X_acp = Xtrain.loc[:,features].values\n",
        "X_acp = StandardScaler().fit_transform(X_acp)\n",
        "\n",
        "\n",
        "Y_acp = Xtrain.loc[:,'precip'].values\n",
        "\n"
      ]
    },
    {
      "cell_type": "code",
      "execution_count": 16,
      "id": "gxk_8g89Und3",
      "metadata": {
        "id": "gxk_8g89Und3"
      },
      "outputs": [],
      "source": [
        "from sklearn.decomposition import PCA\n",
        "\n",
        "pca = PCA(n_components = 5)\n",
        "\n",
        "principalComponents = pca.fit_transform(X_acp)\n",
        "\n",
        "principalDf = pd.DataFrame(data = principalComponents\n",
        "             , columns = ['principal component 1', 'principal component 2','principal component 3','principal component 4','principal component 5'])\n",
        "\n",
        "finalDf = pd.concat([principalDf, Xtrain[['precip']]], axis = 1)\n",
        "\n"
      ]
    },
    {
      "cell_type": "markdown",
      "id": "kDB2xRBEdP_W",
      "metadata": {
        "id": "kDB2xRBEdP_W"
      },
      "source": [
        "On récupère les valeurs propres de nos composantes principales"
      ]
    },
    {
      "cell_type": "code",
      "execution_count": 17,
      "id": "CW4JSckucmAM",
      "metadata": {
        "id": "CW4JSckucmAM"
      },
      "outputs": [
        {
          "data": {
            "text/plain": [
              "array([1.86226586, 1.25663712, 0.97787122, 0.71903328, 0.18419365])"
            ]
          },
          "execution_count": 17,
          "metadata": {},
          "output_type": "execute_result"
        }
      ],
      "source": [
        "pca.explained_variance_"
      ]
    },
    {
      "cell_type": "markdown",
      "id": "uGGKKIuyde-y",
      "metadata": {
        "id": "uGGKKIuyde-y"
      },
      "source": [
        "Notre première composante principale explique 37% de l'inertie tandis que la seconde composante principale explique 25 % de l'inertie."
      ]
    },
    {
      "cell_type": "code",
      "execution_count": 18,
      "id": "ZIDaXegddV8P",
      "metadata": {
        "id": "ZIDaXegddV8P"
      },
      "outputs": [
        {
          "data": {
            "text/plain": [
              "array([0.37245309, 0.25132737, 0.1955742 , 0.14380662, 0.03683872])"
            ]
          },
          "execution_count": 18,
          "metadata": {},
          "output_type": "execute_result"
        }
      ],
      "source": [
        "pca.explained_variance_ratio_"
      ]
    },
    {
      "cell_type": "markdown",
      "id": "SXuXgAbud7ZO",
      "metadata": {
        "id": "SXuXgAbud7ZO"
      },
      "source": [
        "Visualisation des valeurs propres de nos composantes principales. "
      ]
    },
    {
      "cell_type": "code",
      "execution_count": 19,
      "id": "gNCwYiqXdzJF",
      "metadata": {
        "id": "gNCwYiqXdzJF"
      },
      "outputs": [
        {
          "data": {
            "text/plain": [
              "<matplotlib.lines.Line2D at 0x1b08231e7f0>"
            ]
          },
          "execution_count": 19,
          "metadata": {},
          "output_type": "execute_result"
        },
        {
          "data": {
            "image/png": "[encoded data removed]",
            "text/plain": [
              "<Figure size 432x288 with 1 Axes>"
            ]
          },
          "metadata": {},
          "output_type": "display_data"
        }
      ],
      "source": [
        "\n",
        "sns.set_theme(style='darkgrid')\n",
        "graph_variance = sns.lineplot(x=['1','2','3','4','5'],y = pca.explained_variance_)\n",
        "graph_variance.axhline(1,color= 'red')"
      ]
    },
    {
      "cell_type": "markdown",
      "id": "3xOv1_mIh5SM",
      "metadata": {
        "id": "3xOv1_mIh5SM"
      },
      "source": [
        "On constate que les composantes principales 1 et 2 ont des valeurs propres supérieurs à 1.  \n",
        "Tandis que la troisième composante principale à une valeur propre très proche de 1 c'est pourquoi on décide aussi de la garder pour la suite selon la règle de Kaiser.\n"
      ]
    },
    {
      "cell_type": "code",
      "execution_count": 20,
      "id": "OAbCDNm-XVJd",
      "metadata": {
        "id": "OAbCDNm-XVJd"
      },
      "outputs": [
        {
          "data": {
            "text/html": [
              "<div>\n",
              "<style scoped>\n",
              "    .dataframe tbody tr th:only-of-type {\n",
              "        vertical-align: middle;\n",
              "    }\n",
              "\n",
              "    .dataframe tbody tr th {\n",
              "        vertical-align: top;\n",
              "    }\n",
              "\n",
              "    .dataframe thead th {\n",
              "        text-align: right;\n",
              "    }\n",
              "</style>\n",
              "<table border=\"1\" class=\"dataframe\">\n",
              "  <thead>\n",
              "    <tr style=\"text-align: right;\">\n",
              "      <th></th>\n",
              "      <th>principal component 1</th>\n",
              "      <th>principal component 2</th>\n",
              "      <th>principal component 3</th>\n",
              "      <th>principal component 4</th>\n",
              "      <th>principal component 5</th>\n",
              "      <th>precip</th>\n",
              "    </tr>\n",
              "  </thead>\n",
              "  <tbody>\n",
              "    <tr>\n",
              "      <th>0</th>\n",
              "      <td>1.466994</td>\n",
              "      <td>-0.120039</td>\n",
              "      <td>-0.221716</td>\n",
              "      <td>-0.514363</td>\n",
              "      <td>0.139778</td>\n",
              "      <td>0.0</td>\n",
              "    </tr>\n",
              "    <tr>\n",
              "      <th>1</th>\n",
              "      <td>1.637976</td>\n",
              "      <td>-0.289884</td>\n",
              "      <td>-0.217261</td>\n",
              "      <td>-0.537407</td>\n",
              "      <td>0.141746</td>\n",
              "      <td>0.0</td>\n",
              "    </tr>\n",
              "    <tr>\n",
              "      <th>2</th>\n",
              "      <td>1.791670</td>\n",
              "      <td>-0.409033</td>\n",
              "      <td>-0.222848</td>\n",
              "      <td>-0.529851</td>\n",
              "      <td>0.146857</td>\n",
              "      <td>0.0</td>\n",
              "    </tr>\n",
              "    <tr>\n",
              "      <th>3</th>\n",
              "      <td>1.913168</td>\n",
              "      <td>-0.476163</td>\n",
              "      <td>-0.282240</td>\n",
              "      <td>-0.242018</td>\n",
              "      <td>0.165365</td>\n",
              "      <td>0.0</td>\n",
              "    </tr>\n",
              "    <tr>\n",
              "      <th>4</th>\n",
              "      <td>2.035037</td>\n",
              "      <td>-0.208536</td>\n",
              "      <td>-0.363414</td>\n",
              "      <td>-0.270697</td>\n",
              "      <td>0.214705</td>\n",
              "      <td>0.0</td>\n",
              "    </tr>\n",
              "    <tr>\n",
              "      <th>...</th>\n",
              "      <td>...</td>\n",
              "      <td>...</td>\n",
              "      <td>...</td>\n",
              "      <td>...</td>\n",
              "      <td>...</td>\n",
              "      <td>...</td>\n",
              "    </tr>\n",
              "    <tr>\n",
              "      <th>4409469</th>\n",
              "      <td>-0.664325</td>\n",
              "      <td>0.998569</td>\n",
              "      <td>0.327438</td>\n",
              "      <td>0.513937</td>\n",
              "      <td>0.026701</td>\n",
              "      <td>0.0</td>\n",
              "    </tr>\n",
              "    <tr>\n",
              "      <th>4409470</th>\n",
              "      <td>-0.549742</td>\n",
              "      <td>0.839466</td>\n",
              "      <td>0.277978</td>\n",
              "      <td>0.474225</td>\n",
              "      <td>0.024837</td>\n",
              "      <td>0.0</td>\n",
              "    </tr>\n",
              "    <tr>\n",
              "      <th>4409471</th>\n",
              "      <td>-0.515125</td>\n",
              "      <td>0.873402</td>\n",
              "      <td>0.179495</td>\n",
              "      <td>0.568285</td>\n",
              "      <td>0.034254</td>\n",
              "      <td>0.0</td>\n",
              "    </tr>\n",
              "    <tr>\n",
              "      <th>4409472</th>\n",
              "      <td>-0.507336</td>\n",
              "      <td>0.915253</td>\n",
              "      <td>0.230610</td>\n",
              "      <td>0.645880</td>\n",
              "      <td>0.039194</td>\n",
              "      <td>0.0</td>\n",
              "    </tr>\n",
              "    <tr>\n",
              "      <th>4409473</th>\n",
              "      <td>-0.441845</td>\n",
              "      <td>0.832547</td>\n",
              "      <td>0.508550</td>\n",
              "      <td>0.647040</td>\n",
              "      <td>0.032299</td>\n",
              "      <td>0.0</td>\n",
              "    </tr>\n",
              "  </tbody>\n",
              "</table>\n",
              "<p>4409474 rows × 6 columns</p>\n",
              "</div>"
            ],
            "text/plain": [
              "         principal component 1  principal component 2  principal component 3  \\\n",
              "0                     1.466994              -0.120039              -0.221716   \n",
              "1                     1.637976              -0.289884              -0.217261   \n",
              "2                     1.791670              -0.409033              -0.222848   \n",
              "3                     1.913168              -0.476163              -0.282240   \n",
              "4                     2.035037              -0.208536              -0.363414   \n",
              "...                        ...                    ...                    ...   \n",
              "4409469              -0.664325               0.998569               0.327438   \n",
              "4409470              -0.549742               0.839466               0.277978   \n",
              "4409471              -0.515125               0.873402               0.179495   \n",
              "4409472              -0.507336               0.915253               0.230610   \n",
              "4409473              -0.441845               0.832547               0.508550   \n",
              "\n",
              "         principal component 4  principal component 5  precip  \n",
              "0                    -0.514363               0.139778     0.0  \n",
              "1                    -0.537407               0.141746     0.0  \n",
              "2                    -0.529851               0.146857     0.0  \n",
              "3                    -0.242018               0.165365     0.0  \n",
              "4                    -0.270697               0.214705     0.0  \n",
              "...                        ...                    ...     ...  \n",
              "4409469               0.513937               0.026701     0.0  \n",
              "4409470               0.474225               0.024837     0.0  \n",
              "4409471               0.568285               0.034254     0.0  \n",
              "4409472               0.645880               0.039194     0.0  \n",
              "4409473               0.647040               0.032299     0.0  \n",
              "\n",
              "[4409474 rows x 6 columns]"
            ]
          },
          "metadata": {},
          "output_type": "display_data"
        }
      ],
      "source": [
        "display(finalDf)"
      ]
    },
    {
      "cell_type": "markdown",
      "id": "1TK38CXlrW1I",
      "metadata": {
        "id": "1TK38CXlrW1I"
      },
      "source": [
        "S'il pleut, la variable class prend comme valeur 1, sinon elle prend comme valeur 2.\n"
      ]
    },
    {
      "cell_type": "code",
      "execution_count": 21,
      "id": "Y3V3kUoe6odE",
      "metadata": {
        "id": "Y3V3kUoe6odE"
      },
      "outputs": [
        {
          "data": {
            "text/html": [
              "<div>\n",
              "<style scoped>\n",
              "    .dataframe tbody tr th:only-of-type {\n",
              "        vertical-align: middle;\n",
              "    }\n",
              "\n",
              "    .dataframe tbody tr th {\n",
              "        vertical-align: top;\n",
              "    }\n",
              "\n",
              "    .dataframe thead th {\n",
              "        text-align: right;\n",
              "    }\n",
              "</style>\n",
              "<table border=\"1\" class=\"dataframe\">\n",
              "  <thead>\n",
              "    <tr style=\"text-align: right;\">\n",
              "      <th></th>\n",
              "      <th>principal component 1</th>\n",
              "      <th>principal component 2</th>\n",
              "      <th>principal component 3</th>\n",
              "      <th>principal component 4</th>\n",
              "      <th>principal component 5</th>\n",
              "      <th>precip</th>\n",
              "      <th>class</th>\n",
              "    </tr>\n",
              "  </thead>\n",
              "  <tbody>\n",
              "    <tr>\n",
              "      <th>0</th>\n",
              "      <td>1.466994</td>\n",
              "      <td>-0.120039</td>\n",
              "      <td>-0.221716</td>\n",
              "      <td>-0.514363</td>\n",
              "      <td>0.139778</td>\n",
              "      <td>0.0</td>\n",
              "      <td>1</td>\n",
              "    </tr>\n",
              "    <tr>\n",
              "      <th>1</th>\n",
              "      <td>1.637976</td>\n",
              "      <td>-0.289884</td>\n",
              "      <td>-0.217261</td>\n",
              "      <td>-0.537407</td>\n",
              "      <td>0.141746</td>\n",
              "      <td>0.0</td>\n",
              "      <td>1</td>\n",
              "    </tr>\n",
              "    <tr>\n",
              "      <th>2</th>\n",
              "      <td>1.791670</td>\n",
              "      <td>-0.409033</td>\n",
              "      <td>-0.222848</td>\n",
              "      <td>-0.529851</td>\n",
              "      <td>0.146857</td>\n",
              "      <td>0.0</td>\n",
              "      <td>1</td>\n",
              "    </tr>\n",
              "    <tr>\n",
              "      <th>3</th>\n",
              "      <td>1.913168</td>\n",
              "      <td>-0.476163</td>\n",
              "      <td>-0.282240</td>\n",
              "      <td>-0.242018</td>\n",
              "      <td>0.165365</td>\n",
              "      <td>0.0</td>\n",
              "      <td>1</td>\n",
              "    </tr>\n",
              "    <tr>\n",
              "      <th>4</th>\n",
              "      <td>2.035037</td>\n",
              "      <td>-0.208536</td>\n",
              "      <td>-0.363414</td>\n",
              "      <td>-0.270697</td>\n",
              "      <td>0.214705</td>\n",
              "      <td>0.0</td>\n",
              "      <td>1</td>\n",
              "    </tr>\n",
              "    <tr>\n",
              "      <th>...</th>\n",
              "      <td>...</td>\n",
              "      <td>...</td>\n",
              "      <td>...</td>\n",
              "      <td>...</td>\n",
              "      <td>...</td>\n",
              "      <td>...</td>\n",
              "      <td>...</td>\n",
              "    </tr>\n",
              "    <tr>\n",
              "      <th>4409469</th>\n",
              "      <td>-0.664325</td>\n",
              "      <td>0.998569</td>\n",
              "      <td>0.327438</td>\n",
              "      <td>0.513937</td>\n",
              "      <td>0.026701</td>\n",
              "      <td>0.0</td>\n",
              "      <td>1</td>\n",
              "    </tr>\n",
              "    <tr>\n",
              "      <th>4409470</th>\n",
              "      <td>-0.549742</td>\n",
              "      <td>0.839466</td>\n",
              "      <td>0.277978</td>\n",
              "      <td>0.474225</td>\n",
              "      <td>0.024837</td>\n",
              "      <td>0.0</td>\n",
              "      <td>1</td>\n",
              "    </tr>\n",
              "    <tr>\n",
              "      <th>4409471</th>\n",
              "      <td>-0.515125</td>\n",
              "      <td>0.873402</td>\n",
              "      <td>0.179495</td>\n",
              "      <td>0.568285</td>\n",
              "      <td>0.034254</td>\n",
              "      <td>0.0</td>\n",
              "      <td>1</td>\n",
              "    </tr>\n",
              "    <tr>\n",
              "      <th>4409472</th>\n",
              "      <td>-0.507336</td>\n",
              "      <td>0.915253</td>\n",
              "      <td>0.230610</td>\n",
              "      <td>0.645880</td>\n",
              "      <td>0.039194</td>\n",
              "      <td>0.0</td>\n",
              "      <td>1</td>\n",
              "    </tr>\n",
              "    <tr>\n",
              "      <th>4409473</th>\n",
              "      <td>-0.441845</td>\n",
              "      <td>0.832547</td>\n",
              "      <td>0.508550</td>\n",
              "      <td>0.647040</td>\n",
              "      <td>0.032299</td>\n",
              "      <td>0.0</td>\n",
              "      <td>1</td>\n",
              "    </tr>\n",
              "  </tbody>\n",
              "</table>\n",
              "<p>4409474 rows × 7 columns</p>\n",
              "</div>"
            ],
            "text/plain": [
              "         principal component 1  principal component 2  principal component 3  \\\n",
              "0                     1.466994              -0.120039              -0.221716   \n",
              "1                     1.637976              -0.289884              -0.217261   \n",
              "2                     1.791670              -0.409033              -0.222848   \n",
              "3                     1.913168              -0.476163              -0.282240   \n",
              "4                     2.035037              -0.208536              -0.363414   \n",
              "...                        ...                    ...                    ...   \n",
              "4409469              -0.664325               0.998569               0.327438   \n",
              "4409470              -0.549742               0.839466               0.277978   \n",
              "4409471              -0.515125               0.873402               0.179495   \n",
              "4409472              -0.507336               0.915253               0.230610   \n",
              "4409473              -0.441845               0.832547               0.508550   \n",
              "\n",
              "         principal component 4  principal component 5  precip  class  \n",
              "0                    -0.514363               0.139778     0.0      1  \n",
              "1                    -0.537407               0.141746     0.0      1  \n",
              "2                    -0.529851               0.146857     0.0      1  \n",
              "3                    -0.242018               0.165365     0.0      1  \n",
              "4                    -0.270697               0.214705     0.0      1  \n",
              "...                        ...                    ...     ...    ...  \n",
              "4409469               0.513937               0.026701     0.0      1  \n",
              "4409470               0.474225               0.024837     0.0      1  \n",
              "4409471               0.568285               0.034254     0.0      1  \n",
              "4409472               0.645880               0.039194     0.0      1  \n",
              "4409473               0.647040               0.032299     0.0      1  \n",
              "\n",
              "[4409474 rows x 7 columns]"
            ]
          },
          "metadata": {},
          "output_type": "display_data"
        }
      ],
      "source": [
        "finalDf['class'] = np.where(finalDf['precip'] == 0,1,2)\n",
        "display(finalDf)\n",
        "\n"
      ]
    },
    {
      "cell_type": "markdown",
      "id": "pH6okXtgki08",
      "metadata": {
        "id": "pH6okXtgki08"
      },
      "source": [
        "Scatter plot avec les deux premières composantes principales"
      ]
    },
    {
      "cell_type": "code",
      "execution_count": 22,
      "id": "0qzFYsPb8D5h",
      "metadata": {
        "id": "0qzFYsPb8D5h"
      },
      "outputs": [
        {
          "data": {
            "text/plain": [
              "<AxesSubplot:xlabel='principal component 1', ylabel='principal component 2'>"
            ]
          },
          "execution_count": 22,
          "metadata": {},
          "output_type": "execute_result"
        },
        {
          "data": {
            "image/png": "[encoded data removed]",
            "text/plain": [
              "<Figure size 432x288 with 1 Axes>"
            ]
          },
          "metadata": {},
          "output_type": "display_data"
        }
      ],
      "source": [
        "sns.scatterplot(data = finalDf,x= 'principal component 1', y = 'principal component 2', hue='class')"
      ]
    },
    {
      "cell_type": "markdown",
      "id": "BL9oMzyRnYnK",
      "metadata": {
        "id": "BL9oMzyRnYnK"
      },
      "source": [
        "En 3 dimensions cela devient illisible."
      ]
    },
    {
      "cell_type": "code",
      "execution_count": 23,
      "id": "NxTVMmbxkeeG",
      "metadata": {
        "id": "NxTVMmbxkeeG"
      },
      "outputs": [
        {
          "name": "stderr",
          "output_type": "stream",
          "text": [
            "No artists with labels found to put in legend.  Note that artists whose label start with an underscore are ignored when legend() is called with no argument.\n"
          ]
        },
        {
          "data": {
            "image/png": "[encoded data removed]",
            "text/plain": [
              "<Figure size 1080x756 with 1 Axes>"
            ]
          },
          "metadata": {},
          "output_type": "display_data"
        }
      ],
      "source": [
        "fig = plt.figure()\n",
        "fig.set_size_inches(15, 10.5)\n",
        "ax = fig.add_subplot(111, projection='3d')\n",
        "x = np.array(finalDf['principal component 1'])\n",
        "y = np.array(finalDf['principal component 2'])\n",
        "z = np.array(finalDf['principal component 3'])\n",
        "ax.scatter(x,y,z, marker=\"s\", c=finalDf[\"class\"], s=20, cmap=\"RdBu\")\n",
        "ax.set_xlabel('Principal Component 1')\n",
        "ax.set_ylabel('Principal Component 2')\n",
        "ax.set_zlabel('Principal Component 3')\n",
        "ax.legend()\n",
        "plt.show()"
      ]
    },
    {
      "cell_type": "markdown",
      "id": "UYYt4UUlnWXb",
      "metadata": {
        "id": "UYYt4UUlnWXb"
      },
      "source": []
    }
  ],
  "metadata": {
    "colab": {
      "collapsed_sections": [],
      "name": "projet2.ipynb",
      "provenance": []
    },
    "kernelspec": {
      "display_name": "Python 3",
      "language": "python",
      "name": "python3"
    },
    "language_info": {
      "codemirror_mode": {
        "name": "ipython",
        "version": 3
      },
      "file_extension": ".py",
      "mimetype": "text/x-python",
      "name": "python",
      "nbconvert_exporter": "python",
      "pygments_lexer": "ipython3",
      "version": "3.9.5"
    },
    "papermill": {
      "default_parameters": {},
      "duration": 39.628329,
      "end_time": "2021-10-07T08:26:53.792240",
      "environment_variables": {},
      "exception": null,
      "input_path": "__notebook__.ipynb",
      "output_path": "__notebook__.ipynb",
      "parameters": {},
      "start_time": "2021-10-07T08:26:14.163911",
      "version": "2.3.3"
    }
  },
  "nbformat": 4,
  "nbformat_minor": 5
}

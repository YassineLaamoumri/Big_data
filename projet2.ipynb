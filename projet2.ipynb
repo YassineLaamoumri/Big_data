{
  "cells": [
    {
      "cell_type": "markdown",
      "id": "fmSp58c_5nIc",
      "metadata": {
        "id": "fmSp58c_5nIc"
      },
      "source": [
        "### Modélisation des données du Défi IA 2021-2022\n",
        "\n",
        "Dans ce calepin, nous décrivons quelques éléments de modélisation des données du  Défi IA 2021-2022. Il est suggéré quelques pistes pour réaliser des statistiques descriptives de ces données ainsi qu'une approche de prévision du cumul de pluie à l'aide de la régression linéaire. Des codes en Python sont également proposés. Le but de calepin est également de vous aider à initier la rédaction d'un rapport sur votre travail dans ce Défi IA.\n",
        "\n",
        "#### Données disponibles sur les stations de mesure\n",
        "\n",
        "Sur les années 2016 et 2017, données d'apprentissage sur $N$ stations météorologiques dont on dispose des coordonnées spatiales (latitude et longitude).\n",
        "\n",
        "Pour chaque station $1 \\leq i \\leq N$, on dispose des mesures suivantes :\n",
        "\n",
        "**Variables explicatives** : mesure de $p$ variables $X_{ijt} = (X_{ijt}^{(k)})_{1 \\leq k \\leq p} \\in \\mathbb{R}^{p}$ pour la station $i$, le jour $j$ (variable non-ordonnée car non-disponible dans l'ensemble test) et l'heure $t \\in \\{0,\\ldots,23 \\}$ (variable ordonnée disponible dans l'ensemble test). Les mesures sont\n",
        "\n",
        "- 'ff' : *inclure une description*\n",
        "- 't' : *inclure une description*\n",
        "- 'td' : *inclure une description*\n",
        "- 'hu' : *humidité*\n",
        "- 'dd' : *inclure une description*\n",
        "- 'precip' : *cumul de pluie sur une heure en ml*\n",
        "\n",
        "On peut également ajouter une variable sur le mois de l'année car cette information est disponible dans l'ensemble test.\n",
        "\n",
        "\n",
        "**Variable à expliquer/prédire** : cumul de pluie $Y_{ij}$ sur une journée au jour $j+1$ dans la station $i$ à partir des données disponibles au jour $j$. Dans l'ensemble d'apprentissage, on dipose en fait de la variable $Y_{ijt}$ cumul de pluie  sur une journée au jour $j+1$ dans la station $i$ et àl'heure $t$. De façon évidente on a que (avec $T=23$)\n",
        "$$\n",
        "Y_{ij} = \\sum_{t = 0}^{T} Y_{ijt}\n",
        "$$\n",
        "\n",
        "**Travail préliminaire** : proposer une analyse descriptive de ces données : boxplot, histogramme uni-varié, ACP pour étude des corrélation entre variables explicatives, etc...\n",
        "\n",
        "**Modèles linéaires possibles de prévision du cumul de pluie** : \n",
        "\n",
        "*Modèle global temps par temps*\n",
        "\n",
        "$$\n",
        "Y_{ijt} = \\theta_{0}^{t} + \\sum_{k = 1}^{p} \\theta_{k}^{t}X_{ijt}^{(k)} + \\varepsilon_{ijt}\n",
        "$$\n",
        "\n",
        "et prévision par $\\hat{Y}_{ij} = \\sum_{t = 0}^{T} \\hat{Y}_{ijt} $ où $\\hat{Y}_{ijt} = \\hat{\\theta}_{0}^{t} + \\sum_{k = 1}^{p} \\hat{\\theta}_{k}^{t}X_{ijt}^{(k)}$\n",
        "\n",
        "*Modèle par station et temps par temps*\n",
        "\n",
        "$$\n",
        "Y_{ijt} = \\theta_{0,i}^{t} + \\sum_{k = 1}^{p} \\theta_{k,i}^{t}X_{ijt}^{(k)} + \\varepsilon_{ijt}\n",
        "$$\n",
        "\n",
        "où les cofficients du modèle linéaire varient selon la station de mesure.\n",
        "\n",
        "*Modèle global avec agrégation du temps*\n",
        "\n",
        "$$\n",
        "Y_{ij} = \\theta_{0} + \\sum_{t = 0}^{T}  \\sum_{k = 1}^{p} \\theta_{k}^{t}X_{ijt}^{(k)} + \\varepsilon_{ij}\n",
        "$$\n",
        "\n",
        "et bien d'autres modèles sont possibles !"
      ]
    },
    {
      "cell_type": "code",
      "execution_count": null,
      "id": "C9QxbHgW_XNg",
      "metadata": {
        "id": "C9QxbHgW_XNg"
      },
      "outputs": [],
      "source": []
    },
    {
      "cell_type": "code",
      "execution_count": 2,
      "id": "soXUjKP__g3x",
      "metadata": {
        "colab": {
          "base_uri": "https://localhost:8080/"
        },
        "id": "soXUjKP__g3x",
        "outputId": "239da4af-4135-4b68-fac3-d94cd88e85a2"
      },
      "outputs": [],
      "source": [
        "#from google.colab import drive\n",
        "#drive.mount('/content/drive',force_remount=True)"
      ]
    },
    {
      "cell_type": "code",
      "execution_count": 3,
      "id": "0xCTnK0V_tBO",
      "metadata": {
        "id": "0xCTnK0V_tBO"
      },
      "outputs": [],
      "source": [
        "#import os\n",
        "#os.chdir('/content/drive/My Drive/Données Massives/')"
      ]
    },
    {
      "cell_type": "code",
      "execution_count": 4,
      "id": "PcBf1UqmC8ub",
      "metadata": {
        "id": "PcBf1UqmC8ub"
      },
      "outputs": [],
      "source": [
        "import matplotlib.pyplot as plt\n",
        "from IPython.display import display\n"
      ]
    },
    {
      "cell_type": "code",
      "execution_count": 5,
      "id": "mFKj1Mq_5nIh",
      "metadata": {
        "_cell_guid": "b1076dfc-b9ad-4769-8c92-a6c4dae69d19",
        "_uuid": "8f2839f25d086af736a60e9eeb907d3b93b6e0e5",
        "execution": {
          "iopub.execute_input": "2021-10-07T08:26:22.782954Z",
          "iopub.status.busy": "2021-10-07T08:26:22.782072Z",
          "iopub.status.idle": "2021-10-07T08:26:22.786494Z",
          "shell.execute_reply": "2021-10-07T08:26:22.785723Z",
          "shell.execute_reply.started": "2021-10-07T08:23:02.804372Z"
        },
        "id": "mFKj1Mq_5nIh",
        "papermill": {
          "duration": 0.026187,
          "end_time": "2021-10-07T08:26:22.786670",
          "exception": false,
          "start_time": "2021-10-07T08:26:22.760483",
          "status": "completed"
        },
        "tags": []
      },
      "outputs": [],
      "source": [
        "import pandas as pd\n",
        "import datetime\n",
        "import seaborn as sns\n",
        "import numpy as np\n",
        "\n",
        "# Suppression des messages d'erreur liés à des besoins de mise à jour de syntaxe en Python\n",
        "import warnings\n",
        "\n",
        "def fxn():\n",
        "    warnings.warn(\"deprecated\", DeprecationWarning)\n",
        "\n",
        "with warnings.catch_warnings():\n",
        "    warnings.simplefilter(\"ignore\")\n",
        "    fxn()\n",
        "\n",
        "warnings.filterwarnings(\"ignore\")"
      ]
    },
    {
      "cell_type": "code",
      "execution_count": 6,
      "id": "qaYvJsal5nIi",
      "metadata": {
        "colab": {
          "base_uri": "https://localhost:8080/",
          "height": 424
        },
        "id": "qaYvJsal5nIi",
        "outputId": "9c2c00cf-2f04-4841-e24d-6d88f7a6ad1b"
      },
      "outputs": [
        {
          "data": {
            "text/html": [
              "<div>\n",
              "<style scoped>\n",
              "    .dataframe tbody tr th:only-of-type {\n",
              "        vertical-align: middle;\n",
              "    }\n",
              "\n",
              "    .dataframe tbody tr th {\n",
              "        vertical-align: top;\n",
              "    }\n",
              "\n",
              "    .dataframe thead th {\n",
              "        text-align: right;\n",
              "    }\n",
              "</style>\n",
              "<table border=\"1\" class=\"dataframe\">\n",
              "  <thead>\n",
              "    <tr style=\"text-align: right;\">\n",
              "      <th></th>\n",
              "      <th>number_sta</th>\n",
              "      <th>date</th>\n",
              "      <th>ff</th>\n",
              "      <th>t</th>\n",
              "      <th>td</th>\n",
              "      <th>hu</th>\n",
              "      <th>dd</th>\n",
              "      <th>precip</th>\n",
              "      <th>Id</th>\n",
              "    </tr>\n",
              "  </thead>\n",
              "  <tbody>\n",
              "    <tr>\n",
              "      <th>0</th>\n",
              "      <td>14066001</td>\n",
              "      <td>2016-01-01 00:00:00</td>\n",
              "      <td>3.05</td>\n",
              "      <td>279.28</td>\n",
              "      <td>277.97</td>\n",
              "      <td>91.4</td>\n",
              "      <td>200.0</td>\n",
              "      <td>0.0</td>\n",
              "      <td>14066001_0_0</td>\n",
              "    </tr>\n",
              "    <tr>\n",
              "      <th>1</th>\n",
              "      <td>14066001</td>\n",
              "      <td>2016-01-01 01:00:00</td>\n",
              "      <td>2.57</td>\n",
              "      <td>278.76</td>\n",
              "      <td>277.45</td>\n",
              "      <td>91.4</td>\n",
              "      <td>190.0</td>\n",
              "      <td>0.0</td>\n",
              "      <td>14066001_0_1</td>\n",
              "    </tr>\n",
              "    <tr>\n",
              "      <th>2</th>\n",
              "      <td>14066001</td>\n",
              "      <td>2016-01-01 02:00:00</td>\n",
              "      <td>2.26</td>\n",
              "      <td>278.27</td>\n",
              "      <td>277.02</td>\n",
              "      <td>91.7</td>\n",
              "      <td>181.0</td>\n",
              "      <td>0.0</td>\n",
              "      <td>14066001_0_2</td>\n",
              "    </tr>\n",
              "    <tr>\n",
              "      <th>3</th>\n",
              "      <td>14066001</td>\n",
              "      <td>2016-01-01 03:00:00</td>\n",
              "      <td>2.62</td>\n",
              "      <td>277.98</td>\n",
              "      <td>276.95</td>\n",
              "      <td>93.0</td>\n",
              "      <td>159.0</td>\n",
              "      <td>0.0</td>\n",
              "      <td>14066001_0_3</td>\n",
              "    </tr>\n",
              "    <tr>\n",
              "      <th>4</th>\n",
              "      <td>14066001</td>\n",
              "      <td>2016-01-01 04:00:00</td>\n",
              "      <td>2.99</td>\n",
              "      <td>277.32</td>\n",
              "      <td>276.72</td>\n",
              "      <td>95.9</td>\n",
              "      <td>171.0</td>\n",
              "      <td>0.0</td>\n",
              "      <td>14066001_0_4</td>\n",
              "    </tr>\n",
              "    <tr>\n",
              "      <th>...</th>\n",
              "      <td>...</td>\n",
              "      <td>...</td>\n",
              "      <td>...</td>\n",
              "      <td>...</td>\n",
              "      <td>...</td>\n",
              "      <td>...</td>\n",
              "      <td>...</td>\n",
              "      <td>...</td>\n",
              "      <td>...</td>\n",
              "    </tr>\n",
              "    <tr>\n",
              "      <th>4409469</th>\n",
              "      <td>95690001</td>\n",
              "      <td>2017-12-30 19:00:00</td>\n",
              "      <td>9.10</td>\n",
              "      <td>286.68</td>\n",
              "      <td>283.44</td>\n",
              "      <td>80.8</td>\n",
              "      <td>239.0</td>\n",
              "      <td>0.0</td>\n",
              "      <td>95690001_729_19</td>\n",
              "    </tr>\n",
              "    <tr>\n",
              "      <th>4409470</th>\n",
              "      <td>95690001</td>\n",
              "      <td>2017-12-30 20:00:00</td>\n",
              "      <td>8.58</td>\n",
              "      <td>286.39</td>\n",
              "      <td>283.21</td>\n",
              "      <td>81.1</td>\n",
              "      <td>231.0</td>\n",
              "      <td>0.0</td>\n",
              "      <td>95690001_729_20</td>\n",
              "    </tr>\n",
              "    <tr>\n",
              "      <th>4409471</th>\n",
              "      <td>95690001</td>\n",
              "      <td>2017-12-30 21:00:00</td>\n",
              "      <td>8.74</td>\n",
              "      <td>286.28</td>\n",
              "      <td>283.40</td>\n",
              "      <td>82.6</td>\n",
              "      <td>226.0</td>\n",
              "      <td>0.0</td>\n",
              "      <td>95690001_729_21</td>\n",
              "    </tr>\n",
              "    <tr>\n",
              "      <th>4409472</th>\n",
              "      <td>95690001</td>\n",
              "      <td>2017-12-30 22:00:00</td>\n",
              "      <td>9.04</td>\n",
              "      <td>286.21</td>\n",
              "      <td>283.29</td>\n",
              "      <td>82.4</td>\n",
              "      <td>224.0</td>\n",
              "      <td>0.0</td>\n",
              "      <td>95690001_729_22</td>\n",
              "    </tr>\n",
              "    <tr>\n",
              "      <th>4409473</th>\n",
              "      <td>95690001</td>\n",
              "      <td>2017-12-30 23:00:00</td>\n",
              "      <td>9.11</td>\n",
              "      <td>285.92</td>\n",
              "      <td>282.42</td>\n",
              "      <td>79.4</td>\n",
              "      <td>221.0</td>\n",
              "      <td>0.0</td>\n",
              "      <td>95690001_729_23</td>\n",
              "    </tr>\n",
              "  </tbody>\n",
              "</table>\n",
              "<p>4409474 rows × 9 columns</p>\n",
              "</div>"
            ],
            "text/plain": [
              "        number_sta                date    ff       t      td    hu     dd  \\\n",
              "0         14066001 2016-01-01 00:00:00  3.05  279.28  277.97  91.4  200.0   \n",
              "1         14066001 2016-01-01 01:00:00  2.57  278.76  277.45  91.4  190.0   \n",
              "2         14066001 2016-01-01 02:00:00  2.26  278.27  277.02  91.7  181.0   \n",
              "3         14066001 2016-01-01 03:00:00  2.62  277.98  276.95  93.0  159.0   \n",
              "4         14066001 2016-01-01 04:00:00  2.99  277.32  276.72  95.9  171.0   \n",
              "...            ...                 ...   ...     ...     ...   ...    ...   \n",
              "4409469   95690001 2017-12-30 19:00:00  9.10  286.68  283.44  80.8  239.0   \n",
              "4409470   95690001 2017-12-30 20:00:00  8.58  286.39  283.21  81.1  231.0   \n",
              "4409471   95690001 2017-12-30 21:00:00  8.74  286.28  283.40  82.6  226.0   \n",
              "4409472   95690001 2017-12-30 22:00:00  9.04  286.21  283.29  82.4  224.0   \n",
              "4409473   95690001 2017-12-30 23:00:00  9.11  285.92  282.42  79.4  221.0   \n",
              "\n",
              "         precip               Id  \n",
              "0           0.0     14066001_0_0  \n",
              "1           0.0     14066001_0_1  \n",
              "2           0.0     14066001_0_2  \n",
              "3           0.0     14066001_0_3  \n",
              "4           0.0     14066001_0_4  \n",
              "...         ...              ...  \n",
              "4409469     0.0  95690001_729_19  \n",
              "4409470     0.0  95690001_729_20  \n",
              "4409471     0.0  95690001_729_21  \n",
              "4409472     0.0  95690001_729_22  \n",
              "4409473     0.0  95690001_729_23  \n",
              "\n",
              "[4409474 rows x 9 columns]"
            ]
          },
          "execution_count": 6,
          "metadata": {},
          "output_type": "execute_result"
        }
      ],
      "source": [
        "# Lecture des données de l'ensemble d'apprentissage \n",
        "\n",
        "path = 'defi-ia-2022/Train/Train/X_station_train.csv'\n",
        "first_date = datetime.datetime(2016,1,1)    \n",
        "last_date = datetime.datetime(2017,12,31)\n",
        "\n",
        "# Read the ground station data\n",
        "def read_gs_data(fname):\n",
        "    gs_data = pd.read_csv(fname,parse_dates=['date'],infer_datetime_format=True)\n",
        "    gs_data = gs_data.sort_values(by=[\"number_sta\",\"date\"])\n",
        "    return gs_data\n",
        "\n",
        "x = read_gs_data(path)\n",
        "x['number_sta']=x['number_sta'].astype('category')\n",
        "\n",
        "# Tri par station puis par datea\n",
        "x = x.sort_values(['number_sta','date'])\n",
        "x"
      ]
    },
    {
      "cell_type": "code",
      "execution_count": 7,
      "id": "rAFqSjtz5nIj",
      "metadata": {
        "colab": {
          "base_uri": "https://localhost:8080/",
          "height": 424
        },
        "id": "rAFqSjtz5nIj",
        "outputId": "7ba58d9c-3ffa-4d1d-bac7-ebfd4a4ecd10"
      },
      "outputs": [
        {
          "data": {
            "text/html": [
              "<div>\n",
              "<style scoped>\n",
              "    .dataframe tbody tr th:only-of-type {\n",
              "        vertical-align: middle;\n",
              "    }\n",
              "\n",
              "    .dataframe tbody tr th {\n",
              "        vertical-align: top;\n",
              "    }\n",
              "\n",
              "    .dataframe thead th {\n",
              "        text-align: right;\n",
              "    }\n",
              "</style>\n",
              "<table border=\"1\" class=\"dataframe\">\n",
              "  <thead>\n",
              "    <tr style=\"text-align: right;\">\n",
              "      <th></th>\n",
              "      <th>number_sta</th>\n",
              "      <th>date</th>\n",
              "      <th>ff</th>\n",
              "      <th>t</th>\n",
              "      <th>td</th>\n",
              "      <th>hu</th>\n",
              "      <th>dd</th>\n",
              "      <th>precip</th>\n",
              "      <th>Id</th>\n",
              "      <th>day</th>\n",
              "      <th>hour</th>\n",
              "    </tr>\n",
              "  </thead>\n",
              "  <tbody>\n",
              "    <tr>\n",
              "      <th>0</th>\n",
              "      <td>14066001</td>\n",
              "      <td>2016-01-01 00:00:00</td>\n",
              "      <td>3.05</td>\n",
              "      <td>279.28</td>\n",
              "      <td>277.97</td>\n",
              "      <td>91.4</td>\n",
              "      <td>200.0</td>\n",
              "      <td>0.0</td>\n",
              "      <td>14066001_0_0</td>\n",
              "      <td>0</td>\n",
              "      <td>0</td>\n",
              "    </tr>\n",
              "    <tr>\n",
              "      <th>1</th>\n",
              "      <td>14066001</td>\n",
              "      <td>2016-01-01 01:00:00</td>\n",
              "      <td>2.57</td>\n",
              "      <td>278.76</td>\n",
              "      <td>277.45</td>\n",
              "      <td>91.4</td>\n",
              "      <td>190.0</td>\n",
              "      <td>0.0</td>\n",
              "      <td>14066001_0_1</td>\n",
              "      <td>0</td>\n",
              "      <td>1</td>\n",
              "    </tr>\n",
              "    <tr>\n",
              "      <th>2</th>\n",
              "      <td>14066001</td>\n",
              "      <td>2016-01-01 02:00:00</td>\n",
              "      <td>2.26</td>\n",
              "      <td>278.27</td>\n",
              "      <td>277.02</td>\n",
              "      <td>91.7</td>\n",
              "      <td>181.0</td>\n",
              "      <td>0.0</td>\n",
              "      <td>14066001_0_2</td>\n",
              "      <td>0</td>\n",
              "      <td>2</td>\n",
              "    </tr>\n",
              "    <tr>\n",
              "      <th>3</th>\n",
              "      <td>14066001</td>\n",
              "      <td>2016-01-01 03:00:00</td>\n",
              "      <td>2.62</td>\n",
              "      <td>277.98</td>\n",
              "      <td>276.95</td>\n",
              "      <td>93.0</td>\n",
              "      <td>159.0</td>\n",
              "      <td>0.0</td>\n",
              "      <td>14066001_0_3</td>\n",
              "      <td>0</td>\n",
              "      <td>3</td>\n",
              "    </tr>\n",
              "    <tr>\n",
              "      <th>4</th>\n",
              "      <td>14066001</td>\n",
              "      <td>2016-01-01 04:00:00</td>\n",
              "      <td>2.99</td>\n",
              "      <td>277.32</td>\n",
              "      <td>276.72</td>\n",
              "      <td>95.9</td>\n",
              "      <td>171.0</td>\n",
              "      <td>0.0</td>\n",
              "      <td>14066001_0_4</td>\n",
              "      <td>0</td>\n",
              "      <td>4</td>\n",
              "    </tr>\n",
              "    <tr>\n",
              "      <th>...</th>\n",
              "      <td>...</td>\n",
              "      <td>...</td>\n",
              "      <td>...</td>\n",
              "      <td>...</td>\n",
              "      <td>...</td>\n",
              "      <td>...</td>\n",
              "      <td>...</td>\n",
              "      <td>...</td>\n",
              "      <td>...</td>\n",
              "      <td>...</td>\n",
              "      <td>...</td>\n",
              "    </tr>\n",
              "    <tr>\n",
              "      <th>4409469</th>\n",
              "      <td>95690001</td>\n",
              "      <td>2017-12-30 19:00:00</td>\n",
              "      <td>9.10</td>\n",
              "      <td>286.68</td>\n",
              "      <td>283.44</td>\n",
              "      <td>80.8</td>\n",
              "      <td>239.0</td>\n",
              "      <td>0.0</td>\n",
              "      <td>95690001_729_19</td>\n",
              "      <td>729</td>\n",
              "      <td>19</td>\n",
              "    </tr>\n",
              "    <tr>\n",
              "      <th>4409470</th>\n",
              "      <td>95690001</td>\n",
              "      <td>2017-12-30 20:00:00</td>\n",
              "      <td>8.58</td>\n",
              "      <td>286.39</td>\n",
              "      <td>283.21</td>\n",
              "      <td>81.1</td>\n",
              "      <td>231.0</td>\n",
              "      <td>0.0</td>\n",
              "      <td>95690001_729_20</td>\n",
              "      <td>729</td>\n",
              "      <td>20</td>\n",
              "    </tr>\n",
              "    <tr>\n",
              "      <th>4409471</th>\n",
              "      <td>95690001</td>\n",
              "      <td>2017-12-30 21:00:00</td>\n",
              "      <td>8.74</td>\n",
              "      <td>286.28</td>\n",
              "      <td>283.40</td>\n",
              "      <td>82.6</td>\n",
              "      <td>226.0</td>\n",
              "      <td>0.0</td>\n",
              "      <td>95690001_729_21</td>\n",
              "      <td>729</td>\n",
              "      <td>21</td>\n",
              "    </tr>\n",
              "    <tr>\n",
              "      <th>4409472</th>\n",
              "      <td>95690001</td>\n",
              "      <td>2017-12-30 22:00:00</td>\n",
              "      <td>9.04</td>\n",
              "      <td>286.21</td>\n",
              "      <td>283.29</td>\n",
              "      <td>82.4</td>\n",
              "      <td>224.0</td>\n",
              "      <td>0.0</td>\n",
              "      <td>95690001_729_22</td>\n",
              "      <td>729</td>\n",
              "      <td>22</td>\n",
              "    </tr>\n",
              "    <tr>\n",
              "      <th>4409473</th>\n",
              "      <td>95690001</td>\n",
              "      <td>2017-12-30 23:00:00</td>\n",
              "      <td>9.11</td>\n",
              "      <td>285.92</td>\n",
              "      <td>282.42</td>\n",
              "      <td>79.4</td>\n",
              "      <td>221.0</td>\n",
              "      <td>0.0</td>\n",
              "      <td>95690001_729_23</td>\n",
              "      <td>729</td>\n",
              "      <td>23</td>\n",
              "    </tr>\n",
              "  </tbody>\n",
              "</table>\n",
              "<p>4409474 rows × 11 columns</p>\n",
              "</div>"
            ],
            "text/plain": [
              "        number_sta                date    ff       t      td    hu     dd  \\\n",
              "0         14066001 2016-01-01 00:00:00  3.05  279.28  277.97  91.4  200.0   \n",
              "1         14066001 2016-01-01 01:00:00  2.57  278.76  277.45  91.4  190.0   \n",
              "2         14066001 2016-01-01 02:00:00  2.26  278.27  277.02  91.7  181.0   \n",
              "3         14066001 2016-01-01 03:00:00  2.62  277.98  276.95  93.0  159.0   \n",
              "4         14066001 2016-01-01 04:00:00  2.99  277.32  276.72  95.9  171.0   \n",
              "...            ...                 ...   ...     ...     ...   ...    ...   \n",
              "4409469   95690001 2017-12-30 19:00:00  9.10  286.68  283.44  80.8  239.0   \n",
              "4409470   95690001 2017-12-30 20:00:00  8.58  286.39  283.21  81.1  231.0   \n",
              "4409471   95690001 2017-12-30 21:00:00  8.74  286.28  283.40  82.6  226.0   \n",
              "4409472   95690001 2017-12-30 22:00:00  9.04  286.21  283.29  82.4  224.0   \n",
              "4409473   95690001 2017-12-30 23:00:00  9.11  285.92  282.42  79.4  221.0   \n",
              "\n",
              "         precip               Id  day hour  \n",
              "0           0.0     14066001_0_0    0    0  \n",
              "1           0.0     14066001_0_1    0    1  \n",
              "2           0.0     14066001_0_2    0    2  \n",
              "3           0.0     14066001_0_3    0    3  \n",
              "4           0.0     14066001_0_4    0    4  \n",
              "...         ...              ...  ...  ...  \n",
              "4409469     0.0  95690001_729_19  729   19  \n",
              "4409470     0.0  95690001_729_20  729   20  \n",
              "4409471     0.0  95690001_729_21  729   21  \n",
              "4409472     0.0  95690001_729_22  729   22  \n",
              "4409473     0.0  95690001_729_23  729   23  \n",
              "\n",
              "[4409474 rows x 11 columns]"
            ]
          },
          "metadata": {},
          "output_type": "display_data"
        }
      ],
      "source": [
        "# Ajout des variables jour et heure\n",
        "Xtrain = x\n",
        "split_Id = Xtrain['Id'].str.split(pat=\"_\", expand = True)\n",
        "split_Id = split_Id.rename(columns={0: \"number_sta_2\", 1: \"day\", 2: \"hour\"})\n",
        "Xtrain['number_sta_2'] = split_Id['number_sta_2']\n",
        "Xtrain['day'] = split_Id[\"day\"]\n",
        "Xtrain['hour'] = split_Id[\"hour\"]\n",
        "Xtrain = Xtrain.drop(\"number_sta_2\",axis=1)\n",
        "display(Xtrain) "
      ]
    },
    {
      "cell_type": "code",
      "execution_count": 8,
      "id": "qlxBWBwMC4CV",
      "metadata": {
        "colab": {
          "base_uri": "https://localhost:8080/",
          "height": 424
        },
        "id": "qlxBWBwMC4CV",
        "outputId": "b7479e89-ab1e-423a-b332-57ccfaba610b"
      },
      "outputs": [
        {
          "data": {
            "text/html": [
              "<div>\n",
              "<style scoped>\n",
              "    .dataframe tbody tr th:only-of-type {\n",
              "        vertical-align: middle;\n",
              "    }\n",
              "\n",
              "    .dataframe tbody tr th {\n",
              "        vertical-align: top;\n",
              "    }\n",
              "\n",
              "    .dataframe thead th {\n",
              "        text-align: right;\n",
              "    }\n",
              "</style>\n",
              "<table border=\"1\" class=\"dataframe\">\n",
              "  <thead>\n",
              "    <tr style=\"text-align: right;\">\n",
              "      <th></th>\n",
              "      <th>number_sta</th>\n",
              "      <th>date</th>\n",
              "      <th>ff</th>\n",
              "      <th>t</th>\n",
              "      <th>td</th>\n",
              "      <th>hu</th>\n",
              "      <th>dd</th>\n",
              "      <th>precip</th>\n",
              "      <th>Id</th>\n",
              "      <th>day</th>\n",
              "      <th>hour</th>\n",
              "      <th>month</th>\n",
              "    </tr>\n",
              "  </thead>\n",
              "  <tbody>\n",
              "    <tr>\n",
              "      <th>0</th>\n",
              "      <td>14066001</td>\n",
              "      <td>2016-01-01 00:00:00</td>\n",
              "      <td>3.05</td>\n",
              "      <td>279.28</td>\n",
              "      <td>277.97</td>\n",
              "      <td>91.4</td>\n",
              "      <td>200.0</td>\n",
              "      <td>0.0</td>\n",
              "      <td>14066001_0_0</td>\n",
              "      <td>0</td>\n",
              "      <td>0</td>\n",
              "      <td>1</td>\n",
              "    </tr>\n",
              "    <tr>\n",
              "      <th>1</th>\n",
              "      <td>14066001</td>\n",
              "      <td>2016-01-01 01:00:00</td>\n",
              "      <td>2.57</td>\n",
              "      <td>278.76</td>\n",
              "      <td>277.45</td>\n",
              "      <td>91.4</td>\n",
              "      <td>190.0</td>\n",
              "      <td>0.0</td>\n",
              "      <td>14066001_0_1</td>\n",
              "      <td>0</td>\n",
              "      <td>1</td>\n",
              "      <td>1</td>\n",
              "    </tr>\n",
              "    <tr>\n",
              "      <th>2</th>\n",
              "      <td>14066001</td>\n",
              "      <td>2016-01-01 02:00:00</td>\n",
              "      <td>2.26</td>\n",
              "      <td>278.27</td>\n",
              "      <td>277.02</td>\n",
              "      <td>91.7</td>\n",
              "      <td>181.0</td>\n",
              "      <td>0.0</td>\n",
              "      <td>14066001_0_2</td>\n",
              "      <td>0</td>\n",
              "      <td>2</td>\n",
              "      <td>1</td>\n",
              "    </tr>\n",
              "    <tr>\n",
              "      <th>3</th>\n",
              "      <td>14066001</td>\n",
              "      <td>2016-01-01 03:00:00</td>\n",
              "      <td>2.62</td>\n",
              "      <td>277.98</td>\n",
              "      <td>276.95</td>\n",
              "      <td>93.0</td>\n",
              "      <td>159.0</td>\n",
              "      <td>0.0</td>\n",
              "      <td>14066001_0_3</td>\n",
              "      <td>0</td>\n",
              "      <td>3</td>\n",
              "      <td>1</td>\n",
              "    </tr>\n",
              "    <tr>\n",
              "      <th>4</th>\n",
              "      <td>14066001</td>\n",
              "      <td>2016-01-01 04:00:00</td>\n",
              "      <td>2.99</td>\n",
              "      <td>277.32</td>\n",
              "      <td>276.72</td>\n",
              "      <td>95.9</td>\n",
              "      <td>171.0</td>\n",
              "      <td>0.0</td>\n",
              "      <td>14066001_0_4</td>\n",
              "      <td>0</td>\n",
              "      <td>4</td>\n",
              "      <td>1</td>\n",
              "    </tr>\n",
              "    <tr>\n",
              "      <th>...</th>\n",
              "      <td>...</td>\n",
              "      <td>...</td>\n",
              "      <td>...</td>\n",
              "      <td>...</td>\n",
              "      <td>...</td>\n",
              "      <td>...</td>\n",
              "      <td>...</td>\n",
              "      <td>...</td>\n",
              "      <td>...</td>\n",
              "      <td>...</td>\n",
              "      <td>...</td>\n",
              "      <td>...</td>\n",
              "    </tr>\n",
              "    <tr>\n",
              "      <th>4409469</th>\n",
              "      <td>95690001</td>\n",
              "      <td>2017-12-30 19:00:00</td>\n",
              "      <td>9.10</td>\n",
              "      <td>286.68</td>\n",
              "      <td>283.44</td>\n",
              "      <td>80.8</td>\n",
              "      <td>239.0</td>\n",
              "      <td>0.0</td>\n",
              "      <td>95690001_729_19</td>\n",
              "      <td>729</td>\n",
              "      <td>19</td>\n",
              "      <td>12</td>\n",
              "    </tr>\n",
              "    <tr>\n",
              "      <th>4409470</th>\n",
              "      <td>95690001</td>\n",
              "      <td>2017-12-30 20:00:00</td>\n",
              "      <td>8.58</td>\n",
              "      <td>286.39</td>\n",
              "      <td>283.21</td>\n",
              "      <td>81.1</td>\n",
              "      <td>231.0</td>\n",
              "      <td>0.0</td>\n",
              "      <td>95690001_729_20</td>\n",
              "      <td>729</td>\n",
              "      <td>20</td>\n",
              "      <td>12</td>\n",
              "    </tr>\n",
              "    <tr>\n",
              "      <th>4409471</th>\n",
              "      <td>95690001</td>\n",
              "      <td>2017-12-30 21:00:00</td>\n",
              "      <td>8.74</td>\n",
              "      <td>286.28</td>\n",
              "      <td>283.40</td>\n",
              "      <td>82.6</td>\n",
              "      <td>226.0</td>\n",
              "      <td>0.0</td>\n",
              "      <td>95690001_729_21</td>\n",
              "      <td>729</td>\n",
              "      <td>21</td>\n",
              "      <td>12</td>\n",
              "    </tr>\n",
              "    <tr>\n",
              "      <th>4409472</th>\n",
              "      <td>95690001</td>\n",
              "      <td>2017-12-30 22:00:00</td>\n",
              "      <td>9.04</td>\n",
              "      <td>286.21</td>\n",
              "      <td>283.29</td>\n",
              "      <td>82.4</td>\n",
              "      <td>224.0</td>\n",
              "      <td>0.0</td>\n",
              "      <td>95690001_729_22</td>\n",
              "      <td>729</td>\n",
              "      <td>22</td>\n",
              "      <td>12</td>\n",
              "    </tr>\n",
              "    <tr>\n",
              "      <th>4409473</th>\n",
              "      <td>95690001</td>\n",
              "      <td>2017-12-30 23:00:00</td>\n",
              "      <td>9.11</td>\n",
              "      <td>285.92</td>\n",
              "      <td>282.42</td>\n",
              "      <td>79.4</td>\n",
              "      <td>221.0</td>\n",
              "      <td>0.0</td>\n",
              "      <td>95690001_729_23</td>\n",
              "      <td>729</td>\n",
              "      <td>23</td>\n",
              "      <td>12</td>\n",
              "    </tr>\n",
              "  </tbody>\n",
              "</table>\n",
              "<p>4409474 rows × 12 columns</p>\n",
              "</div>"
            ],
            "text/plain": [
              "        number_sta                date    ff       t      td    hu     dd  \\\n",
              "0         14066001 2016-01-01 00:00:00  3.05  279.28  277.97  91.4  200.0   \n",
              "1         14066001 2016-01-01 01:00:00  2.57  278.76  277.45  91.4  190.0   \n",
              "2         14066001 2016-01-01 02:00:00  2.26  278.27  277.02  91.7  181.0   \n",
              "3         14066001 2016-01-01 03:00:00  2.62  277.98  276.95  93.0  159.0   \n",
              "4         14066001 2016-01-01 04:00:00  2.99  277.32  276.72  95.9  171.0   \n",
              "...            ...                 ...   ...     ...     ...   ...    ...   \n",
              "4409469   95690001 2017-12-30 19:00:00  9.10  286.68  283.44  80.8  239.0   \n",
              "4409470   95690001 2017-12-30 20:00:00  8.58  286.39  283.21  81.1  231.0   \n",
              "4409471   95690001 2017-12-30 21:00:00  8.74  286.28  283.40  82.6  226.0   \n",
              "4409472   95690001 2017-12-30 22:00:00  9.04  286.21  283.29  82.4  224.0   \n",
              "4409473   95690001 2017-12-30 23:00:00  9.11  285.92  282.42  79.4  221.0   \n",
              "\n",
              "         precip               Id  day hour  month  \n",
              "0           0.0     14066001_0_0    0    0      1  \n",
              "1           0.0     14066001_0_1    0    1      1  \n",
              "2           0.0     14066001_0_2    0    2      1  \n",
              "3           0.0     14066001_0_3    0    3      1  \n",
              "4           0.0     14066001_0_4    0    4      1  \n",
              "...         ...              ...  ...  ...    ...  \n",
              "4409469     0.0  95690001_729_19  729   19     12  \n",
              "4409470     0.0  95690001_729_20  729   20     12  \n",
              "4409471     0.0  95690001_729_21  729   21     12  \n",
              "4409472     0.0  95690001_729_22  729   22     12  \n",
              "4409473     0.0  95690001_729_23  729   23     12  \n",
              "\n",
              "[4409474 rows x 12 columns]"
            ]
          },
          "metadata": {},
          "output_type": "display_data"
        }
      ],
      "source": [
        "#Ajout de mois \n",
        "\n",
        "Xtrain['month'] = pd.DatetimeIndex(Xtrain['date']).month\n",
        "display(Xtrain) "
      ]
    },
    {
      "cell_type": "code",
      "execution_count": 9,
      "id": "68IcBACT5nIj",
      "metadata": {
        "id": "68IcBACT5nIj"
      },
      "outputs": [],
      "source": [
        "################################################\n",
        "# Inclure une analyse desciptive des données ! #\n",
        "################################################"
      ]
    },
    {
      "cell_type": "markdown",
      "id": "86_cKBRpPLdQ",
      "metadata": {
        "id": "86_cKBRpPLdQ"
      },
      "source": [
        "Barplot des précipitations"
      ]
    },
    {
      "cell_type": "code",
      "execution_count": 10,
      "id": "BOHN5mmPNyxa",
      "metadata": {
        "id": "BOHN5mmPNyxa"
      },
      "outputs": [],
      "source": [
        "# bins = [0,1,2,4,5,6,7,8,9,10,20,30]\n",
        "# data_bar_precip = Xtrain.groupby(pd.cut(Xtrain['precip'], bins=bins)).count()\n",
        "# data_bar_precip['precip'].plot.bar()"
      ]
    },
    {
      "cell_type": "code",
      "execution_count": 11,
      "id": "arKhvDVFRt14",
      "metadata": {
        "id": "arKhvDVFRt14"
      },
      "outputs": [],
      "source": [
        "# Xtrain.boxplot()"
      ]
    },
    {
      "cell_type": "code",
      "execution_count": 12,
      "id": "0NTCW4dsDA0z",
      "metadata": {
        "id": "0NTCW4dsDA0z"
      },
      "outputs": [],
      "source": [
        "# corr_Xtrain = Xtrain.corr(method='pearson')\n",
        "# corr_Xtrain\n",
        "# plt.matshow(corr_Xtrain)\n",
        "# plt.show()"
      ]
    },
    {
      "cell_type": "markdown",
      "id": "UVZFo2C5Qui4",
      "metadata": {
        "id": "UVZFo2C5Qui4"
      },
      "source": [
        "Matrice de corrélation de Xtrain\n",
        "On retrouve une corrélation négative entre la température et l'humidité ce qui semble logique\n",
        "On constate aussi une forte corrélation positive entre la température et td"
      ]
    },
    {
      "cell_type": "code",
      "execution_count": 13,
      "id": "gXHMZzayQgQR",
      "metadata": {
        "id": "gXHMZzayQgQR"
      },
      "outputs": [],
      "source": [
        "# sns.heatmap(corr_Xtrain,annot=True)\n",
        "# plt.show()"
      ]
    },
    {
      "cell_type": "code",
      "execution_count": 14,
      "id": "lCMj_C5UMOu8",
      "metadata": {
        "id": "lCMj_C5UMOu8"
      },
      "outputs": [],
      "source": [
        "#On rajoute deux variables \n",
        "#precip_bool: 1: il pleut 0: il ne pleut pas\n",
        "#precip _ategories: 5 categories 0, 0.2, 0.4 , 0.6, 0.8+\n",
        "\n",
        "\n",
        "#Xtrain_2017['col2'] = pd.cut(df['col1'], bins=[0, 10, 50, float('Inf')], labels=['xxx', 'yyy', 'zzz'])\n",
        "\n",
        "#Xtrain_2017\n",
        "\n"
      ]
    },
    {
      "cell_type": "code",
      "execution_count": 15,
      "id": "l8F0r8qK5nIk",
      "metadata": {
        "id": "l8F0r8qK5nIk"
      },
      "outputs": [],
      "source": [
        "# Exemple d'implémentation du modèle linéaire par station et temps par temps mais avec\n",
        "# des coefficients qui ne dépendent pas du temps\n",
        "# Imputation de données manquantes par la médiane des variables\n",
        "\n",
        "################################################################################################\n",
        "# Attention, une erreur de mosélisation s'est glissée dans ce code, saurez-vous la retrouver ? #\n",
        "################################################################################################\n",
        "\n",
        "from sklearn.linear_model import LinearRegression\n",
        "\n",
        "def regression_bystation (x,num_station):\n",
        "\n",
        "    X = x[x['number_sta']==num_station]\n",
        "    Y = X[{\"date\",\"precip\"}]\n",
        "    Y.set_index('date',inplace = True) \n",
        "\n",
        "    X = X[{\"date\",\"ff\",\"t\",\"td\",\"hu\",\"dd\"}]\n",
        "    X.set_index('date',inplace = True)\n",
        "\n",
        "    # Imputation des valeurs manquantes\n",
        "    median_t = X['t'].median()\n",
        "    X['t'] = X['t'].fillna(median_t)\n",
        "\n",
        "    median_ff = X['ff'].median()\n",
        "    X['ff'] = X['ff'].fillna(median_ff)\n",
        "\n",
        "    median_td = X['td'].median()\n",
        "    X['td'] = X['td'].fillna(median_td)\n",
        "\n",
        "    median_hu = X['hu'].median()\n",
        "    X['hu'] = X['hu'].fillna(median_hu)\n",
        "\n",
        "    median_dd = X['dd'].median()\n",
        "    X['dd'] = X['dd'].fillna(median_dd)\n",
        "\n",
        "    median_pre = Y['precip'].median()\n",
        "    Y['precip'] = Y['precip'].fillna(median_pre)\n",
        "\n",
        "    lr= LinearRegression(normalize=False)\n",
        "    lr.fit(X, Y)\n",
        "\n",
        "    return(lr)"
      ]
    },
    {
      "cell_type": "markdown",
      "id": "6D24VD-sT1NA",
      "metadata": {
        "id": "6D24VD-sT1NA"
      },
      "source": [
        "ACP normée avec deux composantes principales\n"
      ]
    },
    {
      "cell_type": "code",
      "execution_count": 16,
      "id": "kkOOtJlXT2oZ",
      "metadata": {
        "id": "kkOOtJlXT2oZ"
      },
      "outputs": [],
      "source": [
        "from sklearn.preprocessing import StandardScaler\n",
        "\n",
        "# Xtrain = Xtrain.fillna(method='ffill')\n",
        "# features = ['ff','t','td','hu','dd']\n",
        "\n",
        "# X_acp = Xtrain.loc[:,features].values\n",
        "# X_acp = StandardScaler().fit_transform(X_acp)\n",
        "\n",
        "\n",
        "# Y_acp = Xtrain.loc[:,'precip'].values\n",
        "\n"
      ]
    },
    {
      "cell_type": "code",
      "execution_count": null,
      "id": "0VWMKF_kcXXJ",
      "metadata": {
        "id": "0VWMKF_kcXXJ"
      },
      "outputs": [],
      "source": []
    },
    {
      "cell_type": "code",
      "execution_count": 17,
      "id": "gxk_8g89Und3",
      "metadata": {
        "id": "gxk_8g89Und3"
      },
      "outputs": [],
      "source": [
        "from sklearn.decomposition import PCA\n",
        "\n",
        "# pca = PCA(n_components = 5)\n",
        "\n",
        "# principalComponents = pca.fit_transform(X_acp)\n",
        "\n",
        "# principalDf = pd.DataFrame(data = principalComponents\n",
        "#              , columns = ['principal component 1', 'principal component 2','principal component 3','principal component 4','principal component 5'])\n",
        "\n",
        "# finalDf = pd.concat([principalDf, Xtrain[['precip']]], axis = 1)\n",
        "\n"
      ]
    },
    {
      "cell_type": "markdown",
      "id": "kDB2xRBEdP_W",
      "metadata": {
        "id": "kDB2xRBEdP_W"
      },
      "source": [
        "On récupère les valeurs propres de nos composantes principales"
      ]
    },
    {
      "cell_type": "code",
      "execution_count": 18,
      "id": "CW4JSckucmAM",
      "metadata": {
        "id": "CW4JSckucmAM"
      },
      "outputs": [],
      "source": [
        "# pca.explained_variance_"
      ]
    },
    {
      "cell_type": "markdown",
      "id": "uGGKKIuyde-y",
      "metadata": {
        "id": "uGGKKIuyde-y"
      },
      "source": [
        "Notre première composante principale explique 37% de l'inertie tandis que la seconde composante principale explique 25 % de l'inertie."
      ]
    },
    {
      "cell_type": "code",
      "execution_count": 19,
      "id": "ZIDaXegddV8P",
      "metadata": {
        "id": "ZIDaXegddV8P"
      },
      "outputs": [],
      "source": [
        "# pca.explained_variance_ratio_"
      ]
    },
    {
      "cell_type": "markdown",
      "id": "SXuXgAbud7ZO",
      "metadata": {
        "id": "SXuXgAbud7ZO"
      },
      "source": [
        "Visualisation des valeurs propres de nos composantes principales. "
      ]
    },
    {
      "cell_type": "code",
      "execution_count": 20,
      "id": "gNCwYiqXdzJF",
      "metadata": {
        "id": "gNCwYiqXdzJF"
      },
      "outputs": [],
      "source": [
        "\n",
        "# sns.set_theme(style='darkgrid')\n",
        "# graph_variance = sns.lineplot(x=['1','2','3','4','5'],y = pca.explained_variance_)\n",
        "# graph_variance.axhline(1,color= 'red')"
      ]
    },
    {
      "cell_type": "markdown",
      "id": "3xOv1_mIh5SM",
      "metadata": {
        "id": "3xOv1_mIh5SM"
      },
      "source": [
        "On constate que les composantes principales 1 et 2 ont des valeurs propres supérieurs à 1. \n",
        "Tandis que la troisième composante principale à une valeur propre très proche de 1 c'est pourquoi on décide aussi de la garder pour la suite selon la règle de Kaiser.\n"
      ]
    },
    {
      "cell_type": "code",
      "execution_count": 21,
      "id": "OAbCDNm-XVJd",
      "metadata": {
        "id": "OAbCDNm-XVJd"
      },
      "outputs": [],
      "source": [
        "# display(finalDf)"
      ]
    },
    {
      "cell_type": "markdown",
      "id": "1TK38CXlrW1I",
      "metadata": {
        "id": "1TK38CXlrW1I"
      },
      "source": [
        "S'il pleut, la variable class prend comme valeur 1, sinon elle prend comme valeur 2.\n"
      ]
    },
    {
      "cell_type": "code",
      "execution_count": 22,
      "id": "Y3V3kUoe6odE",
      "metadata": {
        "id": "Y3V3kUoe6odE"
      },
      "outputs": [],
      "source": [
        "# finalDf['class'] = np.where(finalDf['precip'] == 0,1,2)\n",
        "# display(finalDf)\n",
        "\n"
      ]
    },
    {
      "cell_type": "markdown",
      "id": "pH6okXtgki08",
      "metadata": {
        "id": "pH6okXtgki08"
      },
      "source": [
        "Scatter plot avec les deux premières composantes principales"
      ]
    },
    {
      "cell_type": "code",
      "execution_count": 23,
      "id": "0qzFYsPb8D5h",
      "metadata": {
        "id": "0qzFYsPb8D5h"
      },
      "outputs": [],
      "source": [
        "# sns.scatterplot(data = finalDf,x= 'principal component 1', y = 'principal component 2', hue='class')"
      ]
    },
    {
      "cell_type": "markdown",
      "id": "BL9oMzyRnYnK",
      "metadata": {
        "id": "BL9oMzyRnYnK"
      },
      "source": [
        "En 3 dimensions cela devient illisible."
      ]
    },
    {
      "cell_type": "code",
      "execution_count": 24,
      "id": "NxTVMmbxkeeG",
      "metadata": {
        "id": "NxTVMmbxkeeG"
      },
      "outputs": [],
      "source": [
        "# fig = plt.figure()\n",
        "# fig.set_size_inches(15, 10.5)\n",
        "# ax = fig.add_subplot(111, projection='3d')\n",
        "# x = np.array(finalDf['principal component 1'])\n",
        "# y = np.array(finalDf['principal component 2'])\n",
        "# z = np.array(finalDf['principal component 3'])\n",
        "# ax.scatter(x,y,z, marker=\"s\", c=finalDf[\"class\"], s=20, cmap=\"RdBu\")\n",
        "# ax.set_xlabel('Principal Component 1')\n",
        "# ax.set_ylabel('Principal Component 2')\n",
        "# ax.set_zlabel('Principal Component 3')\n",
        "# ax.legend()\n",
        "# plt.show()"
      ]
    },
    {
      "cell_type": "markdown",
      "id": "UYYt4UUlnWXb",
      "metadata": {
        "id": "UYYt4UUlnWXb"
      },
      "source": []
    },
    {
      "cell_type": "markdown",
      "id": "fnP62WQEoskN",
      "metadata": {
        "id": "fnP62WQEoskN"
      },
      "source": [
        "On va tenter d'ajouter une variable explicative ayant une bonne corrélation avec la variable precip.Pour cela, on va utiliser l'algorithme knn qui va nous dire s'il pleut ou pas.\n",
        "La nouvelle variable knn qui sera crée prendra en valeur la prédiction de la classe donnée par l'algorithme knn. ( soit il pleut soit il ne pleut pas)\n"
      ]
    },
    {
      "cell_type": "code",
      "execution_count": 25,
      "id": "7yHb1QGPpQzq",
      "metadata": {
        "id": "7yHb1QGPpQzq"
      },
      "outputs": [],
      "source": [
        "from sklearn.neighbors import KNeighborsClassifier\n",
        "from sklearn.model_selection import train_test_split\n",
        "from sklearn.metrics import accuracy_score\n",
        "from sklearn.impute import SimpleImputer\n",
        "# knn = KNeighborsClassifier(n_neighbors=10)\n",
        "\n"
      ]
    },
    {
      "cell_type": "code",
      "execution_count": 26,
      "id": "04e46313",
      "metadata": {
        "colab": {
          "base_uri": "https://localhost:8080/",
          "height": 424
        },
        "id": "04e46313",
        "outputId": "2e2e730b-3893-4307-a705-76b33ceff7a4"
      },
      "outputs": [
        {
          "data": {
            "text/html": [
              "<div>\n",
              "<style scoped>\n",
              "    .dataframe tbody tr th:only-of-type {\n",
              "        vertical-align: middle;\n",
              "    }\n",
              "\n",
              "    .dataframe tbody tr th {\n",
              "        vertical-align: top;\n",
              "    }\n",
              "\n",
              "    .dataframe thead th {\n",
              "        text-align: right;\n",
              "    }\n",
              "</style>\n",
              "<table border=\"1\" class=\"dataframe\">\n",
              "  <thead>\n",
              "    <tr style=\"text-align: right;\">\n",
              "      <th></th>\n",
              "      <th>number_sta</th>\n",
              "      <th>date</th>\n",
              "      <th>ff</th>\n",
              "      <th>t</th>\n",
              "      <th>td</th>\n",
              "      <th>hu</th>\n",
              "      <th>dd</th>\n",
              "      <th>precip</th>\n",
              "      <th>Id</th>\n",
              "      <th>day</th>\n",
              "      <th>hour</th>\n",
              "      <th>month</th>\n",
              "    </tr>\n",
              "  </thead>\n",
              "  <tbody>\n",
              "    <tr>\n",
              "      <th>0</th>\n",
              "      <td>14066001</td>\n",
              "      <td>2016-01-01 00:00:00</td>\n",
              "      <td>3.05</td>\n",
              "      <td>279.28</td>\n",
              "      <td>277.97</td>\n",
              "      <td>91.4</td>\n",
              "      <td>200.0</td>\n",
              "      <td>0.0</td>\n",
              "      <td>14066001_0_0</td>\n",
              "      <td>0</td>\n",
              "      <td>0</td>\n",
              "      <td>1</td>\n",
              "    </tr>\n",
              "    <tr>\n",
              "      <th>1</th>\n",
              "      <td>14066001</td>\n",
              "      <td>2016-01-01 01:00:00</td>\n",
              "      <td>2.57</td>\n",
              "      <td>278.76</td>\n",
              "      <td>277.45</td>\n",
              "      <td>91.4</td>\n",
              "      <td>190.0</td>\n",
              "      <td>0.0</td>\n",
              "      <td>14066001_0_1</td>\n",
              "      <td>0</td>\n",
              "      <td>1</td>\n",
              "      <td>1</td>\n",
              "    </tr>\n",
              "    <tr>\n",
              "      <th>2</th>\n",
              "      <td>14066001</td>\n",
              "      <td>2016-01-01 02:00:00</td>\n",
              "      <td>2.26</td>\n",
              "      <td>278.27</td>\n",
              "      <td>277.02</td>\n",
              "      <td>91.7</td>\n",
              "      <td>181.0</td>\n",
              "      <td>0.0</td>\n",
              "      <td>14066001_0_2</td>\n",
              "      <td>0</td>\n",
              "      <td>2</td>\n",
              "      <td>1</td>\n",
              "    </tr>\n",
              "    <tr>\n",
              "      <th>3</th>\n",
              "      <td>14066001</td>\n",
              "      <td>2016-01-01 03:00:00</td>\n",
              "      <td>2.62</td>\n",
              "      <td>277.98</td>\n",
              "      <td>276.95</td>\n",
              "      <td>93.0</td>\n",
              "      <td>159.0</td>\n",
              "      <td>0.0</td>\n",
              "      <td>14066001_0_3</td>\n",
              "      <td>0</td>\n",
              "      <td>3</td>\n",
              "      <td>1</td>\n",
              "    </tr>\n",
              "    <tr>\n",
              "      <th>4</th>\n",
              "      <td>14066001</td>\n",
              "      <td>2016-01-01 04:00:00</td>\n",
              "      <td>2.99</td>\n",
              "      <td>277.32</td>\n",
              "      <td>276.72</td>\n",
              "      <td>95.9</td>\n",
              "      <td>171.0</td>\n",
              "      <td>0.0</td>\n",
              "      <td>14066001_0_4</td>\n",
              "      <td>0</td>\n",
              "      <td>4</td>\n",
              "      <td>1</td>\n",
              "    </tr>\n",
              "    <tr>\n",
              "      <th>...</th>\n",
              "      <td>...</td>\n",
              "      <td>...</td>\n",
              "      <td>...</td>\n",
              "      <td>...</td>\n",
              "      <td>...</td>\n",
              "      <td>...</td>\n",
              "      <td>...</td>\n",
              "      <td>...</td>\n",
              "      <td>...</td>\n",
              "      <td>...</td>\n",
              "      <td>...</td>\n",
              "      <td>...</td>\n",
              "    </tr>\n",
              "    <tr>\n",
              "      <th>4409469</th>\n",
              "      <td>95690001</td>\n",
              "      <td>2017-12-30 19:00:00</td>\n",
              "      <td>9.10</td>\n",
              "      <td>286.68</td>\n",
              "      <td>283.44</td>\n",
              "      <td>80.8</td>\n",
              "      <td>239.0</td>\n",
              "      <td>0.0</td>\n",
              "      <td>95690001_729_19</td>\n",
              "      <td>729</td>\n",
              "      <td>19</td>\n",
              "      <td>12</td>\n",
              "    </tr>\n",
              "    <tr>\n",
              "      <th>4409470</th>\n",
              "      <td>95690001</td>\n",
              "      <td>2017-12-30 20:00:00</td>\n",
              "      <td>8.58</td>\n",
              "      <td>286.39</td>\n",
              "      <td>283.21</td>\n",
              "      <td>81.1</td>\n",
              "      <td>231.0</td>\n",
              "      <td>0.0</td>\n",
              "      <td>95690001_729_20</td>\n",
              "      <td>729</td>\n",
              "      <td>20</td>\n",
              "      <td>12</td>\n",
              "    </tr>\n",
              "    <tr>\n",
              "      <th>4409471</th>\n",
              "      <td>95690001</td>\n",
              "      <td>2017-12-30 21:00:00</td>\n",
              "      <td>8.74</td>\n",
              "      <td>286.28</td>\n",
              "      <td>283.40</td>\n",
              "      <td>82.6</td>\n",
              "      <td>226.0</td>\n",
              "      <td>0.0</td>\n",
              "      <td>95690001_729_21</td>\n",
              "      <td>729</td>\n",
              "      <td>21</td>\n",
              "      <td>12</td>\n",
              "    </tr>\n",
              "    <tr>\n",
              "      <th>4409472</th>\n",
              "      <td>95690001</td>\n",
              "      <td>2017-12-30 22:00:00</td>\n",
              "      <td>9.04</td>\n",
              "      <td>286.21</td>\n",
              "      <td>283.29</td>\n",
              "      <td>82.4</td>\n",
              "      <td>224.0</td>\n",
              "      <td>0.0</td>\n",
              "      <td>95690001_729_22</td>\n",
              "      <td>729</td>\n",
              "      <td>22</td>\n",
              "      <td>12</td>\n",
              "    </tr>\n",
              "    <tr>\n",
              "      <th>4409473</th>\n",
              "      <td>95690001</td>\n",
              "      <td>2017-12-30 23:00:00</td>\n",
              "      <td>9.11</td>\n",
              "      <td>285.92</td>\n",
              "      <td>282.42</td>\n",
              "      <td>79.4</td>\n",
              "      <td>221.0</td>\n",
              "      <td>0.0</td>\n",
              "      <td>95690001_729_23</td>\n",
              "      <td>729</td>\n",
              "      <td>23</td>\n",
              "      <td>12</td>\n",
              "    </tr>\n",
              "  </tbody>\n",
              "</table>\n",
              "<p>4409474 rows × 12 columns</p>\n",
              "</div>"
            ],
            "text/plain": [
              "        number_sta                date    ff       t      td    hu     dd  \\\n",
              "0         14066001 2016-01-01 00:00:00  3.05  279.28  277.97  91.4  200.0   \n",
              "1         14066001 2016-01-01 01:00:00  2.57  278.76  277.45  91.4  190.0   \n",
              "2         14066001 2016-01-01 02:00:00  2.26  278.27  277.02  91.7  181.0   \n",
              "3         14066001 2016-01-01 03:00:00  2.62  277.98  276.95  93.0  159.0   \n",
              "4         14066001 2016-01-01 04:00:00  2.99  277.32  276.72  95.9  171.0   \n",
              "...            ...                 ...   ...     ...     ...   ...    ...   \n",
              "4409469   95690001 2017-12-30 19:00:00  9.10  286.68  283.44  80.8  239.0   \n",
              "4409470   95690001 2017-12-30 20:00:00  8.58  286.39  283.21  81.1  231.0   \n",
              "4409471   95690001 2017-12-30 21:00:00  8.74  286.28  283.40  82.6  226.0   \n",
              "4409472   95690001 2017-12-30 22:00:00  9.04  286.21  283.29  82.4  224.0   \n",
              "4409473   95690001 2017-12-30 23:00:00  9.11  285.92  282.42  79.4  221.0   \n",
              "\n",
              "         precip               Id  day hour  month  \n",
              "0           0.0     14066001_0_0    0    0      1  \n",
              "1           0.0     14066001_0_1    0    1      1  \n",
              "2           0.0     14066001_0_2    0    2      1  \n",
              "3           0.0     14066001_0_3    0    3      1  \n",
              "4           0.0     14066001_0_4    0    4      1  \n",
              "...         ...              ...  ...  ...    ...  \n",
              "4409469     0.0  95690001_729_19  729   19     12  \n",
              "4409470     0.0  95690001_729_20  729   20     12  \n",
              "4409471     0.0  95690001_729_21  729   21     12  \n",
              "4409472     0.0  95690001_729_22  729   22     12  \n",
              "4409473     0.0  95690001_729_23  729   23     12  \n",
              "\n",
              "[4409474 rows x 12 columns]"
            ]
          },
          "execution_count": 26,
          "metadata": {},
          "output_type": "execute_result"
        }
      ],
      "source": [
        "Xtrain"
      ]
    },
    {
      "cell_type": "code",
      "execution_count": 27,
      "id": "TkV88Cv5pvYV",
      "metadata": {
        "colab": {
          "base_uri": "https://localhost:8080/",
          "height": 380
        },
        "id": "TkV88Cv5pvYV",
        "outputId": "7e77d63f-035b-42c5-d0a4-6a333dc4f48d"
      },
      "outputs": [],
      "source": [
        "Xtrain = Xtrain.fillna(method='ffill')\n",
        "Xtrain['class'] = np.where(Xtrain['precip'] == 0,1,2)\n",
        "\n",
        "\n",
        "X = Xtrain.drop(['date','class','Id'],axis=1)\n",
        "Y = Xtrain['class']\n",
        "X['day'] = X['day'].astype('category')\n",
        "X['hour'] = X['hour'].astype('category')\n",
        "\n",
        "X_train, X_test, y_train, y_test = train_test_split(X, Y, test_size=.3, random_state=4,stratify=Y)"
      ]
    },
    {
      "cell_type": "code",
      "execution_count": null,
      "id": "02e9ef64",
      "metadata": {
        "id": "02e9ef64"
      },
      "outputs": [],
      "source": []
    },
    {
      "cell_type": "code",
      "execution_count": 28,
      "id": "i4VNzAJ_spnk",
      "metadata": {
        "id": "i4VNzAJ_spnk"
      },
      "outputs": [],
      "source": [
        "# #Xtrain['year'] = Xtrain[]\n",
        "# Xtrain = Xtrain.fillna(method='ffill')\n",
        "# Xtrain_gp = Xtrain.groupby(by=['number_sta','day'])\n",
        "\n"
      ]
    },
    {
      "cell_type": "markdown",
      "id": "6Ra2XG89oVyL",
      "metadata": {
        "id": "6Ra2XG89oVyL"
      },
      "source": [
        "On standardise nos données"
      ]
    },
    {
      "cell_type": "code",
      "execution_count": 29,
      "id": "xs_u_3vnn9uB",
      "metadata": {
        "id": "xs_u_3vnn9uB"
      },
      "outputs": [],
      "source": [
        "#knn.fit(X_train,y_train)\n",
        "#predictions = knn.predict(X_test)\n",
        "#accuracy_score(y_test,predictions)"
      ]
    },
    {
      "cell_type": "code",
      "execution_count": 30,
      "id": "ozqI_s2fpTVx",
      "metadata": {
        "id": "ozqI_s2fpTVx"
      },
      "outputs": [],
      "source": [
        "# knn.fit(X_train,y_train)"
      ]
    },
    {
      "cell_type": "code",
      "execution_count": 31,
      "id": "HBta_oTXi8jM",
      "metadata": {
        "colab": {
          "base_uri": "https://localhost:8080/"
        },
        "id": "HBta_oTXi8jM",
        "outputId": "10966fd4-bd5a-472f-d1d2-54fed4bb60a9"
      },
      "outputs": [
        {
          "data": {
            "text/plain": [
              "0.9045026507302831"
            ]
          },
          "execution_count": 31,
          "metadata": {},
          "output_type": "execute_result"
        }
      ],
      "source": [
        "\n",
        "accuracy_score(y_test,np.repeat(1,y_test.shape[0]))\n"
      ]
    },
    {
      "cell_type": "markdown",
      "id": "qHLx3bT_pS1F",
      "metadata": {
        "id": "qHLx3bT_pS1F"
      },
      "source": [
        "En ne prédisant que des 1 (i.e jours où il pleut), on obtient une précision de 90%"
      ]
    },
    {
      "cell_type": "code",
      "execution_count": 32,
      "id": "182c9da9",
      "metadata": {
        "id": "182c9da9"
      },
      "outputs": [],
      "source": [
        "from sklearn.datasets import make_classification\n",
        "from sklearn.ensemble import RandomForestClassifier\n",
        "# random_forest = RandomForestClassifier()\n",
        "# X_train, X_test, y_train, y_test = train_test_split(X, Y, test_size=.3, random_state=4,stratify=Y)\n",
        "# ss = StandardScaler()\n",
        "\n",
        "# X_train = ss.fit_transform(X_train)\n",
        "# X_test = ss.transform(X_test)\n",
        "\n",
        "# random_forest.fit(X_train,y_train)\n"
      ]
    },
    {
      "cell_type": "code",
      "execution_count": 33,
      "id": "4e219079",
      "metadata": {
        "id": "4e219079"
      },
      "outputs": [],
      "source": [
        "# predictions = random_forest.predict(X_test)\n",
        "# accuracy_score(y_test,predictions)"
      ]
    },
    {
      "cell_type": "code",
      "execution_count": 34,
      "id": "86add1f1",
      "metadata": {
        "id": "86add1f1"
      },
      "outputs": [],
      "source": [
        "# np.unique(predictions,return_counts=True)\n"
      ]
    },
    {
      "cell_type": "code",
      "execution_count": 35,
      "id": "3a7aac55",
      "metadata": {
        "id": "3a7aac55"
      },
      "outputs": [],
      "source": [
        "# np.unique(y_test,return_counts=True)\n",
        "\n"
      ]
    },
    {
      "cell_type": "code",
      "execution_count": 36,
      "id": "izLjAWLM9zVY",
      "metadata": {
        "id": "izLjAWLM9zVY"
      },
      "outputs": [],
      "source": [
        "# predictions = knn.predict(X_test)\n",
        "# accuracy_score(y_test,predictions)"
      ]
    },
    {
      "cell_type": "markdown",
      "id": "I_5BMn0v_eHV",
      "metadata": {
        "id": "I_5BMn0v_eHV"
      },
      "source": [
        "On obtient une précision de 91% avec knn (k=10)\n"
      ]
    },
    {
      "cell_type": "markdown",
      "id": "my5uOC9zpkX4",
      "metadata": {
        "id": "my5uOC9zpkX4"
      },
      "source": [
        "On va maintenant tenter d'améliorer ce score en utilisant la méthode de validation croisée avec knn et en prenant une grille de valeur de k afin de choisir le k qui maximise la précision de notre modèle.\n"
      ]
    },
    {
      "cell_type": "code",
      "execution_count": 37,
      "id": "pNsOzFSGweil",
      "metadata": {
        "id": "pNsOzFSGweil"
      },
      "outputs": [],
      "source": [
        "# from sklearn.model_selection import GridSearchCV \n",
        "# knn2 = KNeighborsClassifier() \n",
        "# param_grid = {\"n_neighbors\" : np.arange(1, 25)}\n",
        "# knn_cv = GridSearchCV(knn2, param_grid, cv=3)\n",
        "# knn_cv.fit(X, Y)"
      ]
    },
    {
      "cell_type": "code",
      "execution_count": 38,
      "id": "nEB0Qv2gnDb8",
      "metadata": {
        "id": "nEB0Qv2gnDb8"
      },
      "outputs": [],
      "source": [
        "# from sklearn.model_selection import GridSearchCV \n",
        "# knn2 = KNeighborsClassifier() \n",
        "# param_grid = {\"n_neighbors\" : np.arange(1, 25)}"
      ]
    },
    {
      "cell_type": "code",
      "execution_count": 39,
      "id": "b26f81f5",
      "metadata": {
        "id": "b26f81f5"
      },
      "outputs": [],
      "source": [
        "X = Xtrain\n",
        "Y = X[{\"date\",\"precip\"}]\n",
        "Y.set_index('date',inplace = True) \n",
        "\n",
        "# Imputation des valeurs manquantes\n",
        "#X = X[{\"date\",\"ff\",\"t\",\"td\",\"hu\",\"dd\"}]\n",
        "#X.set_index('date',inplace = True)"
      ]
    },
    {
      "cell_type": "code",
      "execution_count": 40,
      "id": "ad850b7c",
      "metadata": {
        "colab": {
          "base_uri": "https://localhost:8080/",
          "height": 424
        },
        "id": "ad850b7c",
        "outputId": "8f4ac959-ae94-49a9-e2f4-f6b058739ef7"
      },
      "outputs": [
        {
          "data": {
            "text/html": [
              "<div>\n",
              "<style scoped>\n",
              "    .dataframe tbody tr th:only-of-type {\n",
              "        vertical-align: middle;\n",
              "    }\n",
              "\n",
              "    .dataframe tbody tr th {\n",
              "        vertical-align: top;\n",
              "    }\n",
              "\n",
              "    .dataframe thead th {\n",
              "        text-align: right;\n",
              "    }\n",
              "</style>\n",
              "<table border=\"1\" class=\"dataframe\">\n",
              "  <thead>\n",
              "    <tr style=\"text-align: right;\">\n",
              "      <th></th>\n",
              "      <th>number_sta</th>\n",
              "      <th>date</th>\n",
              "      <th>ff</th>\n",
              "      <th>t</th>\n",
              "      <th>td</th>\n",
              "      <th>hu</th>\n",
              "      <th>dd</th>\n",
              "      <th>precip</th>\n",
              "      <th>Id</th>\n",
              "      <th>day</th>\n",
              "      <th>hour</th>\n",
              "      <th>month</th>\n",
              "      <th>class</th>\n",
              "    </tr>\n",
              "  </thead>\n",
              "  <tbody>\n",
              "    <tr>\n",
              "      <th>0</th>\n",
              "      <td>14066001</td>\n",
              "      <td>2016-01-01 00:00:00</td>\n",
              "      <td>3.05</td>\n",
              "      <td>279.28</td>\n",
              "      <td>277.97</td>\n",
              "      <td>91.4</td>\n",
              "      <td>200.0</td>\n",
              "      <td>0.0</td>\n",
              "      <td>14066001_0_0</td>\n",
              "      <td>0</td>\n",
              "      <td>0</td>\n",
              "      <td>1</td>\n",
              "      <td>1</td>\n",
              "    </tr>\n",
              "    <tr>\n",
              "      <th>1</th>\n",
              "      <td>14066001</td>\n",
              "      <td>2016-01-01 01:00:00</td>\n",
              "      <td>2.57</td>\n",
              "      <td>278.76</td>\n",
              "      <td>277.45</td>\n",
              "      <td>91.4</td>\n",
              "      <td>190.0</td>\n",
              "      <td>0.0</td>\n",
              "      <td>14066001_0_1</td>\n",
              "      <td>0</td>\n",
              "      <td>1</td>\n",
              "      <td>1</td>\n",
              "      <td>1</td>\n",
              "    </tr>\n",
              "    <tr>\n",
              "      <th>2</th>\n",
              "      <td>14066001</td>\n",
              "      <td>2016-01-01 02:00:00</td>\n",
              "      <td>2.26</td>\n",
              "      <td>278.27</td>\n",
              "      <td>277.02</td>\n",
              "      <td>91.7</td>\n",
              "      <td>181.0</td>\n",
              "      <td>0.0</td>\n",
              "      <td>14066001_0_2</td>\n",
              "      <td>0</td>\n",
              "      <td>2</td>\n",
              "      <td>1</td>\n",
              "      <td>1</td>\n",
              "    </tr>\n",
              "    <tr>\n",
              "      <th>3</th>\n",
              "      <td>14066001</td>\n",
              "      <td>2016-01-01 03:00:00</td>\n",
              "      <td>2.62</td>\n",
              "      <td>277.98</td>\n",
              "      <td>276.95</td>\n",
              "      <td>93.0</td>\n",
              "      <td>159.0</td>\n",
              "      <td>0.0</td>\n",
              "      <td>14066001_0_3</td>\n",
              "      <td>0</td>\n",
              "      <td>3</td>\n",
              "      <td>1</td>\n",
              "      <td>1</td>\n",
              "    </tr>\n",
              "    <tr>\n",
              "      <th>4</th>\n",
              "      <td>14066001</td>\n",
              "      <td>2016-01-01 04:00:00</td>\n",
              "      <td>2.99</td>\n",
              "      <td>277.32</td>\n",
              "      <td>276.72</td>\n",
              "      <td>95.9</td>\n",
              "      <td>171.0</td>\n",
              "      <td>0.0</td>\n",
              "      <td>14066001_0_4</td>\n",
              "      <td>0</td>\n",
              "      <td>4</td>\n",
              "      <td>1</td>\n",
              "      <td>1</td>\n",
              "    </tr>\n",
              "    <tr>\n",
              "      <th>...</th>\n",
              "      <td>...</td>\n",
              "      <td>...</td>\n",
              "      <td>...</td>\n",
              "      <td>...</td>\n",
              "      <td>...</td>\n",
              "      <td>...</td>\n",
              "      <td>...</td>\n",
              "      <td>...</td>\n",
              "      <td>...</td>\n",
              "      <td>...</td>\n",
              "      <td>...</td>\n",
              "      <td>...</td>\n",
              "      <td>...</td>\n",
              "    </tr>\n",
              "    <tr>\n",
              "      <th>4409469</th>\n",
              "      <td>95690001</td>\n",
              "      <td>2017-12-30 19:00:00</td>\n",
              "      <td>9.10</td>\n",
              "      <td>286.68</td>\n",
              "      <td>283.44</td>\n",
              "      <td>80.8</td>\n",
              "      <td>239.0</td>\n",
              "      <td>0.0</td>\n",
              "      <td>95690001_729_19</td>\n",
              "      <td>729</td>\n",
              "      <td>19</td>\n",
              "      <td>12</td>\n",
              "      <td>1</td>\n",
              "    </tr>\n",
              "    <tr>\n",
              "      <th>4409470</th>\n",
              "      <td>95690001</td>\n",
              "      <td>2017-12-30 20:00:00</td>\n",
              "      <td>8.58</td>\n",
              "      <td>286.39</td>\n",
              "      <td>283.21</td>\n",
              "      <td>81.1</td>\n",
              "      <td>231.0</td>\n",
              "      <td>0.0</td>\n",
              "      <td>95690001_729_20</td>\n",
              "      <td>729</td>\n",
              "      <td>20</td>\n",
              "      <td>12</td>\n",
              "      <td>1</td>\n",
              "    </tr>\n",
              "    <tr>\n",
              "      <th>4409471</th>\n",
              "      <td>95690001</td>\n",
              "      <td>2017-12-30 21:00:00</td>\n",
              "      <td>8.74</td>\n",
              "      <td>286.28</td>\n",
              "      <td>283.40</td>\n",
              "      <td>82.6</td>\n",
              "      <td>226.0</td>\n",
              "      <td>0.0</td>\n",
              "      <td>95690001_729_21</td>\n",
              "      <td>729</td>\n",
              "      <td>21</td>\n",
              "      <td>12</td>\n",
              "      <td>1</td>\n",
              "    </tr>\n",
              "    <tr>\n",
              "      <th>4409472</th>\n",
              "      <td>95690001</td>\n",
              "      <td>2017-12-30 22:00:00</td>\n",
              "      <td>9.04</td>\n",
              "      <td>286.21</td>\n",
              "      <td>283.29</td>\n",
              "      <td>82.4</td>\n",
              "      <td>224.0</td>\n",
              "      <td>0.0</td>\n",
              "      <td>95690001_729_22</td>\n",
              "      <td>729</td>\n",
              "      <td>22</td>\n",
              "      <td>12</td>\n",
              "      <td>1</td>\n",
              "    </tr>\n",
              "    <tr>\n",
              "      <th>4409473</th>\n",
              "      <td>95690001</td>\n",
              "      <td>2017-12-30 23:00:00</td>\n",
              "      <td>9.11</td>\n",
              "      <td>285.92</td>\n",
              "      <td>282.42</td>\n",
              "      <td>79.4</td>\n",
              "      <td>221.0</td>\n",
              "      <td>0.0</td>\n",
              "      <td>95690001_729_23</td>\n",
              "      <td>729</td>\n",
              "      <td>23</td>\n",
              "      <td>12</td>\n",
              "      <td>1</td>\n",
              "    </tr>\n",
              "  </tbody>\n",
              "</table>\n",
              "<p>4409474 rows × 13 columns</p>\n",
              "</div>"
            ],
            "text/plain": [
              "        number_sta                date    ff       t      td    hu     dd  \\\n",
              "0         14066001 2016-01-01 00:00:00  3.05  279.28  277.97  91.4  200.0   \n",
              "1         14066001 2016-01-01 01:00:00  2.57  278.76  277.45  91.4  190.0   \n",
              "2         14066001 2016-01-01 02:00:00  2.26  278.27  277.02  91.7  181.0   \n",
              "3         14066001 2016-01-01 03:00:00  2.62  277.98  276.95  93.0  159.0   \n",
              "4         14066001 2016-01-01 04:00:00  2.99  277.32  276.72  95.9  171.0   \n",
              "...            ...                 ...   ...     ...     ...   ...    ...   \n",
              "4409469   95690001 2017-12-30 19:00:00  9.10  286.68  283.44  80.8  239.0   \n",
              "4409470   95690001 2017-12-30 20:00:00  8.58  286.39  283.21  81.1  231.0   \n",
              "4409471   95690001 2017-12-30 21:00:00  8.74  286.28  283.40  82.6  226.0   \n",
              "4409472   95690001 2017-12-30 22:00:00  9.04  286.21  283.29  82.4  224.0   \n",
              "4409473   95690001 2017-12-30 23:00:00  9.11  285.92  282.42  79.4  221.0   \n",
              "\n",
              "         precip               Id  day hour  month  class  \n",
              "0           0.0     14066001_0_0    0    0      1      1  \n",
              "1           0.0     14066001_0_1    0    1      1      1  \n",
              "2           0.0     14066001_0_2    0    2      1      1  \n",
              "3           0.0     14066001_0_3    0    3      1      1  \n",
              "4           0.0     14066001_0_4    0    4      1      1  \n",
              "...         ...              ...  ...  ...    ...    ...  \n",
              "4409469     0.0  95690001_729_19  729   19     12      1  \n",
              "4409470     0.0  95690001_729_20  729   20     12      1  \n",
              "4409471     0.0  95690001_729_21  729   21     12      1  \n",
              "4409472     0.0  95690001_729_22  729   22     12      1  \n",
              "4409473     0.0  95690001_729_23  729   23     12      1  \n",
              "\n",
              "[4409474 rows x 13 columns]"
            ]
          },
          "execution_count": 40,
          "metadata": {},
          "output_type": "execute_result"
        }
      ],
      "source": [
        "Xtrain"
      ]
    },
    {
      "cell_type": "code",
      "execution_count": null,
      "id": "8ffcd878",
      "metadata": {
        "id": "8ffcd878"
      },
      "outputs": [],
      "source": []
    },
    {
      "cell_type": "code",
      "execution_count": null,
      "id": "cbf2e180",
      "metadata": {
        "id": "cbf2e180"
      },
      "outputs": [],
      "source": []
    },
    {
      "cell_type": "code",
      "execution_count": 41,
      "id": "81df4765",
      "metadata": {
        "colab": {
          "base_uri": "https://localhost:8080/",
          "height": 424
        },
        "id": "81df4765",
        "outputId": "85bf2a24-bf01-406b-9667-d337e74edefa"
      },
      "outputs": [
        {
          "data": {
            "text/html": [
              "<div>\n",
              "<style scoped>\n",
              "    .dataframe tbody tr th:only-of-type {\n",
              "        vertical-align: middle;\n",
              "    }\n",
              "\n",
              "    .dataframe tbody tr th {\n",
              "        vertical-align: top;\n",
              "    }\n",
              "\n",
              "    .dataframe thead th {\n",
              "        text-align: right;\n",
              "    }\n",
              "</style>\n",
              "<table border=\"1\" class=\"dataframe\">\n",
              "  <thead>\n",
              "    <tr style=\"text-align: right;\">\n",
              "      <th></th>\n",
              "      <th>number_sta</th>\n",
              "      <th>date</th>\n",
              "      <th>ff</th>\n",
              "      <th>t</th>\n",
              "      <th>td</th>\n",
              "      <th>hu</th>\n",
              "      <th>dd</th>\n",
              "      <th>precip</th>\n",
              "      <th>Id</th>\n",
              "      <th>day</th>\n",
              "      <th>hour</th>\n",
              "      <th>month</th>\n",
              "      <th>class</th>\n",
              "      <th>number_sta_day</th>\n",
              "    </tr>\n",
              "  </thead>\n",
              "  <tbody>\n",
              "    <tr>\n",
              "      <th>0</th>\n",
              "      <td>14066001</td>\n",
              "      <td>2016-01-01 00:00:00</td>\n",
              "      <td>3.05</td>\n",
              "      <td>279.28</td>\n",
              "      <td>277.97</td>\n",
              "      <td>91.4</td>\n",
              "      <td>200.0</td>\n",
              "      <td>0.0</td>\n",
              "      <td>14066001_0_0</td>\n",
              "      <td>0</td>\n",
              "      <td>0</td>\n",
              "      <td>1</td>\n",
              "      <td>1</td>\n",
              "      <td>14066001_0</td>\n",
              "    </tr>\n",
              "    <tr>\n",
              "      <th>1</th>\n",
              "      <td>14066001</td>\n",
              "      <td>2016-01-01 01:00:00</td>\n",
              "      <td>2.57</td>\n",
              "      <td>278.76</td>\n",
              "      <td>277.45</td>\n",
              "      <td>91.4</td>\n",
              "      <td>190.0</td>\n",
              "      <td>0.0</td>\n",
              "      <td>14066001_0_1</td>\n",
              "      <td>0</td>\n",
              "      <td>1</td>\n",
              "      <td>1</td>\n",
              "      <td>1</td>\n",
              "      <td>14066001_0</td>\n",
              "    </tr>\n",
              "    <tr>\n",
              "      <th>2</th>\n",
              "      <td>14066001</td>\n",
              "      <td>2016-01-01 02:00:00</td>\n",
              "      <td>2.26</td>\n",
              "      <td>278.27</td>\n",
              "      <td>277.02</td>\n",
              "      <td>91.7</td>\n",
              "      <td>181.0</td>\n",
              "      <td>0.0</td>\n",
              "      <td>14066001_0_2</td>\n",
              "      <td>0</td>\n",
              "      <td>2</td>\n",
              "      <td>1</td>\n",
              "      <td>1</td>\n",
              "      <td>14066001_0</td>\n",
              "    </tr>\n",
              "    <tr>\n",
              "      <th>3</th>\n",
              "      <td>14066001</td>\n",
              "      <td>2016-01-01 03:00:00</td>\n",
              "      <td>2.62</td>\n",
              "      <td>277.98</td>\n",
              "      <td>276.95</td>\n",
              "      <td>93.0</td>\n",
              "      <td>159.0</td>\n",
              "      <td>0.0</td>\n",
              "      <td>14066001_0_3</td>\n",
              "      <td>0</td>\n",
              "      <td>3</td>\n",
              "      <td>1</td>\n",
              "      <td>1</td>\n",
              "      <td>14066001_0</td>\n",
              "    </tr>\n",
              "    <tr>\n",
              "      <th>4</th>\n",
              "      <td>14066001</td>\n",
              "      <td>2016-01-01 04:00:00</td>\n",
              "      <td>2.99</td>\n",
              "      <td>277.32</td>\n",
              "      <td>276.72</td>\n",
              "      <td>95.9</td>\n",
              "      <td>171.0</td>\n",
              "      <td>0.0</td>\n",
              "      <td>14066001_0_4</td>\n",
              "      <td>0</td>\n",
              "      <td>4</td>\n",
              "      <td>1</td>\n",
              "      <td>1</td>\n",
              "      <td>14066001_0</td>\n",
              "    </tr>\n",
              "    <tr>\n",
              "      <th>...</th>\n",
              "      <td>...</td>\n",
              "      <td>...</td>\n",
              "      <td>...</td>\n",
              "      <td>...</td>\n",
              "      <td>...</td>\n",
              "      <td>...</td>\n",
              "      <td>...</td>\n",
              "      <td>...</td>\n",
              "      <td>...</td>\n",
              "      <td>...</td>\n",
              "      <td>...</td>\n",
              "      <td>...</td>\n",
              "      <td>...</td>\n",
              "      <td>...</td>\n",
              "    </tr>\n",
              "    <tr>\n",
              "      <th>4409469</th>\n",
              "      <td>95690001</td>\n",
              "      <td>2017-12-30 19:00:00</td>\n",
              "      <td>9.10</td>\n",
              "      <td>286.68</td>\n",
              "      <td>283.44</td>\n",
              "      <td>80.8</td>\n",
              "      <td>239.0</td>\n",
              "      <td>0.0</td>\n",
              "      <td>95690001_729_19</td>\n",
              "      <td>729</td>\n",
              "      <td>19</td>\n",
              "      <td>12</td>\n",
              "      <td>1</td>\n",
              "      <td>95690001_729</td>\n",
              "    </tr>\n",
              "    <tr>\n",
              "      <th>4409470</th>\n",
              "      <td>95690001</td>\n",
              "      <td>2017-12-30 20:00:00</td>\n",
              "      <td>8.58</td>\n",
              "      <td>286.39</td>\n",
              "      <td>283.21</td>\n",
              "      <td>81.1</td>\n",
              "      <td>231.0</td>\n",
              "      <td>0.0</td>\n",
              "      <td>95690001_729_20</td>\n",
              "      <td>729</td>\n",
              "      <td>20</td>\n",
              "      <td>12</td>\n",
              "      <td>1</td>\n",
              "      <td>95690001_729</td>\n",
              "    </tr>\n",
              "    <tr>\n",
              "      <th>4409471</th>\n",
              "      <td>95690001</td>\n",
              "      <td>2017-12-30 21:00:00</td>\n",
              "      <td>8.74</td>\n",
              "      <td>286.28</td>\n",
              "      <td>283.40</td>\n",
              "      <td>82.6</td>\n",
              "      <td>226.0</td>\n",
              "      <td>0.0</td>\n",
              "      <td>95690001_729_21</td>\n",
              "      <td>729</td>\n",
              "      <td>21</td>\n",
              "      <td>12</td>\n",
              "      <td>1</td>\n",
              "      <td>95690001_729</td>\n",
              "    </tr>\n",
              "    <tr>\n",
              "      <th>4409472</th>\n",
              "      <td>95690001</td>\n",
              "      <td>2017-12-30 22:00:00</td>\n",
              "      <td>9.04</td>\n",
              "      <td>286.21</td>\n",
              "      <td>283.29</td>\n",
              "      <td>82.4</td>\n",
              "      <td>224.0</td>\n",
              "      <td>0.0</td>\n",
              "      <td>95690001_729_22</td>\n",
              "      <td>729</td>\n",
              "      <td>22</td>\n",
              "      <td>12</td>\n",
              "      <td>1</td>\n",
              "      <td>95690001_729</td>\n",
              "    </tr>\n",
              "    <tr>\n",
              "      <th>4409473</th>\n",
              "      <td>95690001</td>\n",
              "      <td>2017-12-30 23:00:00</td>\n",
              "      <td>9.11</td>\n",
              "      <td>285.92</td>\n",
              "      <td>282.42</td>\n",
              "      <td>79.4</td>\n",
              "      <td>221.0</td>\n",
              "      <td>0.0</td>\n",
              "      <td>95690001_729_23</td>\n",
              "      <td>729</td>\n",
              "      <td>23</td>\n",
              "      <td>12</td>\n",
              "      <td>1</td>\n",
              "      <td>95690001_729</td>\n",
              "    </tr>\n",
              "  </tbody>\n",
              "</table>\n",
              "<p>4409474 rows × 14 columns</p>\n",
              "</div>"
            ],
            "text/plain": [
              "        number_sta                date    ff       t      td    hu     dd  \\\n",
              "0         14066001 2016-01-01 00:00:00  3.05  279.28  277.97  91.4  200.0   \n",
              "1         14066001 2016-01-01 01:00:00  2.57  278.76  277.45  91.4  190.0   \n",
              "2         14066001 2016-01-01 02:00:00  2.26  278.27  277.02  91.7  181.0   \n",
              "3         14066001 2016-01-01 03:00:00  2.62  277.98  276.95  93.0  159.0   \n",
              "4         14066001 2016-01-01 04:00:00  2.99  277.32  276.72  95.9  171.0   \n",
              "...            ...                 ...   ...     ...     ...   ...    ...   \n",
              "4409469   95690001 2017-12-30 19:00:00  9.10  286.68  283.44  80.8  239.0   \n",
              "4409470   95690001 2017-12-30 20:00:00  8.58  286.39  283.21  81.1  231.0   \n",
              "4409471   95690001 2017-12-30 21:00:00  8.74  286.28  283.40  82.6  226.0   \n",
              "4409472   95690001 2017-12-30 22:00:00  9.04  286.21  283.29  82.4  224.0   \n",
              "4409473   95690001 2017-12-30 23:00:00  9.11  285.92  282.42  79.4  221.0   \n",
              "\n",
              "         precip               Id  day hour  month  class number_sta_day  \n",
              "0           0.0     14066001_0_0    0    0      1      1     14066001_0  \n",
              "1           0.0     14066001_0_1    0    1      1      1     14066001_0  \n",
              "2           0.0     14066001_0_2    0    2      1      1     14066001_0  \n",
              "3           0.0     14066001_0_3    0    3      1      1     14066001_0  \n",
              "4           0.0     14066001_0_4    0    4      1      1     14066001_0  \n",
              "...         ...              ...  ...  ...    ...    ...            ...  \n",
              "4409469     0.0  95690001_729_19  729   19     12      1   95690001_729  \n",
              "4409470     0.0  95690001_729_20  729   20     12      1   95690001_729  \n",
              "4409471     0.0  95690001_729_21  729   21     12      1   95690001_729  \n",
              "4409472     0.0  95690001_729_22  729   22     12      1   95690001_729  \n",
              "4409473     0.0  95690001_729_23  729   23     12      1   95690001_729  \n",
              "\n",
              "[4409474 rows x 14 columns]"
            ]
          },
          "execution_count": 41,
          "metadata": {},
          "output_type": "execute_result"
        }
      ],
      "source": [
        "# Réorganisation des données pour modèle avec aggrégation dans le temps\n",
        "X[\"number_sta_day\"] = Xtrain['number_sta'].astype(str) + '_' + Xtrain['day'].astype(str)\n",
        "X"
      ]
    },
    {
      "cell_type": "code",
      "execution_count": 42,
      "id": "51ab9c31",
      "metadata": {
        "id": "51ab9c31"
      },
      "outputs": [],
      "source": [
        "X.drop(['class','Id','number_sta'],axis=1,inplace= True)"
      ]
    },
    {
      "cell_type": "code",
      "execution_count": 43,
      "id": "f17f2e8a",
      "metadata": {
        "id": "f17f2e8a"
      },
      "outputs": [],
      "source": [
        "X['ff_idx'] = 'ff_' + X[\"hour\"].astype(str)\n",
        "X['t_idx'] = 't_' + X[\"hour\"].astype(str)\n",
        "X['td_idx'] = 'td_' + X[\"hour\"].astype(str)\n",
        "X['hu_idx'] = 'hu_' + X[\"hour\"].astype(str)\n",
        "X['dd_idx'] = 'dd_' + X[\"hour\"].astype(str)\n",
        "X['precip_idx'] = 'precip_' + X[\"hour\"].astype(str)"
      ]
    },
    {
      "cell_type": "code",
      "execution_count": 44,
      "id": "ah271-4OJCSL",
      "metadata": {
        "id": "ah271-4OJCSL"
      },
      "outputs": [],
      "source": [
        "ff = X.pivot(index='number_sta_day',columns='ff_idx',values='ff')\n",
        "t = X.pivot(index='number_sta_day',columns='t_idx',values='t')\n",
        "td = X.pivot(index='number_sta_day',columns='td_idx',values='td')\n",
        "hu = X.pivot(index='number_sta_day',columns='hu_idx',values='hu')\n",
        "dd = X.pivot(index='number_sta_day',columns='dd_idx',values='dd')\n",
        "precip = X.pivot(index='number_sta_day',columns='precip_idx',values='precip')"
      ]
    },
    {
      "cell_type": "code",
      "execution_count": 45,
      "id": "e6b7192f",
      "metadata": {
        "id": "e6b7192f"
      },
      "outputs": [],
      "source": [
        "X_reshape = pd.concat([ff ,t,td,hu,dd,precip],axis=1)"
      ]
    },
    {
      "cell_type": "code",
      "execution_count": 46,
      "id": "b1ebbdaf",
      "metadata": {
        "colab": {
          "base_uri": "https://localhost:8080/",
          "height": 488
        },
        "id": "b1ebbdaf",
        "outputId": "01df3644-2c27-4915-e927-e9f8dff5db64"
      },
      "outputs": [
        {
          "data": {
            "text/html": [
              "<div>\n",
              "<style scoped>\n",
              "    .dataframe tbody tr th:only-of-type {\n",
              "        vertical-align: middle;\n",
              "    }\n",
              "\n",
              "    .dataframe tbody tr th {\n",
              "        vertical-align: top;\n",
              "    }\n",
              "\n",
              "    .dataframe thead th {\n",
              "        text-align: right;\n",
              "    }\n",
              "</style>\n",
              "<table border=\"1\" class=\"dataframe\">\n",
              "  <thead>\n",
              "    <tr style=\"text-align: right;\">\n",
              "      <th></th>\n",
              "      <th>number_sta_day</th>\n",
              "      <th>ff_0</th>\n",
              "      <th>ff_1</th>\n",
              "      <th>ff_10</th>\n",
              "      <th>ff_11</th>\n",
              "      <th>ff_12</th>\n",
              "      <th>ff_13</th>\n",
              "      <th>ff_14</th>\n",
              "      <th>ff_15</th>\n",
              "      <th>ff_16</th>\n",
              "      <th>...</th>\n",
              "      <th>precip_21</th>\n",
              "      <th>precip_22</th>\n",
              "      <th>precip_23</th>\n",
              "      <th>precip_3</th>\n",
              "      <th>precip_4</th>\n",
              "      <th>precip_5</th>\n",
              "      <th>precip_6</th>\n",
              "      <th>precip_7</th>\n",
              "      <th>precip_8</th>\n",
              "      <th>precip_9</th>\n",
              "    </tr>\n",
              "  </thead>\n",
              "  <tbody>\n",
              "    <tr>\n",
              "      <th>0</th>\n",
              "      <td>14066001_0</td>\n",
              "      <td>3.05</td>\n",
              "      <td>2.57</td>\n",
              "      <td>3.38</td>\n",
              "      <td>3.20</td>\n",
              "      <td>3.85</td>\n",
              "      <td>5.19</td>\n",
              "      <td>6.04</td>\n",
              "      <td>4.43</td>\n",
              "      <td>5.10</td>\n",
              "      <td>...</td>\n",
              "      <td>0.0</td>\n",
              "      <td>0.0</td>\n",
              "      <td>0.0</td>\n",
              "      <td>0.0</td>\n",
              "      <td>0.0</td>\n",
              "      <td>0.0</td>\n",
              "      <td>0.0</td>\n",
              "      <td>0.0</td>\n",
              "      <td>0.0</td>\n",
              "      <td>0.0</td>\n",
              "    </tr>\n",
              "    <tr>\n",
              "      <th>1</th>\n",
              "      <td>14066001_1</td>\n",
              "      <td>4.73</td>\n",
              "      <td>4.22</td>\n",
              "      <td>9.45</td>\n",
              "      <td>11.51</td>\n",
              "      <td>11.52</td>\n",
              "      <td>10.79</td>\n",
              "      <td>10.53</td>\n",
              "      <td>9.66</td>\n",
              "      <td>10.26</td>\n",
              "      <td>...</td>\n",
              "      <td>0.0</td>\n",
              "      <td>0.0</td>\n",
              "      <td>0.0</td>\n",
              "      <td>0.0</td>\n",
              "      <td>0.0</td>\n",
              "      <td>0.0</td>\n",
              "      <td>0.0</td>\n",
              "      <td>0.0</td>\n",
              "      <td>0.0</td>\n",
              "      <td>0.0</td>\n",
              "    </tr>\n",
              "    <tr>\n",
              "      <th>2</th>\n",
              "      <td>14066001_10</td>\n",
              "      <td>3.68</td>\n",
              "      <td>4.70</td>\n",
              "      <td>7.78</td>\n",
              "      <td>8.08</td>\n",
              "      <td>6.89</td>\n",
              "      <td>5.54</td>\n",
              "      <td>7.01</td>\n",
              "      <td>7.10</td>\n",
              "      <td>6.41</td>\n",
              "      <td>...</td>\n",
              "      <td>0.2</td>\n",
              "      <td>0.0</td>\n",
              "      <td>0.4</td>\n",
              "      <td>0.0</td>\n",
              "      <td>0.0</td>\n",
              "      <td>0.0</td>\n",
              "      <td>0.0</td>\n",
              "      <td>0.0</td>\n",
              "      <td>0.0</td>\n",
              "      <td>0.0</td>\n",
              "    </tr>\n",
              "    <tr>\n",
              "      <th>3</th>\n",
              "      <td>14066001_100</td>\n",
              "      <td>2.09</td>\n",
              "      <td>2.75</td>\n",
              "      <td>6.80</td>\n",
              "      <td>6.40</td>\n",
              "      <td>6.73</td>\n",
              "      <td>5.62</td>\n",
              "      <td>4.92</td>\n",
              "      <td>5.49</td>\n",
              "      <td>5.41</td>\n",
              "      <td>...</td>\n",
              "      <td>0.0</td>\n",
              "      <td>0.0</td>\n",
              "      <td>0.0</td>\n",
              "      <td>0.0</td>\n",
              "      <td>0.0</td>\n",
              "      <td>0.0</td>\n",
              "      <td>0.0</td>\n",
              "      <td>0.0</td>\n",
              "      <td>0.0</td>\n",
              "      <td>0.0</td>\n",
              "    </tr>\n",
              "    <tr>\n",
              "      <th>4</th>\n",
              "      <td>14066001_101</td>\n",
              "      <td>1.23</td>\n",
              "      <td>1.35</td>\n",
              "      <td>2.08</td>\n",
              "      <td>2.33</td>\n",
              "      <td>2.64</td>\n",
              "      <td>2.48</td>\n",
              "      <td>2.83</td>\n",
              "      <td>1.69</td>\n",
              "      <td>1.96</td>\n",
              "      <td>...</td>\n",
              "      <td>0.0</td>\n",
              "      <td>0.0</td>\n",
              "      <td>0.0</td>\n",
              "      <td>0.2</td>\n",
              "      <td>0.4</td>\n",
              "      <td>2.2</td>\n",
              "      <td>0.0</td>\n",
              "      <td>0.0</td>\n",
              "      <td>0.0</td>\n",
              "      <td>0.0</td>\n",
              "    </tr>\n",
              "    <tr>\n",
              "      <th>...</th>\n",
              "      <td>...</td>\n",
              "      <td>...</td>\n",
              "      <td>...</td>\n",
              "      <td>...</td>\n",
              "      <td>...</td>\n",
              "      <td>...</td>\n",
              "      <td>...</td>\n",
              "      <td>...</td>\n",
              "      <td>...</td>\n",
              "      <td>...</td>\n",
              "      <td>...</td>\n",
              "      <td>...</td>\n",
              "      <td>...</td>\n",
              "      <td>...</td>\n",
              "      <td>...</td>\n",
              "      <td>...</td>\n",
              "      <td>...</td>\n",
              "      <td>...</td>\n",
              "      <td>...</td>\n",
              "      <td>...</td>\n",
              "      <td>...</td>\n",
              "    </tr>\n",
              "    <tr>\n",
              "      <th>183742</th>\n",
              "      <td>95690001_725</td>\n",
              "      <td>8.48</td>\n",
              "      <td>9.21</td>\n",
              "      <td>7.40</td>\n",
              "      <td>7.22</td>\n",
              "      <td>6.82</td>\n",
              "      <td>6.88</td>\n",
              "      <td>7.09</td>\n",
              "      <td>5.77</td>\n",
              "      <td>6.43</td>\n",
              "      <td>...</td>\n",
              "      <td>0.0</td>\n",
              "      <td>0.0</td>\n",
              "      <td>0.0</td>\n",
              "      <td>0.2</td>\n",
              "      <td>0.0</td>\n",
              "      <td>0.0</td>\n",
              "      <td>0.0</td>\n",
              "      <td>0.0</td>\n",
              "      <td>0.0</td>\n",
              "      <td>0.0</td>\n",
              "    </tr>\n",
              "    <tr>\n",
              "      <th>183743</th>\n",
              "      <td>95690001_726</td>\n",
              "      <td>7.76</td>\n",
              "      <td>9.47</td>\n",
              "      <td>7.49</td>\n",
              "      <td>10.45</td>\n",
              "      <td>9.44</td>\n",
              "      <td>12.49</td>\n",
              "      <td>12.29</td>\n",
              "      <td>12.05</td>\n",
              "      <td>11.24</td>\n",
              "      <td>...</td>\n",
              "      <td>0.0</td>\n",
              "      <td>0.0</td>\n",
              "      <td>0.0</td>\n",
              "      <td>0.0</td>\n",
              "      <td>0.0</td>\n",
              "      <td>0.0</td>\n",
              "      <td>0.0</td>\n",
              "      <td>0.0</td>\n",
              "      <td>1.4</td>\n",
              "      <td>0.8</td>\n",
              "    </tr>\n",
              "    <tr>\n",
              "      <th>183744</th>\n",
              "      <td>95690001_727</td>\n",
              "      <td>6.04</td>\n",
              "      <td>5.15</td>\n",
              "      <td>2.90</td>\n",
              "      <td>2.43</td>\n",
              "      <td>3.93</td>\n",
              "      <td>4.48</td>\n",
              "      <td>4.48</td>\n",
              "      <td>4.06</td>\n",
              "      <td>3.16</td>\n",
              "      <td>...</td>\n",
              "      <td>0.0</td>\n",
              "      <td>0.0</td>\n",
              "      <td>0.0</td>\n",
              "      <td>0.0</td>\n",
              "      <td>0.0</td>\n",
              "      <td>0.0</td>\n",
              "      <td>0.0</td>\n",
              "      <td>0.0</td>\n",
              "      <td>0.0</td>\n",
              "      <td>0.0</td>\n",
              "    </tr>\n",
              "    <tr>\n",
              "      <th>183745</th>\n",
              "      <td>95690001_728</td>\n",
              "      <td>1.78</td>\n",
              "      <td>1.26</td>\n",
              "      <td>9.64</td>\n",
              "      <td>10.86</td>\n",
              "      <td>9.73</td>\n",
              "      <td>9.10</td>\n",
              "      <td>10.45</td>\n",
              "      <td>8.57</td>\n",
              "      <td>9.81</td>\n",
              "      <td>...</td>\n",
              "      <td>0.0</td>\n",
              "      <td>0.0</td>\n",
              "      <td>0.0</td>\n",
              "      <td>0.0</td>\n",
              "      <td>0.0</td>\n",
              "      <td>0.0</td>\n",
              "      <td>0.0</td>\n",
              "      <td>0.0</td>\n",
              "      <td>0.0</td>\n",
              "      <td>0.0</td>\n",
              "    </tr>\n",
              "    <tr>\n",
              "      <th>183746</th>\n",
              "      <td>95690001_729</td>\n",
              "      <td>5.62</td>\n",
              "      <td>6.02</td>\n",
              "      <td>10.74</td>\n",
              "      <td>8.78</td>\n",
              "      <td>7.07</td>\n",
              "      <td>7.30</td>\n",
              "      <td>7.86</td>\n",
              "      <td>8.14</td>\n",
              "      <td>9.05</td>\n",
              "      <td>...</td>\n",
              "      <td>0.0</td>\n",
              "      <td>0.0</td>\n",
              "      <td>0.0</td>\n",
              "      <td>0.6</td>\n",
              "      <td>0.2</td>\n",
              "      <td>0.0</td>\n",
              "      <td>0.0</td>\n",
              "      <td>0.0</td>\n",
              "      <td>0.0</td>\n",
              "      <td>0.0</td>\n",
              "    </tr>\n",
              "  </tbody>\n",
              "</table>\n",
              "<p>183747 rows × 145 columns</p>\n",
              "</div>"
            ],
            "text/plain": [
              "       number_sta_day  ff_0  ff_1  ff_10  ff_11  ff_12  ff_13  ff_14  ff_15  \\\n",
              "0          14066001_0  3.05  2.57   3.38   3.20   3.85   5.19   6.04   4.43   \n",
              "1          14066001_1  4.73  4.22   9.45  11.51  11.52  10.79  10.53   9.66   \n",
              "2         14066001_10  3.68  4.70   7.78   8.08   6.89   5.54   7.01   7.10   \n",
              "3        14066001_100  2.09  2.75   6.80   6.40   6.73   5.62   4.92   5.49   \n",
              "4        14066001_101  1.23  1.35   2.08   2.33   2.64   2.48   2.83   1.69   \n",
              "...               ...   ...   ...    ...    ...    ...    ...    ...    ...   \n",
              "183742   95690001_725  8.48  9.21   7.40   7.22   6.82   6.88   7.09   5.77   \n",
              "183743   95690001_726  7.76  9.47   7.49  10.45   9.44  12.49  12.29  12.05   \n",
              "183744   95690001_727  6.04  5.15   2.90   2.43   3.93   4.48   4.48   4.06   \n",
              "183745   95690001_728  1.78  1.26   9.64  10.86   9.73   9.10  10.45   8.57   \n",
              "183746   95690001_729  5.62  6.02  10.74   8.78   7.07   7.30   7.86   8.14   \n",
              "\n",
              "        ff_16  ...  precip_21  precip_22  precip_23  precip_3  precip_4  \\\n",
              "0        5.10  ...        0.0        0.0        0.0       0.0       0.0   \n",
              "1       10.26  ...        0.0        0.0        0.0       0.0       0.0   \n",
              "2        6.41  ...        0.2        0.0        0.4       0.0       0.0   \n",
              "3        5.41  ...        0.0        0.0        0.0       0.0       0.0   \n",
              "4        1.96  ...        0.0        0.0        0.0       0.2       0.4   \n",
              "...       ...  ...        ...        ...        ...       ...       ...   \n",
              "183742   6.43  ...        0.0        0.0        0.0       0.2       0.0   \n",
              "183743  11.24  ...        0.0        0.0        0.0       0.0       0.0   \n",
              "183744   3.16  ...        0.0        0.0        0.0       0.0       0.0   \n",
              "183745   9.81  ...        0.0        0.0        0.0       0.0       0.0   \n",
              "183746   9.05  ...        0.0        0.0        0.0       0.6       0.2   \n",
              "\n",
              "        precip_5  precip_6  precip_7  precip_8  precip_9  \n",
              "0            0.0       0.0       0.0       0.0       0.0  \n",
              "1            0.0       0.0       0.0       0.0       0.0  \n",
              "2            0.0       0.0       0.0       0.0       0.0  \n",
              "3            0.0       0.0       0.0       0.0       0.0  \n",
              "4            2.2       0.0       0.0       0.0       0.0  \n",
              "...          ...       ...       ...       ...       ...  \n",
              "183742       0.0       0.0       0.0       0.0       0.0  \n",
              "183743       0.0       0.0       0.0       1.4       0.8  \n",
              "183744       0.0       0.0       0.0       0.0       0.0  \n",
              "183745       0.0       0.0       0.0       0.0       0.0  \n",
              "183746       0.0       0.0       0.0       0.0       0.0  \n",
              "\n",
              "[183747 rows x 145 columns]"
            ]
          },
          "execution_count": 46,
          "metadata": {},
          "output_type": "execute_result"
        }
      ],
      "source": [
        "X_reshape.reset_index(inplace=True)\n",
        "X_reshape"
      ]
    },
    {
      "cell_type": "markdown",
      "id": "4wXzs4NqpPHS",
      "metadata": {
        "id": "4wXzs4NqpPHS"
      },
      "source": []
    },
    {
      "cell_type": "code",
      "execution_count": 47,
      "id": "rscXtQRr5nIn",
      "metadata": {
        "colab": {
          "base_uri": "https://localhost:8080/",
          "height": 424
        },
        "id": "rscXtQRr5nIn",
        "outputId": "d5165077-7c65-4f6f-a5e6-7db47a6417f5"
      },
      "outputs": [
        {
          "data": {
            "text/html": [
              "<div>\n",
              "<style scoped>\n",
              "    .dataframe tbody tr th:only-of-type {\n",
              "        vertical-align: middle;\n",
              "    }\n",
              "\n",
              "    .dataframe tbody tr th {\n",
              "        vertical-align: top;\n",
              "    }\n",
              "\n",
              "    .dataframe thead th {\n",
              "        text-align: right;\n",
              "    }\n",
              "</style>\n",
              "<table border=\"1\" class=\"dataframe\">\n",
              "  <thead>\n",
              "    <tr style=\"text-align: right;\">\n",
              "      <th></th>\n",
              "      <th>date</th>\n",
              "      <th>number_sta</th>\n",
              "      <th>Ground_truth</th>\n",
              "      <th>Id</th>\n",
              "    </tr>\n",
              "  </thead>\n",
              "  <tbody>\n",
              "    <tr>\n",
              "      <th>0</th>\n",
              "      <td>2016-01-02</td>\n",
              "      <td>14066001</td>\n",
              "      <td>3.4</td>\n",
              "      <td>14066001_0</td>\n",
              "    </tr>\n",
              "    <tr>\n",
              "      <th>1</th>\n",
              "      <td>2016-01-02</td>\n",
              "      <td>14126001</td>\n",
              "      <td>0.5</td>\n",
              "      <td>14126001_0</td>\n",
              "    </tr>\n",
              "    <tr>\n",
              "      <th>2</th>\n",
              "      <td>2016-01-02</td>\n",
              "      <td>14137001</td>\n",
              "      <td>3.4</td>\n",
              "      <td>14137001_0</td>\n",
              "    </tr>\n",
              "    <tr>\n",
              "      <th>3</th>\n",
              "      <td>2016-01-02</td>\n",
              "      <td>14216001</td>\n",
              "      <td>4.0</td>\n",
              "      <td>14216001_0</td>\n",
              "    </tr>\n",
              "    <tr>\n",
              "      <th>4</th>\n",
              "      <td>2016-01-02</td>\n",
              "      <td>14296001</td>\n",
              "      <td>13.3</td>\n",
              "      <td>14296001_0</td>\n",
              "    </tr>\n",
              "    <tr>\n",
              "      <th>...</th>\n",
              "      <td>...</td>\n",
              "      <td>...</td>\n",
              "      <td>...</td>\n",
              "      <td>...</td>\n",
              "    </tr>\n",
              "    <tr>\n",
              "      <th>183742</th>\n",
              "      <td>2017-12-31</td>\n",
              "      <td>86137003</td>\n",
              "      <td>5.0</td>\n",
              "      <td>86137003_729</td>\n",
              "    </tr>\n",
              "    <tr>\n",
              "      <th>183743</th>\n",
              "      <td>2017-12-31</td>\n",
              "      <td>86165005</td>\n",
              "      <td>3.2</td>\n",
              "      <td>86165005_729</td>\n",
              "    </tr>\n",
              "    <tr>\n",
              "      <th>183744</th>\n",
              "      <td>2017-12-31</td>\n",
              "      <td>86272002</td>\n",
              "      <td>1.8</td>\n",
              "      <td>86272002_729</td>\n",
              "    </tr>\n",
              "    <tr>\n",
              "      <th>183745</th>\n",
              "      <td>2017-12-31</td>\n",
              "      <td>91200002</td>\n",
              "      <td>1.6</td>\n",
              "      <td>91200002_729</td>\n",
              "    </tr>\n",
              "    <tr>\n",
              "      <th>183746</th>\n",
              "      <td>2017-12-31</td>\n",
              "      <td>95690001</td>\n",
              "      <td>1.2</td>\n",
              "      <td>95690001_729</td>\n",
              "    </tr>\n",
              "  </tbody>\n",
              "</table>\n",
              "<p>183747 rows × 4 columns</p>\n",
              "</div>"
            ],
            "text/plain": [
              "             date number_sta  Ground_truth            Id\n",
              "0      2016-01-02   14066001           3.4    14066001_0\n",
              "1      2016-01-02   14126001           0.5    14126001_0\n",
              "2      2016-01-02   14137001           3.4    14137001_0\n",
              "3      2016-01-02   14216001           4.0    14216001_0\n",
              "4      2016-01-02   14296001          13.3    14296001_0\n",
              "...           ...        ...           ...           ...\n",
              "183742 2017-12-31   86137003           5.0  86137003_729\n",
              "183743 2017-12-31   86165005           3.2  86165005_729\n",
              "183744 2017-12-31   86272002           1.8  86272002_729\n",
              "183745 2017-12-31   91200002           1.6  91200002_729\n",
              "183746 2017-12-31   95690001           1.2  95690001_729\n",
              "\n",
              "[183747 rows x 4 columns]"
            ]
          },
          "metadata": {},
          "output_type": "display_data"
        }
      ],
      "source": [
        "# Données de cumul de pluie\n",
        "fname = 'defi-ia-2022/Train/Train/Y_train.csv'\n",
        "param = 'Ground_truth'  #weather parameter name in the file ('Ground_truth' about Y and 'Prediction' about baseline)\n",
        "data = pd.read_csv(fname, parse_dates=['date'], infer_datetime_format=True)\n",
        "data['number_sta'] = data['number_sta'].astype('category')\n",
        "display(data)"
      ]
    },
    {
      "cell_type": "code",
      "execution_count": 48,
      "id": "k6NpsMaT5nIo",
      "metadata": {
        "colab": {
          "base_uri": "https://localhost:8080/",
          "height": 424
        },
        "id": "k6NpsMaT5nIo",
        "outputId": "094fce46-438d-4e42-e851-faa37547db1b"
      },
      "outputs": [
        {
          "data": {
            "text/html": [
              "<div>\n",
              "<style scoped>\n",
              "    .dataframe tbody tr th:only-of-type {\n",
              "        vertical-align: middle;\n",
              "    }\n",
              "\n",
              "    .dataframe tbody tr th {\n",
              "        vertical-align: top;\n",
              "    }\n",
              "\n",
              "    .dataframe thead th {\n",
              "        text-align: right;\n",
              "    }\n",
              "</style>\n",
              "<table border=\"1\" class=\"dataframe\">\n",
              "  <thead>\n",
              "    <tr style=\"text-align: right;\">\n",
              "      <th></th>\n",
              "      <th>Y</th>\n",
              "      <th>number_sta_day</th>\n",
              "    </tr>\n",
              "  </thead>\n",
              "  <tbody>\n",
              "    <tr>\n",
              "      <th>0</th>\n",
              "      <td>3.4</td>\n",
              "      <td>14066001_0</td>\n",
              "    </tr>\n",
              "    <tr>\n",
              "      <th>1</th>\n",
              "      <td>0.5</td>\n",
              "      <td>14126001_0</td>\n",
              "    </tr>\n",
              "    <tr>\n",
              "      <th>2</th>\n",
              "      <td>3.4</td>\n",
              "      <td>14137001_0</td>\n",
              "    </tr>\n",
              "    <tr>\n",
              "      <th>3</th>\n",
              "      <td>4.0</td>\n",
              "      <td>14216001_0</td>\n",
              "    </tr>\n",
              "    <tr>\n",
              "      <th>4</th>\n",
              "      <td>13.3</td>\n",
              "      <td>14296001_0</td>\n",
              "    </tr>\n",
              "    <tr>\n",
              "      <th>...</th>\n",
              "      <td>...</td>\n",
              "      <td>...</td>\n",
              "    </tr>\n",
              "    <tr>\n",
              "      <th>183742</th>\n",
              "      <td>5.0</td>\n",
              "      <td>86137003_729</td>\n",
              "    </tr>\n",
              "    <tr>\n",
              "      <th>183743</th>\n",
              "      <td>3.2</td>\n",
              "      <td>86165005_729</td>\n",
              "    </tr>\n",
              "    <tr>\n",
              "      <th>183744</th>\n",
              "      <td>1.8</td>\n",
              "      <td>86272002_729</td>\n",
              "    </tr>\n",
              "    <tr>\n",
              "      <th>183745</th>\n",
              "      <td>1.6</td>\n",
              "      <td>91200002_729</td>\n",
              "    </tr>\n",
              "    <tr>\n",
              "      <th>183746</th>\n",
              "      <td>1.2</td>\n",
              "      <td>95690001_729</td>\n",
              "    </tr>\n",
              "  </tbody>\n",
              "</table>\n",
              "<p>162107 rows × 2 columns</p>\n",
              "</div>"
            ],
            "text/plain": [
              "           Y number_sta_day\n",
              "0        3.4     14066001_0\n",
              "1        0.5     14126001_0\n",
              "2        3.4     14137001_0\n",
              "3        4.0     14216001_0\n",
              "4       13.3     14296001_0\n",
              "...      ...            ...\n",
              "183742   5.0   86137003_729\n",
              "183743   3.2   86165005_729\n",
              "183744   1.8   86272002_729\n",
              "183745   1.6   91200002_729\n",
              "183746   1.2   95690001_729\n",
              "\n",
              "[162107 rows x 2 columns]"
            ]
          },
          "metadata": {},
          "output_type": "display_data"
        }
      ],
      "source": [
        "Y = data[[\"Ground_truth\",\"Id\"]]\n",
        "Y.rename(columns = {\"Ground_truth\":\"Y\",\"Id\":\"number_sta_day\"},inplace=True)\n",
        "Y.dropna(inplace=True)\n",
        "display(Y)"
      ]
    },
    {
      "cell_type": "code",
      "execution_count": 49,
      "id": "9Hy4PF2r5nIo",
      "metadata": {
        "colab": {
          "base_uri": "https://localhost:8080/",
          "height": 488
        },
        "id": "9Hy4PF2r5nIo",
        "outputId": "68ccd8e1-a9c6-4edd-b4dc-6bd0b80f763e"
      },
      "outputs": [
        {
          "data": {
            "text/html": [
              "<div>\n",
              "<style scoped>\n",
              "    .dataframe tbody tr th:only-of-type {\n",
              "        vertical-align: middle;\n",
              "    }\n",
              "\n",
              "    .dataframe tbody tr th {\n",
              "        vertical-align: top;\n",
              "    }\n",
              "\n",
              "    .dataframe thead th {\n",
              "        text-align: right;\n",
              "    }\n",
              "</style>\n",
              "<table border=\"1\" class=\"dataframe\">\n",
              "  <thead>\n",
              "    <tr style=\"text-align: right;\">\n",
              "      <th></th>\n",
              "      <th>number_sta_day</th>\n",
              "      <th>ff_0</th>\n",
              "      <th>ff_1</th>\n",
              "      <th>ff_10</th>\n",
              "      <th>ff_11</th>\n",
              "      <th>ff_12</th>\n",
              "      <th>ff_13</th>\n",
              "      <th>ff_14</th>\n",
              "      <th>ff_15</th>\n",
              "      <th>ff_16</th>\n",
              "      <th>...</th>\n",
              "      <th>precip_22</th>\n",
              "      <th>precip_23</th>\n",
              "      <th>precip_3</th>\n",
              "      <th>precip_4</th>\n",
              "      <th>precip_5</th>\n",
              "      <th>precip_6</th>\n",
              "      <th>precip_7</th>\n",
              "      <th>precip_8</th>\n",
              "      <th>precip_9</th>\n",
              "      <th>Y</th>\n",
              "    </tr>\n",
              "  </thead>\n",
              "  <tbody>\n",
              "    <tr>\n",
              "      <th>0</th>\n",
              "      <td>14066001_0</td>\n",
              "      <td>3.05</td>\n",
              "      <td>2.57</td>\n",
              "      <td>3.38</td>\n",
              "      <td>3.20</td>\n",
              "      <td>3.85</td>\n",
              "      <td>5.19</td>\n",
              "      <td>6.04</td>\n",
              "      <td>4.43</td>\n",
              "      <td>5.10</td>\n",
              "      <td>...</td>\n",
              "      <td>0.0</td>\n",
              "      <td>0.0</td>\n",
              "      <td>0.0</td>\n",
              "      <td>0.0</td>\n",
              "      <td>0.0</td>\n",
              "      <td>0.0</td>\n",
              "      <td>0.0</td>\n",
              "      <td>0.0</td>\n",
              "      <td>0.0</td>\n",
              "      <td>3.4</td>\n",
              "    </tr>\n",
              "    <tr>\n",
              "      <th>1</th>\n",
              "      <td>14066001_1</td>\n",
              "      <td>4.73</td>\n",
              "      <td>4.22</td>\n",
              "      <td>9.45</td>\n",
              "      <td>11.51</td>\n",
              "      <td>11.52</td>\n",
              "      <td>10.79</td>\n",
              "      <td>10.53</td>\n",
              "      <td>9.66</td>\n",
              "      <td>10.26</td>\n",
              "      <td>...</td>\n",
              "      <td>0.0</td>\n",
              "      <td>0.0</td>\n",
              "      <td>0.0</td>\n",
              "      <td>0.0</td>\n",
              "      <td>0.0</td>\n",
              "      <td>0.0</td>\n",
              "      <td>0.0</td>\n",
              "      <td>0.0</td>\n",
              "      <td>0.0</td>\n",
              "      <td>11.7</td>\n",
              "    </tr>\n",
              "    <tr>\n",
              "      <th>2</th>\n",
              "      <td>14066001_10</td>\n",
              "      <td>3.68</td>\n",
              "      <td>4.70</td>\n",
              "      <td>7.78</td>\n",
              "      <td>8.08</td>\n",
              "      <td>6.89</td>\n",
              "      <td>5.54</td>\n",
              "      <td>7.01</td>\n",
              "      <td>7.10</td>\n",
              "      <td>6.41</td>\n",
              "      <td>...</td>\n",
              "      <td>0.0</td>\n",
              "      <td>0.4</td>\n",
              "      <td>0.0</td>\n",
              "      <td>0.0</td>\n",
              "      <td>0.0</td>\n",
              "      <td>0.0</td>\n",
              "      <td>0.0</td>\n",
              "      <td>0.0</td>\n",
              "      <td>0.0</td>\n",
              "      <td>1.0</td>\n",
              "    </tr>\n",
              "    <tr>\n",
              "      <th>3</th>\n",
              "      <td>14066001_100</td>\n",
              "      <td>2.09</td>\n",
              "      <td>2.75</td>\n",
              "      <td>6.80</td>\n",
              "      <td>6.40</td>\n",
              "      <td>6.73</td>\n",
              "      <td>5.62</td>\n",
              "      <td>4.92</td>\n",
              "      <td>5.49</td>\n",
              "      <td>5.41</td>\n",
              "      <td>...</td>\n",
              "      <td>0.0</td>\n",
              "      <td>0.0</td>\n",
              "      <td>0.0</td>\n",
              "      <td>0.0</td>\n",
              "      <td>0.0</td>\n",
              "      <td>0.0</td>\n",
              "      <td>0.0</td>\n",
              "      <td>0.0</td>\n",
              "      <td>0.0</td>\n",
              "      <td>5.6</td>\n",
              "    </tr>\n",
              "    <tr>\n",
              "      <th>4</th>\n",
              "      <td>14066001_101</td>\n",
              "      <td>1.23</td>\n",
              "      <td>1.35</td>\n",
              "      <td>2.08</td>\n",
              "      <td>2.33</td>\n",
              "      <td>2.64</td>\n",
              "      <td>2.48</td>\n",
              "      <td>2.83</td>\n",
              "      <td>1.69</td>\n",
              "      <td>1.96</td>\n",
              "      <td>...</td>\n",
              "      <td>0.0</td>\n",
              "      <td>0.0</td>\n",
              "      <td>0.2</td>\n",
              "      <td>0.4</td>\n",
              "      <td>2.2</td>\n",
              "      <td>0.0</td>\n",
              "      <td>0.0</td>\n",
              "      <td>0.0</td>\n",
              "      <td>0.0</td>\n",
              "      <td>3.2</td>\n",
              "    </tr>\n",
              "    <tr>\n",
              "      <th>...</th>\n",
              "      <td>...</td>\n",
              "      <td>...</td>\n",
              "      <td>...</td>\n",
              "      <td>...</td>\n",
              "      <td>...</td>\n",
              "      <td>...</td>\n",
              "      <td>...</td>\n",
              "      <td>...</td>\n",
              "      <td>...</td>\n",
              "      <td>...</td>\n",
              "      <td>...</td>\n",
              "      <td>...</td>\n",
              "      <td>...</td>\n",
              "      <td>...</td>\n",
              "      <td>...</td>\n",
              "      <td>...</td>\n",
              "      <td>...</td>\n",
              "      <td>...</td>\n",
              "      <td>...</td>\n",
              "      <td>...</td>\n",
              "      <td>...</td>\n",
              "    </tr>\n",
              "    <tr>\n",
              "      <th>162102</th>\n",
              "      <td>95690001_725</td>\n",
              "      <td>8.48</td>\n",
              "      <td>9.21</td>\n",
              "      <td>7.40</td>\n",
              "      <td>7.22</td>\n",
              "      <td>6.82</td>\n",
              "      <td>6.88</td>\n",
              "      <td>7.09</td>\n",
              "      <td>5.77</td>\n",
              "      <td>6.43</td>\n",
              "      <td>...</td>\n",
              "      <td>0.0</td>\n",
              "      <td>0.0</td>\n",
              "      <td>0.2</td>\n",
              "      <td>0.0</td>\n",
              "      <td>0.0</td>\n",
              "      <td>0.0</td>\n",
              "      <td>0.0</td>\n",
              "      <td>0.0</td>\n",
              "      <td>0.0</td>\n",
              "      <td>3.2</td>\n",
              "    </tr>\n",
              "    <tr>\n",
              "      <th>162103</th>\n",
              "      <td>95690001_726</td>\n",
              "      <td>7.76</td>\n",
              "      <td>9.47</td>\n",
              "      <td>7.49</td>\n",
              "      <td>10.45</td>\n",
              "      <td>9.44</td>\n",
              "      <td>12.49</td>\n",
              "      <td>12.29</td>\n",
              "      <td>12.05</td>\n",
              "      <td>11.24</td>\n",
              "      <td>...</td>\n",
              "      <td>0.0</td>\n",
              "      <td>0.0</td>\n",
              "      <td>0.0</td>\n",
              "      <td>0.0</td>\n",
              "      <td>0.0</td>\n",
              "      <td>0.0</td>\n",
              "      <td>0.0</td>\n",
              "      <td>1.4</td>\n",
              "      <td>0.8</td>\n",
              "      <td>0.0</td>\n",
              "    </tr>\n",
              "    <tr>\n",
              "      <th>162104</th>\n",
              "      <td>95690001_727</td>\n",
              "      <td>6.04</td>\n",
              "      <td>5.15</td>\n",
              "      <td>2.90</td>\n",
              "      <td>2.43</td>\n",
              "      <td>3.93</td>\n",
              "      <td>4.48</td>\n",
              "      <td>4.48</td>\n",
              "      <td>4.06</td>\n",
              "      <td>3.16</td>\n",
              "      <td>...</td>\n",
              "      <td>0.0</td>\n",
              "      <td>0.0</td>\n",
              "      <td>0.0</td>\n",
              "      <td>0.0</td>\n",
              "      <td>0.0</td>\n",
              "      <td>0.0</td>\n",
              "      <td>0.0</td>\n",
              "      <td>0.0</td>\n",
              "      <td>0.0</td>\n",
              "      <td>4.4</td>\n",
              "    </tr>\n",
              "    <tr>\n",
              "      <th>162105</th>\n",
              "      <td>95690001_728</td>\n",
              "      <td>1.78</td>\n",
              "      <td>1.26</td>\n",
              "      <td>9.64</td>\n",
              "      <td>10.86</td>\n",
              "      <td>9.73</td>\n",
              "      <td>9.10</td>\n",
              "      <td>10.45</td>\n",
              "      <td>8.57</td>\n",
              "      <td>9.81</td>\n",
              "      <td>...</td>\n",
              "      <td>0.0</td>\n",
              "      <td>0.0</td>\n",
              "      <td>0.0</td>\n",
              "      <td>0.0</td>\n",
              "      <td>0.0</td>\n",
              "      <td>0.0</td>\n",
              "      <td>0.0</td>\n",
              "      <td>0.0</td>\n",
              "      <td>0.0</td>\n",
              "      <td>5.4</td>\n",
              "    </tr>\n",
              "    <tr>\n",
              "      <th>162106</th>\n",
              "      <td>95690001_729</td>\n",
              "      <td>5.62</td>\n",
              "      <td>6.02</td>\n",
              "      <td>10.74</td>\n",
              "      <td>8.78</td>\n",
              "      <td>7.07</td>\n",
              "      <td>7.30</td>\n",
              "      <td>7.86</td>\n",
              "      <td>8.14</td>\n",
              "      <td>9.05</td>\n",
              "      <td>...</td>\n",
              "      <td>0.0</td>\n",
              "      <td>0.0</td>\n",
              "      <td>0.6</td>\n",
              "      <td>0.2</td>\n",
              "      <td>0.0</td>\n",
              "      <td>0.0</td>\n",
              "      <td>0.0</td>\n",
              "      <td>0.0</td>\n",
              "      <td>0.0</td>\n",
              "      <td>1.2</td>\n",
              "    </tr>\n",
              "  </tbody>\n",
              "</table>\n",
              "<p>162107 rows × 146 columns</p>\n",
              "</div>"
            ],
            "text/plain": [
              "       number_sta_day  ff_0  ff_1  ff_10  ff_11  ff_12  ff_13  ff_14  ff_15  \\\n",
              "0          14066001_0  3.05  2.57   3.38   3.20   3.85   5.19   6.04   4.43   \n",
              "1          14066001_1  4.73  4.22   9.45  11.51  11.52  10.79  10.53   9.66   \n",
              "2         14066001_10  3.68  4.70   7.78   8.08   6.89   5.54   7.01   7.10   \n",
              "3        14066001_100  2.09  2.75   6.80   6.40   6.73   5.62   4.92   5.49   \n",
              "4        14066001_101  1.23  1.35   2.08   2.33   2.64   2.48   2.83   1.69   \n",
              "...               ...   ...   ...    ...    ...    ...    ...    ...    ...   \n",
              "162102   95690001_725  8.48  9.21   7.40   7.22   6.82   6.88   7.09   5.77   \n",
              "162103   95690001_726  7.76  9.47   7.49  10.45   9.44  12.49  12.29  12.05   \n",
              "162104   95690001_727  6.04  5.15   2.90   2.43   3.93   4.48   4.48   4.06   \n",
              "162105   95690001_728  1.78  1.26   9.64  10.86   9.73   9.10  10.45   8.57   \n",
              "162106   95690001_729  5.62  6.02  10.74   8.78   7.07   7.30   7.86   8.14   \n",
              "\n",
              "        ff_16  ...  precip_22  precip_23  precip_3  precip_4  precip_5  \\\n",
              "0        5.10  ...        0.0        0.0       0.0       0.0       0.0   \n",
              "1       10.26  ...        0.0        0.0       0.0       0.0       0.0   \n",
              "2        6.41  ...        0.0        0.4       0.0       0.0       0.0   \n",
              "3        5.41  ...        0.0        0.0       0.0       0.0       0.0   \n",
              "4        1.96  ...        0.0        0.0       0.2       0.4       2.2   \n",
              "...       ...  ...        ...        ...       ...       ...       ...   \n",
              "162102   6.43  ...        0.0        0.0       0.2       0.0       0.0   \n",
              "162103  11.24  ...        0.0        0.0       0.0       0.0       0.0   \n",
              "162104   3.16  ...        0.0        0.0       0.0       0.0       0.0   \n",
              "162105   9.81  ...        0.0        0.0       0.0       0.0       0.0   \n",
              "162106   9.05  ...        0.0        0.0       0.6       0.2       0.0   \n",
              "\n",
              "        precip_6  precip_7  precip_8  precip_9     Y  \n",
              "0            0.0       0.0       0.0       0.0   3.4  \n",
              "1            0.0       0.0       0.0       0.0  11.7  \n",
              "2            0.0       0.0       0.0       0.0   1.0  \n",
              "3            0.0       0.0       0.0       0.0   5.6  \n",
              "4            0.0       0.0       0.0       0.0   3.2  \n",
              "...          ...       ...       ...       ...   ...  \n",
              "162102       0.0       0.0       0.0       0.0   3.2  \n",
              "162103       0.0       0.0       1.4       0.8   0.0  \n",
              "162104       0.0       0.0       0.0       0.0   4.4  \n",
              "162105       0.0       0.0       0.0       0.0   5.4  \n",
              "162106       0.0       0.0       0.0       0.0   1.2  \n",
              "\n",
              "[162107 rows x 146 columns]"
            ]
          },
          "metadata": {},
          "output_type": "display_data"
        }
      ],
      "source": [
        "all_data = pd.merge(X_reshape,Y)\n",
        "\n",
        "display(all_data)\n",
        "all_data.dropna(inplace=True)"
      ]
    },
    {
      "cell_type": "code",
      "execution_count": 50,
      "id": "xmA64fqb5nIp",
      "metadata": {
        "colab": {
          "base_uri": "https://localhost:8080/",
          "height": 488
        },
        "id": "xmA64fqb5nIp",
        "outputId": "6677f0b2-5529-401a-f52b-1463d1ec65d3"
      },
      "outputs": [
        {
          "data": {
            "text/html": [
              "<div>\n",
              "<style scoped>\n",
              "    .dataframe tbody tr th:only-of-type {\n",
              "        vertical-align: middle;\n",
              "    }\n",
              "\n",
              "    .dataframe tbody tr th {\n",
              "        vertical-align: top;\n",
              "    }\n",
              "\n",
              "    .dataframe thead th {\n",
              "        text-align: right;\n",
              "    }\n",
              "</style>\n",
              "<table border=\"1\" class=\"dataframe\">\n",
              "  <thead>\n",
              "    <tr style=\"text-align: right;\">\n",
              "      <th></th>\n",
              "      <th>number_sta_day</th>\n",
              "      <th>ff_0</th>\n",
              "      <th>ff_1</th>\n",
              "      <th>ff_10</th>\n",
              "      <th>ff_11</th>\n",
              "      <th>ff_12</th>\n",
              "      <th>ff_13</th>\n",
              "      <th>ff_14</th>\n",
              "      <th>ff_15</th>\n",
              "      <th>ff_16</th>\n",
              "      <th>...</th>\n",
              "      <th>precip_21</th>\n",
              "      <th>precip_22</th>\n",
              "      <th>precip_23</th>\n",
              "      <th>precip_3</th>\n",
              "      <th>precip_4</th>\n",
              "      <th>precip_5</th>\n",
              "      <th>precip_6</th>\n",
              "      <th>precip_7</th>\n",
              "      <th>precip_8</th>\n",
              "      <th>precip_9</th>\n",
              "    </tr>\n",
              "  </thead>\n",
              "  <tbody>\n",
              "    <tr>\n",
              "      <th>0</th>\n",
              "      <td>14066001_0</td>\n",
              "      <td>3.05</td>\n",
              "      <td>2.57</td>\n",
              "      <td>3.38</td>\n",
              "      <td>3.20</td>\n",
              "      <td>3.85</td>\n",
              "      <td>5.19</td>\n",
              "      <td>6.04</td>\n",
              "      <td>4.43</td>\n",
              "      <td>5.10</td>\n",
              "      <td>...</td>\n",
              "      <td>0.0</td>\n",
              "      <td>0.0</td>\n",
              "      <td>0.0</td>\n",
              "      <td>0.0</td>\n",
              "      <td>0.0</td>\n",
              "      <td>0.0</td>\n",
              "      <td>0.0</td>\n",
              "      <td>0.0</td>\n",
              "      <td>0.0</td>\n",
              "      <td>0.0</td>\n",
              "    </tr>\n",
              "    <tr>\n",
              "      <th>1</th>\n",
              "      <td>14066001_1</td>\n",
              "      <td>4.73</td>\n",
              "      <td>4.22</td>\n",
              "      <td>9.45</td>\n",
              "      <td>11.51</td>\n",
              "      <td>11.52</td>\n",
              "      <td>10.79</td>\n",
              "      <td>10.53</td>\n",
              "      <td>9.66</td>\n",
              "      <td>10.26</td>\n",
              "      <td>...</td>\n",
              "      <td>0.0</td>\n",
              "      <td>0.0</td>\n",
              "      <td>0.0</td>\n",
              "      <td>0.0</td>\n",
              "      <td>0.0</td>\n",
              "      <td>0.0</td>\n",
              "      <td>0.0</td>\n",
              "      <td>0.0</td>\n",
              "      <td>0.0</td>\n",
              "      <td>0.0</td>\n",
              "    </tr>\n",
              "    <tr>\n",
              "      <th>2</th>\n",
              "      <td>14066001_10</td>\n",
              "      <td>3.68</td>\n",
              "      <td>4.70</td>\n",
              "      <td>7.78</td>\n",
              "      <td>8.08</td>\n",
              "      <td>6.89</td>\n",
              "      <td>5.54</td>\n",
              "      <td>7.01</td>\n",
              "      <td>7.10</td>\n",
              "      <td>6.41</td>\n",
              "      <td>...</td>\n",
              "      <td>0.2</td>\n",
              "      <td>0.0</td>\n",
              "      <td>0.4</td>\n",
              "      <td>0.0</td>\n",
              "      <td>0.0</td>\n",
              "      <td>0.0</td>\n",
              "      <td>0.0</td>\n",
              "      <td>0.0</td>\n",
              "      <td>0.0</td>\n",
              "      <td>0.0</td>\n",
              "    </tr>\n",
              "    <tr>\n",
              "      <th>3</th>\n",
              "      <td>14066001_100</td>\n",
              "      <td>2.09</td>\n",
              "      <td>2.75</td>\n",
              "      <td>6.80</td>\n",
              "      <td>6.40</td>\n",
              "      <td>6.73</td>\n",
              "      <td>5.62</td>\n",
              "      <td>4.92</td>\n",
              "      <td>5.49</td>\n",
              "      <td>5.41</td>\n",
              "      <td>...</td>\n",
              "      <td>0.0</td>\n",
              "      <td>0.0</td>\n",
              "      <td>0.0</td>\n",
              "      <td>0.0</td>\n",
              "      <td>0.0</td>\n",
              "      <td>0.0</td>\n",
              "      <td>0.0</td>\n",
              "      <td>0.0</td>\n",
              "      <td>0.0</td>\n",
              "      <td>0.0</td>\n",
              "    </tr>\n",
              "    <tr>\n",
              "      <th>4</th>\n",
              "      <td>14066001_101</td>\n",
              "      <td>1.23</td>\n",
              "      <td>1.35</td>\n",
              "      <td>2.08</td>\n",
              "      <td>2.33</td>\n",
              "      <td>2.64</td>\n",
              "      <td>2.48</td>\n",
              "      <td>2.83</td>\n",
              "      <td>1.69</td>\n",
              "      <td>1.96</td>\n",
              "      <td>...</td>\n",
              "      <td>0.0</td>\n",
              "      <td>0.0</td>\n",
              "      <td>0.0</td>\n",
              "      <td>0.2</td>\n",
              "      <td>0.4</td>\n",
              "      <td>2.2</td>\n",
              "      <td>0.0</td>\n",
              "      <td>0.0</td>\n",
              "      <td>0.0</td>\n",
              "      <td>0.0</td>\n",
              "    </tr>\n",
              "    <tr>\n",
              "      <th>...</th>\n",
              "      <td>...</td>\n",
              "      <td>...</td>\n",
              "      <td>...</td>\n",
              "      <td>...</td>\n",
              "      <td>...</td>\n",
              "      <td>...</td>\n",
              "      <td>...</td>\n",
              "      <td>...</td>\n",
              "      <td>...</td>\n",
              "      <td>...</td>\n",
              "      <td>...</td>\n",
              "      <td>...</td>\n",
              "      <td>...</td>\n",
              "      <td>...</td>\n",
              "      <td>...</td>\n",
              "      <td>...</td>\n",
              "      <td>...</td>\n",
              "      <td>...</td>\n",
              "      <td>...</td>\n",
              "      <td>...</td>\n",
              "      <td>...</td>\n",
              "    </tr>\n",
              "    <tr>\n",
              "      <th>162102</th>\n",
              "      <td>95690001_725</td>\n",
              "      <td>8.48</td>\n",
              "      <td>9.21</td>\n",
              "      <td>7.40</td>\n",
              "      <td>7.22</td>\n",
              "      <td>6.82</td>\n",
              "      <td>6.88</td>\n",
              "      <td>7.09</td>\n",
              "      <td>5.77</td>\n",
              "      <td>6.43</td>\n",
              "      <td>...</td>\n",
              "      <td>0.0</td>\n",
              "      <td>0.0</td>\n",
              "      <td>0.0</td>\n",
              "      <td>0.2</td>\n",
              "      <td>0.0</td>\n",
              "      <td>0.0</td>\n",
              "      <td>0.0</td>\n",
              "      <td>0.0</td>\n",
              "      <td>0.0</td>\n",
              "      <td>0.0</td>\n",
              "    </tr>\n",
              "    <tr>\n",
              "      <th>162103</th>\n",
              "      <td>95690001_726</td>\n",
              "      <td>7.76</td>\n",
              "      <td>9.47</td>\n",
              "      <td>7.49</td>\n",
              "      <td>10.45</td>\n",
              "      <td>9.44</td>\n",
              "      <td>12.49</td>\n",
              "      <td>12.29</td>\n",
              "      <td>12.05</td>\n",
              "      <td>11.24</td>\n",
              "      <td>...</td>\n",
              "      <td>0.0</td>\n",
              "      <td>0.0</td>\n",
              "      <td>0.0</td>\n",
              "      <td>0.0</td>\n",
              "      <td>0.0</td>\n",
              "      <td>0.0</td>\n",
              "      <td>0.0</td>\n",
              "      <td>0.0</td>\n",
              "      <td>1.4</td>\n",
              "      <td>0.8</td>\n",
              "    </tr>\n",
              "    <tr>\n",
              "      <th>162104</th>\n",
              "      <td>95690001_727</td>\n",
              "      <td>6.04</td>\n",
              "      <td>5.15</td>\n",
              "      <td>2.90</td>\n",
              "      <td>2.43</td>\n",
              "      <td>3.93</td>\n",
              "      <td>4.48</td>\n",
              "      <td>4.48</td>\n",
              "      <td>4.06</td>\n",
              "      <td>3.16</td>\n",
              "      <td>...</td>\n",
              "      <td>0.0</td>\n",
              "      <td>0.0</td>\n",
              "      <td>0.0</td>\n",
              "      <td>0.0</td>\n",
              "      <td>0.0</td>\n",
              "      <td>0.0</td>\n",
              "      <td>0.0</td>\n",
              "      <td>0.0</td>\n",
              "      <td>0.0</td>\n",
              "      <td>0.0</td>\n",
              "    </tr>\n",
              "    <tr>\n",
              "      <th>162105</th>\n",
              "      <td>95690001_728</td>\n",
              "      <td>1.78</td>\n",
              "      <td>1.26</td>\n",
              "      <td>9.64</td>\n",
              "      <td>10.86</td>\n",
              "      <td>9.73</td>\n",
              "      <td>9.10</td>\n",
              "      <td>10.45</td>\n",
              "      <td>8.57</td>\n",
              "      <td>9.81</td>\n",
              "      <td>...</td>\n",
              "      <td>0.0</td>\n",
              "      <td>0.0</td>\n",
              "      <td>0.0</td>\n",
              "      <td>0.0</td>\n",
              "      <td>0.0</td>\n",
              "      <td>0.0</td>\n",
              "      <td>0.0</td>\n",
              "      <td>0.0</td>\n",
              "      <td>0.0</td>\n",
              "      <td>0.0</td>\n",
              "    </tr>\n",
              "    <tr>\n",
              "      <th>162106</th>\n",
              "      <td>95690001_729</td>\n",
              "      <td>5.62</td>\n",
              "      <td>6.02</td>\n",
              "      <td>10.74</td>\n",
              "      <td>8.78</td>\n",
              "      <td>7.07</td>\n",
              "      <td>7.30</td>\n",
              "      <td>7.86</td>\n",
              "      <td>8.14</td>\n",
              "      <td>9.05</td>\n",
              "      <td>...</td>\n",
              "      <td>0.0</td>\n",
              "      <td>0.0</td>\n",
              "      <td>0.0</td>\n",
              "      <td>0.6</td>\n",
              "      <td>0.2</td>\n",
              "      <td>0.0</td>\n",
              "      <td>0.0</td>\n",
              "      <td>0.0</td>\n",
              "      <td>0.0</td>\n",
              "      <td>0.0</td>\n",
              "    </tr>\n",
              "  </tbody>\n",
              "</table>\n",
              "<p>162090 rows × 145 columns</p>\n",
              "</div>"
            ],
            "text/plain": [
              "       number_sta_day  ff_0  ff_1  ff_10  ff_11  ff_12  ff_13  ff_14  ff_15  \\\n",
              "0          14066001_0  3.05  2.57   3.38   3.20   3.85   5.19   6.04   4.43   \n",
              "1          14066001_1  4.73  4.22   9.45  11.51  11.52  10.79  10.53   9.66   \n",
              "2         14066001_10  3.68  4.70   7.78   8.08   6.89   5.54   7.01   7.10   \n",
              "3        14066001_100  2.09  2.75   6.80   6.40   6.73   5.62   4.92   5.49   \n",
              "4        14066001_101  1.23  1.35   2.08   2.33   2.64   2.48   2.83   1.69   \n",
              "...               ...   ...   ...    ...    ...    ...    ...    ...    ...   \n",
              "162102   95690001_725  8.48  9.21   7.40   7.22   6.82   6.88   7.09   5.77   \n",
              "162103   95690001_726  7.76  9.47   7.49  10.45   9.44  12.49  12.29  12.05   \n",
              "162104   95690001_727  6.04  5.15   2.90   2.43   3.93   4.48   4.48   4.06   \n",
              "162105   95690001_728  1.78  1.26   9.64  10.86   9.73   9.10  10.45   8.57   \n",
              "162106   95690001_729  5.62  6.02  10.74   8.78   7.07   7.30   7.86   8.14   \n",
              "\n",
              "        ff_16  ...  precip_21  precip_22  precip_23  precip_3  precip_4  \\\n",
              "0        5.10  ...        0.0        0.0        0.0       0.0       0.0   \n",
              "1       10.26  ...        0.0        0.0        0.0       0.0       0.0   \n",
              "2        6.41  ...        0.2        0.0        0.4       0.0       0.0   \n",
              "3        5.41  ...        0.0        0.0        0.0       0.0       0.0   \n",
              "4        1.96  ...        0.0        0.0        0.0       0.2       0.4   \n",
              "...       ...  ...        ...        ...        ...       ...       ...   \n",
              "162102   6.43  ...        0.0        0.0        0.0       0.2       0.0   \n",
              "162103  11.24  ...        0.0        0.0        0.0       0.0       0.0   \n",
              "162104   3.16  ...        0.0        0.0        0.0       0.0       0.0   \n",
              "162105   9.81  ...        0.0        0.0        0.0       0.0       0.0   \n",
              "162106   9.05  ...        0.0        0.0        0.0       0.6       0.2   \n",
              "\n",
              "        precip_5  precip_6  precip_7  precip_8  precip_9  \n",
              "0            0.0       0.0       0.0       0.0       0.0  \n",
              "1            0.0       0.0       0.0       0.0       0.0  \n",
              "2            0.0       0.0       0.0       0.0       0.0  \n",
              "3            0.0       0.0       0.0       0.0       0.0  \n",
              "4            2.2       0.0       0.0       0.0       0.0  \n",
              "...          ...       ...       ...       ...       ...  \n",
              "162102       0.0       0.0       0.0       0.0       0.0  \n",
              "162103       0.0       0.0       0.0       1.4       0.8  \n",
              "162104       0.0       0.0       0.0       0.0       0.0  \n",
              "162105       0.0       0.0       0.0       0.0       0.0  \n",
              "162106       0.0       0.0       0.0       0.0       0.0  \n",
              "\n",
              "[162090 rows x 145 columns]"
            ]
          },
          "execution_count": 50,
          "metadata": {},
          "output_type": "execute_result"
        }
      ],
      "source": [
        "\n",
        "Y = all_data['Y']\n",
        "X = all_data.drop(\"Y\",axis=1)\n",
        "X"
      ]
    },
    {
      "cell_type": "code",
      "execution_count": 51,
      "id": "d466a72c",
      "metadata": {
        "id": "d466a72c"
      },
      "outputs": [],
      "source": [
        "X['day'] = X['number_sta_day'].str.rpartition(\"_\")[2]\n",
        "X['day'] = X['day'].astype('int')\n",
        "X['day'] = X['day'] % 365"
      ]
    },
    {
      "cell_type": "code",
      "execution_count": 52,
      "id": "3af6f377",
      "metadata": {
        "id": "3af6f377"
      },
      "outputs": [],
      "source": [
        "X['number_sta'] = X['number_sta_day'].str.rpartition('_')[0]\n",
        "X['number_sta'] = X['number_sta'].astype('int64')"
      ]
    },
    {
      "cell_type": "code",
      "execution_count": 53,
      "id": "75b7848f",
      "metadata": {
        "colab": {
          "base_uri": "https://localhost:8080/"
        },
        "id": "75b7848f",
        "outputId": "0eaa02b9-30f3-428c-a60d-f7e3f9da10ab"
      },
      "outputs": [
        {
          "data": {
            "text/plain": [
              "0             Hiver\n",
              "1             Hiver\n",
              "2             Hiver\n",
              "3         Printemps\n",
              "4         Printemps\n",
              "            ...    \n",
              "162102        Hiver\n",
              "162103        Hiver\n",
              "162104        Hiver\n",
              "162105        Hiver\n",
              "162106        Hiver\n",
              "Name: season, Length: 162090, dtype: category\n",
              "Categories (4, object): ['Hiver', 'Printemps', 'Ete', 'Automne']"
            ]
          },
          "execution_count": 53,
          "metadata": {},
          "output_type": "execute_result"
        }
      ],
      "source": [
        "X['season'] =pd.cut(X['day'],[0,60,151,243,334], labels=['Hiver','Printemps','Ete', 'Automne'],ordered=False)\n",
        "X['season'] = X['season'].fillna('Hiver')\n",
        "X['season']"
      ]
    },
    {
      "cell_type": "code",
      "execution_count": 54,
      "id": "06b3631f",
      "metadata": {
        "id": "06b3631f"
      },
      "outputs": [],
      "source": [
        "X['month'] = X['day'] / 30\n",
        "X['month'] = X['month'].astype('int')\n"
      ]
    },
    {
      "cell_type": "code",
      "execution_count": 55,
      "id": "7df9d77a",
      "metadata": {
        "id": "7df9d77a"
      },
      "outputs": [],
      "source": [
        "X.reset_index(inplace=True)\n",
        "X.drop('index',axis=1,inplace=True)"
      ]
    },
    {
      "cell_type": "code",
      "execution_count": 56,
      "id": "459a210c",
      "metadata": {
        "id": "459a210c"
      },
      "outputs": [],
      "source": [
        "X['month'] = X['month'].astype('category')\n",
        "X['season'] = X['season'].astype('category')\n",
        "X['day'] = X['day'].astype('category')"
      ]
    },
    {
      "cell_type": "markdown",
      "id": "bacd478a",
      "metadata": {
        "id": "bacd478a"
      },
      "source": [
        "Ajoutons les coordonnées des stations"
      ]
    },
    {
      "cell_type": "code",
      "execution_count": 57,
      "id": "85b95980",
      "metadata": {
        "colab": {
          "base_uri": "https://localhost:8080/",
          "height": 424
        },
        "id": "85b95980",
        "outputId": "23fdb58e-e98b-49c1-e8c3-a7f93037ff86"
      },
      "outputs": [
        {
          "data": {
            "text/html": [
              "<div>\n",
              "<style scoped>\n",
              "    .dataframe tbody tr th:only-of-type {\n",
              "        vertical-align: middle;\n",
              "    }\n",
              "\n",
              "    .dataframe tbody tr th {\n",
              "        vertical-align: top;\n",
              "    }\n",
              "\n",
              "    .dataframe thead th {\n",
              "        text-align: right;\n",
              "    }\n",
              "</style>\n",
              "<table border=\"1\" class=\"dataframe\">\n",
              "  <thead>\n",
              "    <tr style=\"text-align: right;\">\n",
              "      <th></th>\n",
              "      <th>number_sta</th>\n",
              "      <th>lat</th>\n",
              "      <th>lon</th>\n",
              "      <th>height_sta</th>\n",
              "    </tr>\n",
              "  </thead>\n",
              "  <tbody>\n",
              "    <tr>\n",
              "      <th>0</th>\n",
              "      <td>86118001</td>\n",
              "      <td>46.477</td>\n",
              "      <td>0.985</td>\n",
              "      <td>120.0</td>\n",
              "    </tr>\n",
              "    <tr>\n",
              "      <th>1</th>\n",
              "      <td>86149001</td>\n",
              "      <td>46.917</td>\n",
              "      <td>0.025</td>\n",
              "      <td>60.0</td>\n",
              "    </tr>\n",
              "    <tr>\n",
              "      <th>2</th>\n",
              "      <td>56081003</td>\n",
              "      <td>48.050</td>\n",
              "      <td>-3.660</td>\n",
              "      <td>165.0</td>\n",
              "    </tr>\n",
              "    <tr>\n",
              "      <th>3</th>\n",
              "      <td>53215001</td>\n",
              "      <td>47.790</td>\n",
              "      <td>-0.710</td>\n",
              "      <td>63.0</td>\n",
              "    </tr>\n",
              "    <tr>\n",
              "      <th>4</th>\n",
              "      <td>22135001</td>\n",
              "      <td>48.550</td>\n",
              "      <td>-3.380</td>\n",
              "      <td>148.0</td>\n",
              "    </tr>\n",
              "    <tr>\n",
              "      <th>...</th>\n",
              "      <td>...</td>\n",
              "      <td>...</td>\n",
              "      <td>...</td>\n",
              "      <td>...</td>\n",
              "    </tr>\n",
              "    <tr>\n",
              "      <th>320</th>\n",
              "      <td>86137003</td>\n",
              "      <td>47.035</td>\n",
              "      <td>0.098</td>\n",
              "      <td>96.0</td>\n",
              "    </tr>\n",
              "    <tr>\n",
              "      <th>321</th>\n",
              "      <td>86165005</td>\n",
              "      <td>46.412</td>\n",
              "      <td>0.841</td>\n",
              "      <td>153.0</td>\n",
              "    </tr>\n",
              "    <tr>\n",
              "      <th>322</th>\n",
              "      <td>86273001</td>\n",
              "      <td>46.464</td>\n",
              "      <td>1.042</td>\n",
              "      <td>121.0</td>\n",
              "    </tr>\n",
              "    <tr>\n",
              "      <th>323</th>\n",
              "      <td>91200002</td>\n",
              "      <td>48.526</td>\n",
              "      <td>1.993</td>\n",
              "      <td>116.0</td>\n",
              "    </tr>\n",
              "    <tr>\n",
              "      <th>324</th>\n",
              "      <td>95690001</td>\n",
              "      <td>49.108</td>\n",
              "      <td>1.831</td>\n",
              "      <td>126.0</td>\n",
              "    </tr>\n",
              "  </tbody>\n",
              "</table>\n",
              "<p>325 rows × 4 columns</p>\n",
              "</div>"
            ],
            "text/plain": [
              "    number_sta     lat    lon  height_sta\n",
              "0     86118001  46.477  0.985       120.0\n",
              "1     86149001  46.917  0.025        60.0\n",
              "2     56081003  48.050 -3.660       165.0\n",
              "3     53215001  47.790 -0.710        63.0\n",
              "4     22135001  48.550 -3.380       148.0\n",
              "..         ...     ...    ...         ...\n",
              "320   86137003  47.035  0.098        96.0\n",
              "321   86165005  46.412  0.841       153.0\n",
              "322   86273001  46.464  1.042       121.0\n",
              "323   91200002  48.526  1.993       116.0\n",
              "324   95690001  49.108  1.831       126.0\n",
              "\n",
              "[325 rows x 4 columns]"
            ]
          },
          "metadata": {},
          "output_type": "display_data"
        }
      ],
      "source": [
        "#open the file with station coordinates (latitude/longitude)\n",
        "\n",
        "coords_fname  = 'defi-ia-2022/Other/Other/stations_coordinates.csv'\n",
        "coords = pd.read_csv(coords_fname)\n",
        "coords['number_sta'] = coords['number_sta'].astype('category')\n",
        "display(coords)\n",
        "\n"
      ]
    },
    {
      "cell_type": "code",
      "execution_count": 58,
      "id": "bcce0d3e",
      "metadata": {
        "colab": {
          "base_uri": "https://localhost:8080/"
        },
        "id": "bcce0d3e",
        "outputId": "26dc5d95-b361-4747-ffa3-aeb2fee007bf"
      },
      "outputs": [
        {
          "data": {
            "text/plain": [
              "254"
            ]
          },
          "execution_count": 58,
          "metadata": {},
          "output_type": "execute_result"
        }
      ],
      "source": [
        "len(np.unique(X['number_sta']))"
      ]
    },
    {
      "cell_type": "code",
      "execution_count": 59,
      "id": "c146536a",
      "metadata": {
        "colab": {
          "base_uri": "https://localhost:8080/"
        },
        "id": "c146536a",
        "outputId": "c94a27f9-4594-4803-8af9-4e65d02ece59"
      },
      "outputs": [
        {
          "data": {
            "text/plain": [
              "number_sta    category\n",
              "lat            float64\n",
              "lon            float64\n",
              "height_sta     float64\n",
              "dtype: object"
            ]
          },
          "execution_count": 59,
          "metadata": {},
          "output_type": "execute_result"
        }
      ],
      "source": [
        "coords.dtypes"
      ]
    },
    {
      "cell_type": "code",
      "execution_count": 60,
      "id": "76fd8ed5",
      "metadata": {
        "colab": {
          "base_uri": "https://localhost:8080/",
          "height": 488
        },
        "id": "76fd8ed5",
        "outputId": "1a79c12d-6c89-4cb9-b198-89b84c7484e1"
      },
      "outputs": [
        {
          "data": {
            "text/html": [
              "<div>\n",
              "<style scoped>\n",
              "    .dataframe tbody tr th:only-of-type {\n",
              "        vertical-align: middle;\n",
              "    }\n",
              "\n",
              "    .dataframe tbody tr th {\n",
              "        vertical-align: top;\n",
              "    }\n",
              "\n",
              "    .dataframe thead th {\n",
              "        text-align: right;\n",
              "    }\n",
              "</style>\n",
              "<table border=\"1\" class=\"dataframe\">\n",
              "  <thead>\n",
              "    <tr style=\"text-align: right;\">\n",
              "      <th></th>\n",
              "      <th>number_sta_day</th>\n",
              "      <th>ff_0</th>\n",
              "      <th>ff_1</th>\n",
              "      <th>ff_10</th>\n",
              "      <th>ff_11</th>\n",
              "      <th>ff_12</th>\n",
              "      <th>ff_13</th>\n",
              "      <th>ff_14</th>\n",
              "      <th>ff_15</th>\n",
              "      <th>ff_16</th>\n",
              "      <th>...</th>\n",
              "      <th>precip_7</th>\n",
              "      <th>precip_8</th>\n",
              "      <th>precip_9</th>\n",
              "      <th>day</th>\n",
              "      <th>number_sta</th>\n",
              "      <th>season</th>\n",
              "      <th>month</th>\n",
              "      <th>lat</th>\n",
              "      <th>lon</th>\n",
              "      <th>height_sta</th>\n",
              "    </tr>\n",
              "  </thead>\n",
              "  <tbody>\n",
              "    <tr>\n",
              "      <th>0</th>\n",
              "      <td>14066001_0</td>\n",
              "      <td>3.05</td>\n",
              "      <td>2.57</td>\n",
              "      <td>3.38</td>\n",
              "      <td>3.20</td>\n",
              "      <td>3.85</td>\n",
              "      <td>5.19</td>\n",
              "      <td>6.04</td>\n",
              "      <td>4.43</td>\n",
              "      <td>5.10</td>\n",
              "      <td>...</td>\n",
              "      <td>0.0</td>\n",
              "      <td>0.0</td>\n",
              "      <td>0.0</td>\n",
              "      <td>0</td>\n",
              "      <td>14066001</td>\n",
              "      <td>Hiver</td>\n",
              "      <td>0</td>\n",
              "      <td>49.334</td>\n",
              "      <td>-0.431</td>\n",
              "      <td>2.0</td>\n",
              "    </tr>\n",
              "    <tr>\n",
              "      <th>1</th>\n",
              "      <td>14066001_1</td>\n",
              "      <td>4.73</td>\n",
              "      <td>4.22</td>\n",
              "      <td>9.45</td>\n",
              "      <td>11.51</td>\n",
              "      <td>11.52</td>\n",
              "      <td>10.79</td>\n",
              "      <td>10.53</td>\n",
              "      <td>9.66</td>\n",
              "      <td>10.26</td>\n",
              "      <td>...</td>\n",
              "      <td>0.0</td>\n",
              "      <td>0.0</td>\n",
              "      <td>0.0</td>\n",
              "      <td>1</td>\n",
              "      <td>14066001</td>\n",
              "      <td>Hiver</td>\n",
              "      <td>0</td>\n",
              "      <td>49.334</td>\n",
              "      <td>-0.431</td>\n",
              "      <td>2.0</td>\n",
              "    </tr>\n",
              "    <tr>\n",
              "      <th>2</th>\n",
              "      <td>14066001_10</td>\n",
              "      <td>3.68</td>\n",
              "      <td>4.70</td>\n",
              "      <td>7.78</td>\n",
              "      <td>8.08</td>\n",
              "      <td>6.89</td>\n",
              "      <td>5.54</td>\n",
              "      <td>7.01</td>\n",
              "      <td>7.10</td>\n",
              "      <td>6.41</td>\n",
              "      <td>...</td>\n",
              "      <td>0.0</td>\n",
              "      <td>0.0</td>\n",
              "      <td>0.0</td>\n",
              "      <td>10</td>\n",
              "      <td>14066001</td>\n",
              "      <td>Hiver</td>\n",
              "      <td>0</td>\n",
              "      <td>49.334</td>\n",
              "      <td>-0.431</td>\n",
              "      <td>2.0</td>\n",
              "    </tr>\n",
              "    <tr>\n",
              "      <th>3</th>\n",
              "      <td>14066001_100</td>\n",
              "      <td>2.09</td>\n",
              "      <td>2.75</td>\n",
              "      <td>6.80</td>\n",
              "      <td>6.40</td>\n",
              "      <td>6.73</td>\n",
              "      <td>5.62</td>\n",
              "      <td>4.92</td>\n",
              "      <td>5.49</td>\n",
              "      <td>5.41</td>\n",
              "      <td>...</td>\n",
              "      <td>0.0</td>\n",
              "      <td>0.0</td>\n",
              "      <td>0.0</td>\n",
              "      <td>100</td>\n",
              "      <td>14066001</td>\n",
              "      <td>Printemps</td>\n",
              "      <td>3</td>\n",
              "      <td>49.334</td>\n",
              "      <td>-0.431</td>\n",
              "      <td>2.0</td>\n",
              "    </tr>\n",
              "    <tr>\n",
              "      <th>4</th>\n",
              "      <td>14066001_101</td>\n",
              "      <td>1.23</td>\n",
              "      <td>1.35</td>\n",
              "      <td>2.08</td>\n",
              "      <td>2.33</td>\n",
              "      <td>2.64</td>\n",
              "      <td>2.48</td>\n",
              "      <td>2.83</td>\n",
              "      <td>1.69</td>\n",
              "      <td>1.96</td>\n",
              "      <td>...</td>\n",
              "      <td>0.0</td>\n",
              "      <td>0.0</td>\n",
              "      <td>0.0</td>\n",
              "      <td>101</td>\n",
              "      <td>14066001</td>\n",
              "      <td>Printemps</td>\n",
              "      <td>3</td>\n",
              "      <td>49.334</td>\n",
              "      <td>-0.431</td>\n",
              "      <td>2.0</td>\n",
              "    </tr>\n",
              "    <tr>\n",
              "      <th>...</th>\n",
              "      <td>...</td>\n",
              "      <td>...</td>\n",
              "      <td>...</td>\n",
              "      <td>...</td>\n",
              "      <td>...</td>\n",
              "      <td>...</td>\n",
              "      <td>...</td>\n",
              "      <td>...</td>\n",
              "      <td>...</td>\n",
              "      <td>...</td>\n",
              "      <td>...</td>\n",
              "      <td>...</td>\n",
              "      <td>...</td>\n",
              "      <td>...</td>\n",
              "      <td>...</td>\n",
              "      <td>...</td>\n",
              "      <td>...</td>\n",
              "      <td>...</td>\n",
              "      <td>...</td>\n",
              "      <td>...</td>\n",
              "      <td>...</td>\n",
              "    </tr>\n",
              "    <tr>\n",
              "      <th>162085</th>\n",
              "      <td>95690001_725</td>\n",
              "      <td>8.48</td>\n",
              "      <td>9.21</td>\n",
              "      <td>7.40</td>\n",
              "      <td>7.22</td>\n",
              "      <td>6.82</td>\n",
              "      <td>6.88</td>\n",
              "      <td>7.09</td>\n",
              "      <td>5.77</td>\n",
              "      <td>6.43</td>\n",
              "      <td>...</td>\n",
              "      <td>0.0</td>\n",
              "      <td>0.0</td>\n",
              "      <td>0.0</td>\n",
              "      <td>360</td>\n",
              "      <td>95690001</td>\n",
              "      <td>Hiver</td>\n",
              "      <td>12</td>\n",
              "      <td>49.108</td>\n",
              "      <td>1.831</td>\n",
              "      <td>126.0</td>\n",
              "    </tr>\n",
              "    <tr>\n",
              "      <th>162086</th>\n",
              "      <td>95690001_726</td>\n",
              "      <td>7.76</td>\n",
              "      <td>9.47</td>\n",
              "      <td>7.49</td>\n",
              "      <td>10.45</td>\n",
              "      <td>9.44</td>\n",
              "      <td>12.49</td>\n",
              "      <td>12.29</td>\n",
              "      <td>12.05</td>\n",
              "      <td>11.24</td>\n",
              "      <td>...</td>\n",
              "      <td>0.0</td>\n",
              "      <td>1.4</td>\n",
              "      <td>0.8</td>\n",
              "      <td>361</td>\n",
              "      <td>95690001</td>\n",
              "      <td>Hiver</td>\n",
              "      <td>12</td>\n",
              "      <td>49.108</td>\n",
              "      <td>1.831</td>\n",
              "      <td>126.0</td>\n",
              "    </tr>\n",
              "    <tr>\n",
              "      <th>162087</th>\n",
              "      <td>95690001_727</td>\n",
              "      <td>6.04</td>\n",
              "      <td>5.15</td>\n",
              "      <td>2.90</td>\n",
              "      <td>2.43</td>\n",
              "      <td>3.93</td>\n",
              "      <td>4.48</td>\n",
              "      <td>4.48</td>\n",
              "      <td>4.06</td>\n",
              "      <td>3.16</td>\n",
              "      <td>...</td>\n",
              "      <td>0.0</td>\n",
              "      <td>0.0</td>\n",
              "      <td>0.0</td>\n",
              "      <td>362</td>\n",
              "      <td>95690001</td>\n",
              "      <td>Hiver</td>\n",
              "      <td>12</td>\n",
              "      <td>49.108</td>\n",
              "      <td>1.831</td>\n",
              "      <td>126.0</td>\n",
              "    </tr>\n",
              "    <tr>\n",
              "      <th>162088</th>\n",
              "      <td>95690001_728</td>\n",
              "      <td>1.78</td>\n",
              "      <td>1.26</td>\n",
              "      <td>9.64</td>\n",
              "      <td>10.86</td>\n",
              "      <td>9.73</td>\n",
              "      <td>9.10</td>\n",
              "      <td>10.45</td>\n",
              "      <td>8.57</td>\n",
              "      <td>9.81</td>\n",
              "      <td>...</td>\n",
              "      <td>0.0</td>\n",
              "      <td>0.0</td>\n",
              "      <td>0.0</td>\n",
              "      <td>363</td>\n",
              "      <td>95690001</td>\n",
              "      <td>Hiver</td>\n",
              "      <td>12</td>\n",
              "      <td>49.108</td>\n",
              "      <td>1.831</td>\n",
              "      <td>126.0</td>\n",
              "    </tr>\n",
              "    <tr>\n",
              "      <th>162089</th>\n",
              "      <td>95690001_729</td>\n",
              "      <td>5.62</td>\n",
              "      <td>6.02</td>\n",
              "      <td>10.74</td>\n",
              "      <td>8.78</td>\n",
              "      <td>7.07</td>\n",
              "      <td>7.30</td>\n",
              "      <td>7.86</td>\n",
              "      <td>8.14</td>\n",
              "      <td>9.05</td>\n",
              "      <td>...</td>\n",
              "      <td>0.0</td>\n",
              "      <td>0.0</td>\n",
              "      <td>0.0</td>\n",
              "      <td>364</td>\n",
              "      <td>95690001</td>\n",
              "      <td>Hiver</td>\n",
              "      <td>12</td>\n",
              "      <td>49.108</td>\n",
              "      <td>1.831</td>\n",
              "      <td>126.0</td>\n",
              "    </tr>\n",
              "  </tbody>\n",
              "</table>\n",
              "<p>162090 rows × 152 columns</p>\n",
              "</div>"
            ],
            "text/plain": [
              "       number_sta_day  ff_0  ff_1  ff_10  ff_11  ff_12  ff_13  ff_14  ff_15  \\\n",
              "0          14066001_0  3.05  2.57   3.38   3.20   3.85   5.19   6.04   4.43   \n",
              "1          14066001_1  4.73  4.22   9.45  11.51  11.52  10.79  10.53   9.66   \n",
              "2         14066001_10  3.68  4.70   7.78   8.08   6.89   5.54   7.01   7.10   \n",
              "3        14066001_100  2.09  2.75   6.80   6.40   6.73   5.62   4.92   5.49   \n",
              "4        14066001_101  1.23  1.35   2.08   2.33   2.64   2.48   2.83   1.69   \n",
              "...               ...   ...   ...    ...    ...    ...    ...    ...    ...   \n",
              "162085   95690001_725  8.48  9.21   7.40   7.22   6.82   6.88   7.09   5.77   \n",
              "162086   95690001_726  7.76  9.47   7.49  10.45   9.44  12.49  12.29  12.05   \n",
              "162087   95690001_727  6.04  5.15   2.90   2.43   3.93   4.48   4.48   4.06   \n",
              "162088   95690001_728  1.78  1.26   9.64  10.86   9.73   9.10  10.45   8.57   \n",
              "162089   95690001_729  5.62  6.02  10.74   8.78   7.07   7.30   7.86   8.14   \n",
              "\n",
              "        ff_16  ...  precip_7  precip_8  precip_9  day  number_sta     season  \\\n",
              "0        5.10  ...       0.0       0.0       0.0    0    14066001      Hiver   \n",
              "1       10.26  ...       0.0       0.0       0.0    1    14066001      Hiver   \n",
              "2        6.41  ...       0.0       0.0       0.0   10    14066001      Hiver   \n",
              "3        5.41  ...       0.0       0.0       0.0  100    14066001  Printemps   \n",
              "4        1.96  ...       0.0       0.0       0.0  101    14066001  Printemps   \n",
              "...       ...  ...       ...       ...       ...  ...         ...        ...   \n",
              "162085   6.43  ...       0.0       0.0       0.0  360    95690001      Hiver   \n",
              "162086  11.24  ...       0.0       1.4       0.8  361    95690001      Hiver   \n",
              "162087   3.16  ...       0.0       0.0       0.0  362    95690001      Hiver   \n",
              "162088   9.81  ...       0.0       0.0       0.0  363    95690001      Hiver   \n",
              "162089   9.05  ...       0.0       0.0       0.0  364    95690001      Hiver   \n",
              "\n",
              "        month     lat    lon  height_sta  \n",
              "0           0  49.334 -0.431         2.0  \n",
              "1           0  49.334 -0.431         2.0  \n",
              "2           0  49.334 -0.431         2.0  \n",
              "3           3  49.334 -0.431         2.0  \n",
              "4           3  49.334 -0.431         2.0  \n",
              "...       ...     ...    ...         ...  \n",
              "162085     12  49.108  1.831       126.0  \n",
              "162086     12  49.108  1.831       126.0  \n",
              "162087     12  49.108  1.831       126.0  \n",
              "162088     12  49.108  1.831       126.0  \n",
              "162089     12  49.108  1.831       126.0  \n",
              "\n",
              "[162090 rows x 152 columns]"
            ]
          },
          "execution_count": 60,
          "metadata": {},
          "output_type": "execute_result"
        }
      ],
      "source": [
        "X =pd.merge(X,coords,how='left',on='number_sta')\n",
        "X['number_sta'] = X['number_sta'].astype('category')\n",
        "X"
      ]
    },
    {
      "cell_type": "code",
      "execution_count": 61,
      "id": "ad43185f",
      "metadata": {
        "id": "ad43185f"
      },
      "outputs": [],
      "source": [
        "Y =pd.DataFrame(Y)\n",
        "Y.reset_index(inplace=True)\n",
        "Y.drop('index',inplace = True,axis=1)"
      ]
    },
    {
      "cell_type": "code",
      "execution_count": 62,
      "id": "8ed1878e",
      "metadata": {
        "colab": {
          "base_uri": "https://localhost:8080/",
          "height": 424
        },
        "id": "8ed1878e",
        "outputId": "24909cf5-c1ad-4c27-bd60-4174caefd24b"
      },
      "outputs": [
        {
          "data": {
            "text/html": [
              "<div>\n",
              "<style scoped>\n",
              "    .dataframe tbody tr th:only-of-type {\n",
              "        vertical-align: middle;\n",
              "    }\n",
              "\n",
              "    .dataframe tbody tr th {\n",
              "        vertical-align: top;\n",
              "    }\n",
              "\n",
              "    .dataframe thead th {\n",
              "        text-align: right;\n",
              "    }\n",
              "</style>\n",
              "<table border=\"1\" class=\"dataframe\">\n",
              "  <thead>\n",
              "    <tr style=\"text-align: right;\">\n",
              "      <th></th>\n",
              "      <th>Y</th>\n",
              "    </tr>\n",
              "  </thead>\n",
              "  <tbody>\n",
              "    <tr>\n",
              "      <th>0</th>\n",
              "      <td>3.4</td>\n",
              "    </tr>\n",
              "    <tr>\n",
              "      <th>1</th>\n",
              "      <td>11.7</td>\n",
              "    </tr>\n",
              "    <tr>\n",
              "      <th>2</th>\n",
              "      <td>1.0</td>\n",
              "    </tr>\n",
              "    <tr>\n",
              "      <th>3</th>\n",
              "      <td>5.6</td>\n",
              "    </tr>\n",
              "    <tr>\n",
              "      <th>4</th>\n",
              "      <td>3.2</td>\n",
              "    </tr>\n",
              "    <tr>\n",
              "      <th>...</th>\n",
              "      <td>...</td>\n",
              "    </tr>\n",
              "    <tr>\n",
              "      <th>162085</th>\n",
              "      <td>3.2</td>\n",
              "    </tr>\n",
              "    <tr>\n",
              "      <th>162086</th>\n",
              "      <td>0.0</td>\n",
              "    </tr>\n",
              "    <tr>\n",
              "      <th>162087</th>\n",
              "      <td>4.4</td>\n",
              "    </tr>\n",
              "    <tr>\n",
              "      <th>162088</th>\n",
              "      <td>5.4</td>\n",
              "    </tr>\n",
              "    <tr>\n",
              "      <th>162089</th>\n",
              "      <td>1.2</td>\n",
              "    </tr>\n",
              "  </tbody>\n",
              "</table>\n",
              "<p>162090 rows × 1 columns</p>\n",
              "</div>"
            ],
            "text/plain": [
              "           Y\n",
              "0        3.4\n",
              "1       11.7\n",
              "2        1.0\n",
              "3        5.6\n",
              "4        3.2\n",
              "...      ...\n",
              "162085   3.2\n",
              "162086   0.0\n",
              "162087   4.4\n",
              "162088   5.4\n",
              "162089   1.2\n",
              "\n",
              "[162090 rows x 1 columns]"
            ]
          },
          "execution_count": 62,
          "metadata": {},
          "output_type": "execute_result"
        }
      ],
      "source": [
        "Y"
      ]
    },
    {
      "cell_type": "code",
      "execution_count": 63,
      "id": "e99c75bb",
      "metadata": {
        "id": "e99c75bb"
      },
      "outputs": [],
      "source": [
        "#X['class'] = np.where(Y['Y'] == 0,1,2)\n",
        "#Y = X.loc[:,X.columns.str.startswith('precip')].sum(axis=1)\n",
        "Class =np.where(Y['Y'] == 0,1,2)\n",
        "Class = pd.DataFrame(Class)\n",
        "Class.reset_index(inplace=True)\n",
        "Class.drop('index',inplace=True,axis=1)"
      ]
    },
    {
      "cell_type": "code",
      "execution_count": 64,
      "id": "b9f53c71",
      "metadata": {
        "colab": {
          "base_uri": "https://localhost:8080/",
          "height": 424
        },
        "id": "b9f53c71",
        "outputId": "cdb17f7b-345e-4449-e44c-ea541643bbb2"
      },
      "outputs": [
        {
          "data": {
            "text/html": [
              "<div>\n",
              "<style scoped>\n",
              "    .dataframe tbody tr th:only-of-type {\n",
              "        vertical-align: middle;\n",
              "    }\n",
              "\n",
              "    .dataframe tbody tr th {\n",
              "        vertical-align: top;\n",
              "    }\n",
              "\n",
              "    .dataframe thead th {\n",
              "        text-align: right;\n",
              "    }\n",
              "</style>\n",
              "<table border=\"1\" class=\"dataframe\">\n",
              "  <thead>\n",
              "    <tr style=\"text-align: right;\">\n",
              "      <th></th>\n",
              "      <th>0</th>\n",
              "    </tr>\n",
              "  </thead>\n",
              "  <tbody>\n",
              "    <tr>\n",
              "      <th>0</th>\n",
              "      <td>2</td>\n",
              "    </tr>\n",
              "    <tr>\n",
              "      <th>1</th>\n",
              "      <td>2</td>\n",
              "    </tr>\n",
              "    <tr>\n",
              "      <th>2</th>\n",
              "      <td>2</td>\n",
              "    </tr>\n",
              "    <tr>\n",
              "      <th>3</th>\n",
              "      <td>2</td>\n",
              "    </tr>\n",
              "    <tr>\n",
              "      <th>4</th>\n",
              "      <td>2</td>\n",
              "    </tr>\n",
              "    <tr>\n",
              "      <th>...</th>\n",
              "      <td>...</td>\n",
              "    </tr>\n",
              "    <tr>\n",
              "      <th>162085</th>\n",
              "      <td>2</td>\n",
              "    </tr>\n",
              "    <tr>\n",
              "      <th>162086</th>\n",
              "      <td>1</td>\n",
              "    </tr>\n",
              "    <tr>\n",
              "      <th>162087</th>\n",
              "      <td>2</td>\n",
              "    </tr>\n",
              "    <tr>\n",
              "      <th>162088</th>\n",
              "      <td>2</td>\n",
              "    </tr>\n",
              "    <tr>\n",
              "      <th>162089</th>\n",
              "      <td>2</td>\n",
              "    </tr>\n",
              "  </tbody>\n",
              "</table>\n",
              "<p>162090 rows × 1 columns</p>\n",
              "</div>"
            ],
            "text/plain": [
              "        0\n",
              "0       2\n",
              "1       2\n",
              "2       2\n",
              "3       2\n",
              "4       2\n",
              "...    ..\n",
              "162085  2\n",
              "162086  1\n",
              "162087  2\n",
              "162088  2\n",
              "162089  2\n",
              "\n",
              "[162090 rows x 1 columns]"
            ]
          },
          "execution_count": 64,
          "metadata": {},
          "output_type": "execute_result"
        }
      ],
      "source": [
        "Class"
      ]
    },
    {
      "cell_type": "markdown",
      "id": "36904bd2",
      "metadata": {
        "id": "36904bd2"
      },
      "source": [
        "On souhaite enrichir notre base de données en ajoutant une nouvelle variable knn qui prend comme valeur la classe associé à la à chaque station en fonction de leur coordonnées "
      ]
    },
    {
      "cell_type": "markdown",
      "id": "14914c16",
      "metadata": {
        "id": "14914c16"
      },
      "source": [
        "Utilisons KNN"
      ]
    },
    {
      "cell_type": "code",
      "execution_count": 131,
      "id": "9945281a",
      "metadata": {
        "id": "9945281a"
      },
      "outputs": [],
      "source": [
        "from sklearn.model_selection import ShuffleSplit,StratifiedShuffleSplit\n",
        "from sklearn.preprocessing import StandardScaler, LabelEncoder, OneHotEncoder,OrdinalEncoder\n",
        "from sklearn.compose import ColumnTransformer\n",
        "from sklearn.compose import make_column_selector\n",
        "from sklearn.pipeline import Pipeline\n",
        "from sklearn.impute import SimpleImputer\n",
        "split = StratifiedShuffleSplit(n_splits=1, test_size=0.3,random_state = 4)\n",
        "split.get_n_splits(X, Class)\n",
        "train_index, test_index = next(split.split(X, Class)) \n",
        "\n",
        "X_train,X_test = X.loc[train_index], X.loc[test_index]\n",
        "Y_train, Y_test = Class.loc[train_index], Class.loc[test_index]\n"
      ]
    },
    {
      "cell_type": "code",
      "execution_count": 132,
      "id": "YnXUUS_7KvJD",
      "metadata": {
        "id": "YnXUUS_7KvJD"
      },
      "outputs": [],
      "source": [
        "transformer = ColumnTransformer(\n",
        "                     [\n",
        "                         ('transform_name_categories', OrdinalEncoder(), make_column_selector(dtype_include=object)),\n",
        "                         ('transformer_name_for_numerical', StandardScaler(), make_column_selector(dtype_include=np.number))\n",
        "                     ]\n",
        "                 )\n",
        "X_train = transformer.fit_transform(X_train)\n",
        "X_test = transformer.fit_transform(X_test)\n"
      ]
    },
    {
      "cell_type": "code",
      "execution_count": 133,
      "id": "c8cb7338",
      "metadata": {
        "colab": {
          "base_uri": "https://localhost:8080/"
        },
        "id": "c8cb7338",
        "outputId": "519defc0-e709-4965-a678-c6124c7f4e23"
      },
      "outputs": [
        {
          "data": {
            "text/plain": [
              "0.5545890143336006"
            ]
          },
          "execution_count": 133,
          "metadata": {},
          "output_type": "execute_result"
        }
      ],
      "source": [
        "knn = KNeighborsClassifier(n_neighbors=5)\n",
        "knn.fit(X_train,Y_train)\n",
        "\n",
        "predictions = knn.predict(X_test)\n",
        "accuracy_score(Y_test,predictions)\n"
      ]
    },
    {
      "cell_type": "code",
      "execution_count": 134,
      "id": "b128dc87",
      "metadata": {
        "id": "b128dc87"
      },
      "outputs": [],
      "source": [
        "split = StratifiedShuffleSplit(n_splits=1, test_size=0.3,random_state = 4)\n",
        "split.get_n_splits(X, Class)\n",
        "train_index, test_index = next(split.split(X, Class)) \n",
        "\n",
        "X_train,X_test = X.loc[train_index], X.loc[test_index]\n",
        "Y_train, Y_test = Class.loc[train_index], Class.loc[test_index]\n"
      ]
    },
    {
      "cell_type": "markdown",
      "id": "1e1dac31",
      "metadata": {},
      "source": [
        "Random Forest"
      ]
    },
    {
      "cell_type": "code",
      "execution_count": 135,
      "id": "666f4c57",
      "metadata": {
        "colab": {
          "base_uri": "https://localhost:8080/"
        },
        "id": "666f4c57",
        "outputId": "58fb2a5d-982f-4837-c184-9b6ad2b1c8b5"
      },
      "outputs": [
        {
          "data": {
            "text/plain": [
              "RandomForestClassifier(oob_score=True)"
            ]
          },
          "execution_count": 135,
          "metadata": {},
          "output_type": "execute_result"
        }
      ],
      "source": [
        "random_forest = RandomForestClassifier(oob_score=True)\n",
        "\n",
        "transformer = ColumnTransformer(\n",
        "                     [\n",
        "                         ('transform_name_categories', OrdinalEncoder(), make_column_selector(dtype_include=object)),\n",
        "                         ('transformer_name_for_numerical', StandardScaler(), make_column_selector(dtype_include=np.number))\n",
        "                     ]\n",
        "                 )\n",
        "X_train = transformer.fit_transform(X_train)\n",
        "X_test = transformer.fit_transform(X_test)\n",
        "\n",
        "X_train\n",
        "random_forest.fit(X_train,Y_train)\n"
      ]
    },
    {
      "cell_type": "code",
      "execution_count": 136,
      "id": "793f325e",
      "metadata": {
        "colab": {
          "base_uri": "https://localhost:8080/"
        },
        "id": "793f325e",
        "outputId": "8f3f061e-37ed-4f92-c37c-e818bc14a427"
      },
      "outputs": [
        {
          "data": {
            "text/plain": [
              "0.7430234232011023"
            ]
          },
          "execution_count": 136,
          "metadata": {},
          "output_type": "execute_result"
        }
      ],
      "source": [
        "predictions = random_forest.predict(X_test)\n",
        "accuracy_score(Y_test,predictions)"
      ]
    },
    {
      "cell_type": "markdown",
      "id": "566afcb7",
      "metadata": {
        "id": "566afcb7"
      },
      "source": [
        "On récupère les features importantes"
      ]
    },
    {
      "cell_type": "code",
      "execution_count": 71,
      "id": "08e4b300",
      "metadata": {
        "colab": {
          "base_uri": "https://localhost:8080/"
        },
        "id": "08e4b300",
        "outputId": "fd4a48ee-1d32-45b4-a037-e9793ef1ff00"
      },
      "outputs": [
        {
          "name": "stdout",
          "output_type": "stream",
          "text": [
            "Variable: t_15                 Importance: 0.02\n",
            "Variable: t_16                 Importance: 0.02\n",
            "Variable: t_17                 Importance: 0.02\n",
            "Variable: t_18                 Importance: 0.02\n",
            "Variable: t_19                 Importance: 0.02\n",
            "Variable: precip_23            Importance: 0.02\n",
            "Variable: number_sta_day       Importance: 0.01\n",
            "Variable: ff_20                Importance: 0.01\n",
            "Variable: ff_21                Importance: 0.01\n",
            "Variable: ff_22                Importance: 0.01\n",
            "Variable: ff_23                Importance: 0.01\n",
            "Variable: t_0                  Importance: 0.01\n",
            "Variable: t_1                  Importance: 0.01\n",
            "Variable: t_10                 Importance: 0.01\n",
            "Variable: t_11                 Importance: 0.01\n",
            "Variable: t_12                 Importance: 0.01\n",
            "Variable: t_13                 Importance: 0.01\n",
            "Variable: t_14                 Importance: 0.01\n",
            "Variable: t_2                  Importance: 0.01\n",
            "Variable: t_20                 Importance: 0.01\n",
            "Variable: t_21                 Importance: 0.01\n",
            "Variable: t_22                 Importance: 0.01\n",
            "Variable: t_23                 Importance: 0.01\n",
            "Variable: t_3                  Importance: 0.01\n",
            "Variable: t_4                  Importance: 0.01\n",
            "Variable: t_5                  Importance: 0.01\n",
            "Variable: t_6                  Importance: 0.01\n",
            "Variable: t_7                  Importance: 0.01\n",
            "Variable: t_8                  Importance: 0.01\n",
            "Variable: t_9                  Importance: 0.01\n",
            "Variable: td_0                 Importance: 0.01\n",
            "Variable: td_1                 Importance: 0.01\n",
            "Variable: td_10                Importance: 0.01\n",
            "Variable: td_11                Importance: 0.01\n",
            "Variable: td_12                Importance: 0.01\n",
            "Variable: td_13                Importance: 0.01\n",
            "Variable: td_14                Importance: 0.01\n",
            "Variable: td_15                Importance: 0.01\n",
            "Variable: td_16                Importance: 0.01\n",
            "Variable: td_17                Importance: 0.01\n",
            "Variable: td_18                Importance: 0.01\n",
            "Variable: td_19                Importance: 0.01\n",
            "Variable: td_2                 Importance: 0.01\n",
            "Variable: td_20                Importance: 0.01\n",
            "Variable: td_21                Importance: 0.01\n",
            "Variable: td_22                Importance: 0.01\n",
            "Variable: td_23                Importance: 0.01\n",
            "Variable: td_6                 Importance: 0.01\n",
            "Variable: td_7                 Importance: 0.01\n",
            "Variable: td_8                 Importance: 0.01\n",
            "Variable: td_9                 Importance: 0.01\n",
            "Variable: hu_0                 Importance: 0.01\n",
            "Variable: hu_1                 Importance: 0.01\n",
            "Variable: hu_10                Importance: 0.01\n",
            "Variable: hu_11                Importance: 0.01\n",
            "Variable: hu_12                Importance: 0.01\n",
            "Variable: hu_13                Importance: 0.01\n",
            "Variable: hu_14                Importance: 0.01\n",
            "Variable: hu_15                Importance: 0.01\n",
            "Variable: hu_16                Importance: 0.01\n",
            "Variable: hu_17                Importance: 0.01\n",
            "Variable: hu_18                Importance: 0.01\n",
            "Variable: hu_19                Importance: 0.01\n",
            "Variable: hu_2                 Importance: 0.01\n",
            "Variable: hu_20                Importance: 0.01\n",
            "Variable: hu_21                Importance: 0.01\n",
            "Variable: hu_22                Importance: 0.01\n",
            "Variable: hu_23                Importance: 0.01\n",
            "Variable: hu_6                 Importance: 0.01\n",
            "Variable: hu_7                 Importance: 0.01\n",
            "Variable: hu_8                 Importance: 0.01\n",
            "Variable: hu_9                 Importance: 0.01\n",
            "Variable: dd_0                 Importance: 0.01\n",
            "Variable: dd_10                Importance: 0.01\n",
            "Variable: dd_11                Importance: 0.01\n",
            "Variable: dd_12                Importance: 0.01\n",
            "Variable: dd_13                Importance: 0.01\n",
            "Variable: dd_14                Importance: 0.01\n",
            "Variable: dd_15                Importance: 0.01\n",
            "Variable: dd_16                Importance: 0.01\n",
            "Variable: dd_17                Importance: 0.01\n",
            "Variable: dd_18                Importance: 0.01\n",
            "Variable: dd_19                Importance: 0.01\n",
            "Variable: dd_20                Importance: 0.01\n",
            "Variable: dd_21                Importance: 0.01\n",
            "Variable: dd_22                Importance: 0.01\n",
            "Variable: dd_23                Importance: 0.01\n",
            "Variable: dd_9                 Importance: 0.01\n",
            "Variable: precip_22            Importance: 0.01\n",
            "Variable: day                  Importance: 0.01\n",
            "Variable: number_sta           Importance: 0.01\n",
            "Variable: season               Importance: 0.01\n",
            "Variable: ff_0                 Importance: 0.0\n",
            "Variable: ff_1                 Importance: 0.0\n",
            "Variable: ff_10                Importance: 0.0\n",
            "Variable: ff_11                Importance: 0.0\n",
            "Variable: ff_12                Importance: 0.0\n",
            "Variable: ff_13                Importance: 0.0\n",
            "Variable: ff_14                Importance: 0.0\n",
            "Variable: ff_15                Importance: 0.0\n",
            "Variable: ff_16                Importance: 0.0\n",
            "Variable: ff_17                Importance: 0.0\n",
            "Variable: ff_18                Importance: 0.0\n",
            "Variable: ff_19                Importance: 0.0\n",
            "Variable: ff_2                 Importance: 0.0\n",
            "Variable: ff_3                 Importance: 0.0\n",
            "Variable: ff_4                 Importance: 0.0\n",
            "Variable: ff_5                 Importance: 0.0\n",
            "Variable: ff_6                 Importance: 0.0\n",
            "Variable: ff_7                 Importance: 0.0\n",
            "Variable: ff_8                 Importance: 0.0\n",
            "Variable: ff_9                 Importance: 0.0\n",
            "Variable: td_3                 Importance: 0.0\n",
            "Variable: td_4                 Importance: 0.0\n",
            "Variable: td_5                 Importance: 0.0\n",
            "Variable: hu_3                 Importance: 0.0\n",
            "Variable: hu_4                 Importance: 0.0\n",
            "Variable: hu_5                 Importance: 0.0\n",
            "Variable: dd_1                 Importance: 0.0\n",
            "Variable: dd_2                 Importance: 0.0\n",
            "Variable: dd_3                 Importance: 0.0\n",
            "Variable: dd_4                 Importance: 0.0\n",
            "Variable: dd_5                 Importance: 0.0\n",
            "Variable: dd_6                 Importance: 0.0\n",
            "Variable: dd_7                 Importance: 0.0\n",
            "Variable: dd_8                 Importance: 0.0\n",
            "Variable: precip_0             Importance: 0.0\n",
            "Variable: precip_1             Importance: 0.0\n",
            "Variable: precip_10            Importance: 0.0\n",
            "Variable: precip_11            Importance: 0.0\n",
            "Variable: precip_12            Importance: 0.0\n",
            "Variable: precip_13            Importance: 0.0\n",
            "Variable: precip_14            Importance: 0.0\n",
            "Variable: precip_15            Importance: 0.0\n",
            "Variable: precip_16            Importance: 0.0\n",
            "Variable: precip_17            Importance: 0.0\n",
            "Variable: precip_18            Importance: 0.0\n",
            "Variable: precip_19            Importance: 0.0\n",
            "Variable: precip_2             Importance: 0.0\n",
            "Variable: precip_20            Importance: 0.0\n",
            "Variable: precip_21            Importance: 0.0\n",
            "Variable: precip_3             Importance: 0.0\n",
            "Variable: precip_4             Importance: 0.0\n",
            "Variable: precip_5             Importance: 0.0\n",
            "Variable: precip_6             Importance: 0.0\n",
            "Variable: precip_7             Importance: 0.0\n",
            "Variable: precip_8             Importance: 0.0\n",
            "Variable: precip_9             Importance: 0.0\n"
          ]
        },
        {
          "data": {
            "text/plain": [
              "[None,\n",
              " None,\n",
              " None,\n",
              " None,\n",
              " None,\n",
              " None,\n",
              " None,\n",
              " None,\n",
              " None,\n",
              " None,\n",
              " None,\n",
              " None,\n",
              " None,\n",
              " None,\n",
              " None,\n",
              " None,\n",
              " None,\n",
              " None,\n",
              " None,\n",
              " None,\n",
              " None,\n",
              " None,\n",
              " None,\n",
              " None,\n",
              " None,\n",
              " None,\n",
              " None,\n",
              " None,\n",
              " None,\n",
              " None,\n",
              " None,\n",
              " None,\n",
              " None,\n",
              " None,\n",
              " None,\n",
              " None,\n",
              " None,\n",
              " None,\n",
              " None,\n",
              " None,\n",
              " None,\n",
              " None,\n",
              " None,\n",
              " None,\n",
              " None,\n",
              " None,\n",
              " None,\n",
              " None,\n",
              " None,\n",
              " None,\n",
              " None,\n",
              " None,\n",
              " None,\n",
              " None,\n",
              " None,\n",
              " None,\n",
              " None,\n",
              " None,\n",
              " None,\n",
              " None,\n",
              " None,\n",
              " None,\n",
              " None,\n",
              " None,\n",
              " None,\n",
              " None,\n",
              " None,\n",
              " None,\n",
              " None,\n",
              " None,\n",
              " None,\n",
              " None,\n",
              " None,\n",
              " None,\n",
              " None,\n",
              " None,\n",
              " None,\n",
              " None,\n",
              " None,\n",
              " None,\n",
              " None,\n",
              " None,\n",
              " None,\n",
              " None,\n",
              " None,\n",
              " None,\n",
              " None,\n",
              " None,\n",
              " None,\n",
              " None,\n",
              " None,\n",
              " None,\n",
              " None,\n",
              " None,\n",
              " None,\n",
              " None,\n",
              " None,\n",
              " None,\n",
              " None,\n",
              " None,\n",
              " None,\n",
              " None,\n",
              " None,\n",
              " None,\n",
              " None,\n",
              " None,\n",
              " None,\n",
              " None,\n",
              " None,\n",
              " None,\n",
              " None,\n",
              " None,\n",
              " None,\n",
              " None,\n",
              " None,\n",
              " None,\n",
              " None,\n",
              " None,\n",
              " None,\n",
              " None,\n",
              " None,\n",
              " None,\n",
              " None,\n",
              " None,\n",
              " None,\n",
              " None,\n",
              " None,\n",
              " None,\n",
              " None,\n",
              " None,\n",
              " None,\n",
              " None,\n",
              " None,\n",
              " None,\n",
              " None,\n",
              " None,\n",
              " None,\n",
              " None,\n",
              " None,\n",
              " None,\n",
              " None,\n",
              " None,\n",
              " None,\n",
              " None,\n",
              " None,\n",
              " None,\n",
              " None,\n",
              " None]"
            ]
          },
          "execution_count": 71,
          "metadata": {},
          "output_type": "execute_result"
        }
      ],
      "source": [
        "# Get numerical feature importances\n",
        "importances = list(random_forest.feature_importances_)\n",
        "# List of tuples with variable and importance\n",
        "feature_importances = [(feature, round(importance, 2)) for feature, importance in zip(X.columns, importances)]\n",
        "# Sort the feature importances by most important first\n",
        "feature_importances = sorted(feature_importances, key = lambda x: x[1], reverse = True)\n",
        "# Print out the feature and importances \n",
        "[print('Variable: {:20} Importance: {}'.format(*pair)) for pair in feature_importances]"
      ]
    },
    {
      "cell_type": "markdown",
      "id": "a4d51755",
      "metadata": {
        "id": "a4d51755"
      },
      "source": [
        "Utilisons Support Vector Machine (SVM) afin de classifier les jours où il pleut"
      ]
    },
    {
      "cell_type": "code",
      "execution_count": 72,
      "id": "13db2b1f",
      "metadata": {
        "id": "13db2b1f"
      },
      "outputs": [],
      "source": [
        "# from sklearn import svm\n",
        "# svm_model = svm.SVC(kernel = 'linear')\n",
        "# svm_model.fit(X_train,Y_train)\n",
        "# predictions = svm_model.predict(X_test)\n",
        "# accuracy_score(Y_test,predictions)"
      ]
    },
    {
      "cell_type": "code",
      "execution_count": null,
      "id": "e2dd7399",
      "metadata": {
        "id": "e2dd7399"
      },
      "outputs": [],
      "source": [
        "# predictions"
      ]
    },
    {
      "cell_type": "markdown",
      "id": "bc91eee1",
      "metadata": {},
      "source": [
        "Régression Logisitique"
      ]
    },
    {
      "cell_type": "code",
      "execution_count": 73,
      "id": "9f18d5a3",
      "metadata": {},
      "outputs": [],
      "source": [
        "split = StratifiedShuffleSplit(n_splits=1, test_size=0.3,random_state = 4)\n",
        "split.get_n_splits(X, Class)\n",
        "train_index, test_index = next(split.split(X, Class)) \n",
        "\n",
        "X_train,X_test = X.loc[train_index], X.loc[test_index]\n",
        "Y_train, Y_test = Class.loc[train_index], Class.loc[test_index]\n",
        "\n",
        "transformer = ColumnTransformer(\n",
        "                     [\n",
        "                         ('transform_name_categories', OrdinalEncoder(), make_column_selector(dtype_include=object)),\n",
        "                         ('transformer_name_for_numerical', StandardScaler(), make_column_selector(dtype_include=np.number))\n",
        "                     ]\n",
        "                 )\n",
        "X_train = transformer.fit_transform(X_train)\n",
        "X_test = transformer.fit_transform(X_test)\n",
        "\n"
      ]
    },
    {
      "cell_type": "code",
      "execution_count": 117,
      "id": "556bffe1",
      "metadata": {},
      "outputs": [
        {
          "data": {
            "text/plain": [
              "LogisticRegression(class_weight={1: 0.7, 2: 1}, random_state=4)"
            ]
          },
          "execution_count": 117,
          "metadata": {},
          "output_type": "execute_result"
        }
      ],
      "source": [
        "from sklearn.linear_model import LogisticRegression\n",
        "\n",
        "lg = LogisticRegression(random_state=4,class_weight = {1:0.7,2:1})\n",
        "lg.fit(X_train,Y_train)\n"
      ]
    },
    {
      "cell_type": "code",
      "execution_count": 118,
      "id": "183bfa8f",
      "metadata": {},
      "outputs": [
        {
          "data": {
            "text/plain": [
              "0.6525592777674954"
            ]
          },
          "execution_count": 118,
          "metadata": {},
          "output_type": "execute_result"
        }
      ],
      "source": [
        "predictions = lg.predict(X_test)\n",
        "accuracy_score(Y_test,predictions)"
      ]
    },
    {
      "cell_type": "markdown",
      "id": "be3672e1",
      "metadata": {},
      "source": [
        "XGBoost"
      ]
    },
    {
      "cell_type": "code",
      "execution_count": 137,
      "id": "32cc7bd0",
      "metadata": {},
      "outputs": [],
      "source": [
        "split = StratifiedShuffleSplit(n_splits=1, test_size=0.3,random_state = 4)\n",
        "split.get_n_splits(X, Class)\n",
        "train_index, test_index = next(split.split(X, Class)) \n",
        "\n",
        "X_train,X_test = X.loc[train_index], X.loc[test_index]\n",
        "Y_train, Y_test = Class.loc[train_index], Class.loc[test_index]\n",
        "\n",
        "transformer = ColumnTransformer(\n",
        "                     [\n",
        "                         ('transform_name_categories', OrdinalEncoder(), make_column_selector(dtype_include=object)),\n",
        "                         ('transformer_name_for_numerical', StandardScaler(), make_column_selector(dtype_include=np.number))\n",
        "                     ]\n",
        "                 )\n",
        "X_train = transformer.fit_transform(X_train)\n",
        "X_test = transformer.fit_transform(X_test)"
      ]
    },
    {
      "cell_type": "code",
      "execution_count": 141,
      "id": "6e738fb4",
      "metadata": {},
      "outputs": [
        {
          "name": "stdout",
          "output_type": "stream",
          "text": [
            "[17:10:34] WARNING: C:/Users/Administrator/workspace/xgboost-win64_release_1.5.1/src/learner.cc:1115: Starting in XGBoost 1.3.0, the default evaluation metric used with the objective 'binary:logistic' was changed from 'error' to 'logloss'. Explicitly set eval_metric if you'd like to restore the old behavior.\n"
          ]
        },
        {
          "data": {
            "text/plain": [
              "XGBClassifier(base_score=0.5, booster='gbtree', colsample_bylevel=1,\n",
              "              colsample_bynode=1, colsample_bytree=0.7,\n",
              "              enable_categorical=False, gamma=0, gpu_id=0, importance_type=None,\n",
              "              interaction_constraints='', learning_rate=0.05, max_delta_step=0,\n",
              "              max_depth=11, min_child_weight=1, missing=-999,\n",
              "              monotone_constraints='()', n_estimators=500, n_jobs=8,\n",
              "              num_parallel_tree=1, predictor='auto', random_state=4,\n",
              "              reg_alpha=0, reg_lambda=1, scale_pos_weight=1, subsample=0.9,\n",
              "              tree_method='gpu_hist', validate_parameters=1, verbosity=None)"
            ]
          },
          "execution_count": 141,
          "metadata": {},
          "output_type": "execute_result"
        }
      ],
      "source": [
        "from xgboost import XGBClassifier\n",
        "xg = XGBClassifier(n_estimators=500,\n",
        "    max_depth=11,\n",
        "    learning_rate=0.05,\n",
        "    subsample=0.9,\n",
        "    colsample_bytree=0.7,\n",
        "    missing=-999,\n",
        "    random_state=4,\n",
        "    tree_method='gpu_hist')\n",
        "xg.fit(X_train,Y_train)"
      ]
    },
    {
      "cell_type": "code",
      "execution_count": 142,
      "id": "d330c963",
      "metadata": {},
      "outputs": [
        {
          "data": {
            "text/plain": [
              "0.7552388590700639"
            ]
          },
          "execution_count": 142,
          "metadata": {},
          "output_type": "execute_result"
        }
      ],
      "source": [
        "predictions = xg.predict(X_test)\n",
        "accuracy_score(Y_test,predictions)"
      ]
    },
    {
      "cell_type": "code",
      "execution_count": 165,
      "id": "7d1bac36",
      "metadata": {},
      "outputs": [
        {
          "name": "stdout",
          "output_type": "stream",
          "text": [
            "[17:28:26] WARNING: C:/Users/Administrator/workspace/xgboost-win64_release_1.5.1/src/learner.cc:1115: Starting in XGBoost 1.3.0, the default evaluation metric used with the objective 'binary:logistic' was changed from 'error' to 'logloss'. Explicitly set eval_metric if you'd like to restore the old behavior.\n"
          ]
        },
        {
          "data": {
            "text/plain": [
              "XGBClassifier(base_score=0.5, booster='gbtree', colsample_bylevel=1,\n",
              "              colsample_bynode=1, colsample_bytree=0.7,\n",
              "              enable_categorical=False, gamma=0, gpu_id=0, importance_type=None,\n",
              "              interaction_constraints='', learning_rate=0.02, max_delta_step=0,\n",
              "              max_depth=6, min_child_weight=2, missing=nan,\n",
              "              monotone_constraints='()', n_estimators=2000, n_jobs=8,\n",
              "              nthread=-1, num_parallel_tree=1, predictor='auto', random_state=4,\n",
              "              reg_alpha=0, reg_lambda=1, scale_pos_weight=1, subsample=0.9,\n",
              "              tree_method='gpu_hist', validate_parameters=1, verbosity=None)"
            ]
          },
          "execution_count": 165,
          "metadata": {},
          "output_type": "execute_result"
        }
      ],
      "source": [
        "from xgboost import XGBClassifier\n",
        "xg = XGBClassifier(n_estimators=2000,\n",
        "    max_depth=6,\n",
        "    learning_rate=0.02,\n",
        "    subsample=0.9,\n",
        "    colsample_bytree=0.7,\n",
        "    random_state=4,\n",
        "    objective = 'binary:logistic',\n",
        "    nthread= -1,\n",
        "    min_child_weight= 2,   \n",
        "    tree_method='gpu_hist')\n",
        "xg.fit(X_train,Y_train)"
      ]
    },
    {
      "cell_type": "code",
      "execution_count": 167,
      "id": "c9a1bd8a",
      "metadata": {},
      "outputs": [
        {
          "data": {
            "text/plain": [
              "0.7406790466201905"
            ]
          },
          "execution_count": 167,
          "metadata": {},
          "output_type": "execute_result"
        }
      ],
      "source": [
        "predictions = xg.predict(X_test)\n",
        "accuracy_score(Y_test,predictions)"
      ]
    },
    {
      "cell_type": "markdown",
      "id": "94fd2ed4",
      "metadata": {},
      "source": [
        "Extra Trees Classifier (possède une faible variance comparé à Random Forest)"
      ]
    },
    {
      "cell_type": "code",
      "execution_count": 168,
      "id": "25215446",
      "metadata": {},
      "outputs": [],
      "source": [
        "split = StratifiedShuffleSplit(n_splits=1, test_size=0.3,random_state = 4)\n",
        "split.get_n_splits(X, Class)\n",
        "train_index, test_index = next(split.split(X, Class)) \n",
        "\n",
        "X_train,X_test = X.loc[train_index], X.loc[test_index]\n",
        "Y_train, Y_test = Class.loc[train_index], Class.loc[test_index]\n",
        "\n",
        "transformer = ColumnTransformer(\n",
        "                     [\n",
        "                         ('transform_name_categories', OrdinalEncoder(), make_column_selector(dtype_include=object)),\n",
        "                         ('transformer_name_for_numerical', StandardScaler(), make_column_selector(dtype_include=np.number))\n",
        "                     ]\n",
        "                 )\n",
        "X_train = transformer.fit_transform(X_train)\n",
        "X_test = transformer.fit_transform(X_test)"
      ]
    },
    {
      "cell_type": "code",
      "execution_count": 172,
      "id": "5825cfad",
      "metadata": {},
      "outputs": [
        {
          "data": {
            "text/plain": [
              "ExtraTreesClassifier(n_estimators=500, random_state=4)"
            ]
          },
          "execution_count": 172,
          "metadata": {},
          "output_type": "execute_result"
        }
      ],
      "source": [
        "from sklearn.ensemble import ExtraTreesClassifier\n",
        "extree = ExtraTreesClassifier(\n",
        "    random_state = 4,\n",
        "    n_estimators =500 )\n",
        "extree.fit(X_train,Y_train)"
      ]
    },
    {
      "cell_type": "code",
      "execution_count": 173,
      "id": "e4c54f86",
      "metadata": {},
      "outputs": [
        {
          "data": {
            "text/plain": [
              "0.7413782466530939"
            ]
          },
          "execution_count": 173,
          "metadata": {},
          "output_type": "execute_result"
        }
      ],
      "source": [
        "predictions = extree.predict(X_test)\n",
        "accuracy_score(Y_test,predictions)"
      ]
    },
    {
      "cell_type": "markdown",
      "id": "8f7a75b1",
      "metadata": {},
      "source": [
        "Nous allons utilisé un autre modèle pour prédire le cumul de pluie sur les jours où on a prédit qu'il pleuvait"
      ]
    },
    {
      "cell_type": "code",
      "execution_count": null,
      "id": "OHS9_h6LJCSQ",
      "metadata": {
        "colab": {
          "base_uri": "https://localhost:8080/",
          "height": 488
        },
        "id": "OHS9_h6LJCSQ",
        "outputId": "2992e3f4-32f2-4a7f-d598-9c60f7171f14"
      },
      "outputs": [],
      "source": [
        "X_test = pd.DataFrame(X_test)\n",
        "X_test['index_original'] = test_index\n",
        "X_test"
      ]
    },
    {
      "cell_type": "code",
      "execution_count": null,
      "id": "662c152d",
      "metadata": {
        "id": "662c152d"
      },
      "outputs": [],
      "source": [
        "index_pluie =np.where(predictions==2)"
      ]
    },
    {
      "cell_type": "code",
      "execution_count": null,
      "id": "74dfdad9",
      "metadata": {
        "colab": {
          "base_uri": "https://localhost:8080/",
          "height": 488
        },
        "id": "74dfdad9",
        "outputId": "0d41e06f-899a-4983-b2c6-8dd45b66b698"
      },
      "outputs": [],
      "source": [
        "X_pluie = X_test.loc[index_pluie]\n",
        "X_pluie"
      ]
    },
    {
      "cell_type": "code",
      "execution_count": null,
      "id": "1b0af096",
      "metadata": {
        "colab": {
          "base_uri": "https://localhost:8080/"
        },
        "id": "1b0af096",
        "outputId": "1beb15d0-5241-4242-9b2d-e087f2df3b40"
      },
      "outputs": [],
      "source": [
        "X_pluie.shape"
      ]
    },
    {
      "cell_type": "code",
      "execution_count": null,
      "id": "97a22a49",
      "metadata": {
        "colab": {
          "base_uri": "https://localhost:8080/",
          "height": 424
        },
        "id": "97a22a49",
        "outputId": "75cbf3da-203e-4a07-8239-5a858a2d95a8"
      },
      "outputs": [],
      "source": [
        "Y_test = pd.DataFrame(Y_test)\n",
        "Y_test"
      ]
    },
    {
      "cell_type": "code",
      "execution_count": null,
      "id": "6fa16c4d",
      "metadata": {
        "id": "6fa16c4d"
      },
      "outputs": [],
      "source": [
        "Y = pd.DataFrame(Y)\n",
        "Y.reset_index(inplace=True)\n",
        "Y.drop('index',axis=1,inplace=True)"
      ]
    },
    {
      "cell_type": "code",
      "execution_count": null,
      "id": "ba101380",
      "metadata": {
        "colab": {
          "base_uri": "https://localhost:8080/",
          "height": 424
        },
        "id": "ba101380",
        "outputId": "7c51b989-6cec-4d44-c701-18b5ddf68f46"
      },
      "outputs": [],
      "source": [
        "Y_pluie = Y.loc[X_pluie['index_original']]\n",
        "pd.DataFrame(Y_pluie)\n",
        "\n"
      ]
    },
    {
      "cell_type": "code",
      "execution_count": null,
      "id": "ca7b79ed",
      "metadata": {
        "id": "ca7b79ed"
      },
      "outputs": [],
      "source": [
        "Y_pluie = pd.DataFrame(Y_pluie)\n",
        "Y_pluie = Y_pluie.reset_index()\n"
      ]
    },
    {
      "cell_type": "code",
      "execution_count": null,
      "id": "64e46a45",
      "metadata": {
        "id": "64e46a45"
      },
      "outputs": [],
      "source": [
        "Y_pluie.drop('index',axis=1,inplace=True)"
      ]
    },
    {
      "cell_type": "code",
      "execution_count": null,
      "id": "bb4081e4",
      "metadata": {
        "colab": {
          "base_uri": "https://localhost:8080/",
          "height": 424
        },
        "id": "bb4081e4",
        "outputId": "f56b52ea-fa8f-43e2-b062-9d6a1a25ec84"
      },
      "outputs": [],
      "source": [
        "Y_pluie"
      ]
    },
    {
      "cell_type": "code",
      "execution_count": null,
      "id": "7b42c192",
      "metadata": {
        "colab": {
          "base_uri": "https://localhost:8080/"
        },
        "id": "7b42c192",
        "outputId": "d6b49a94-a644-4acf-80c7-70e49eb4dfda"
      },
      "outputs": [],
      "source": [
        "sum(Y_pluie['Y']==0)"
      ]
    },
    {
      "cell_type": "markdown",
      "id": "130428a2",
      "metadata": {
        "id": "130428a2"
      },
      "source": [
        "Après avoir prédit les jours où il pleut, on utilise un modèle prédictif afin de déterminer le cumul de pluie par jour"
      ]
    },
    {
      "cell_type": "code",
      "execution_count": null,
      "id": "7742a4c3",
      "metadata": {
        "id": "7742a4c3"
      },
      "outputs": [],
      "source": [
        "index_original = X_pluie['index_original']\n",
        "X_pluie.drop('index_original',axis=1,inplace=True)"
      ]
    },
    {
      "cell_type": "code",
      "execution_count": null,
      "id": "e3f1fe40",
      "metadata": {
        "id": "e3f1fe40"
      },
      "outputs": [],
      "source": [
        "X_pluie.reset_index(inplace=True)"
      ]
    },
    {
      "cell_type": "code",
      "execution_count": null,
      "id": "7ba8240e",
      "metadata": {
        "id": "7ba8240e"
      },
      "outputs": [],
      "source": [
        "X_pluie.drop('index',axis=1,inplace=True)"
      ]
    },
    {
      "cell_type": "code",
      "execution_count": null,
      "id": "d62c634b",
      "metadata": {
        "colab": {
          "base_uri": "https://localhost:8080/",
          "height": 424
        },
        "id": "d62c634b",
        "outputId": "0756d2fa-f9fc-483e-bd15-8736803632a2"
      },
      "outputs": [],
      "source": [
        "Y_pluie"
      ]
    },
    {
      "cell_type": "code",
      "execution_count": null,
      "id": "4a88183f",
      "metadata": {
        "id": "4a88183f"
      },
      "outputs": [],
      "source": [
        "split = StratifiedShuffleSplit(n_splits=1, test_size=0.3,random_state = 4)\n",
        "split.get_n_splits(X_pluie, Y_pluie)\n",
        "train_index, test_index = next(split.split(X_pluie, Y_pluie)) \n",
        "\n",
        "X_train,X_test = X_pluie.loc[train_index], X_pluie.loc[test_index]\n",
        "Y_train, Y_test = Y_pluie.loc[train_index], Y_pluie.loc[test_index]\n"
      ]
    },
    {
      "cell_type": "markdown",
      "id": "96f5aa67",
      "metadata": {
        "id": "96f5aa67"
      },
      "source": [
        "Utilisons une régression linéaire\n"
      ]
    },
    {
      "cell_type": "code",
      "execution_count": null,
      "id": "534b8299",
      "metadata": {
        "colab": {
          "base_uri": "https://localhost:8080/"
        },
        "id": "534b8299",
        "outputId": "c13a8678-eedf-48e2-d2cf-0eb03b6247c4"
      },
      "outputs": [],
      "source": [
        "from sklearn import linear_model, metrics\n",
        "\n",
        "reg = linear_model.LinearRegression()\n",
        "\n",
        "reg.fit(X_train,Y_train)\n",
        "\n"
      ]
    },
    {
      "cell_type": "code",
      "execution_count": null,
      "id": "cf95eaf8",
      "metadata": {
        "colab": {
          "base_uri": "https://localhost:8080/"
        },
        "id": "cf95eaf8",
        "outputId": "58f3feb6-d5f0-4ab9-eefb-fe7cc6579cdd"
      },
      "outputs": [],
      "source": [
        "predictions = reg.predict(X_test)\n",
        "predictions"
      ]
    },
    {
      "cell_type": "code",
      "execution_count": null,
      "id": "2f412bcf",
      "metadata": {
        "colab": {
          "base_uri": "https://localhost:8080/"
        },
        "id": "2f412bcf",
        "outputId": "eea1b348-c6d2-4e01-aa13-b8c0fba9bf69"
      },
      "outputs": [],
      "source": [
        "np.mean(np.abs(predictions-Y_test)/(Y_test+1))*100"
      ]
    },
    {
      "cell_type": "code",
      "execution_count": null,
      "id": "995af568",
      "metadata": {
        "colab": {
          "base_uri": "https://localhost:8080/"
        },
        "id": "995af568",
        "outputId": "8e199180-95a4-431c-bba4-8651bc61380e"
      },
      "outputs": [],
      "source": [
        "metrics.mean_absolute_error(predictions,Y_test)"
      ]
    },
    {
      "cell_type": "markdown",
      "id": "I-BCkHhPb1PN",
      "metadata": {
        "id": "I-BCkHhPb1PN"
      },
      "source": [
        "Random Forest Regression"
      ]
    },
    {
      "cell_type": "code",
      "execution_count": null,
      "id": "XXBHrsb3b3c5",
      "metadata": {
        "id": "XXBHrsb3b3c5"
      },
      "outputs": [],
      "source": [
        "from sklearn.ensemble import RandomForestRegressor\n",
        "\n",
        "regressor = RandomForestRegressor(random_state=4)\n",
        "regressor.fit(X_train, Y_train)\n",
        "predictions = regressor.predict(X_test)"
      ]
    },
    {
      "cell_type": "code",
      "execution_count": null,
      "id": "pxLVvU74dxgq",
      "metadata": {
        "id": "pxLVvU74dxgq"
      },
      "outputs": [],
      "source": [
        "new_predictions = [[i] for i in predictions]\n",
        "new_predictions = np.asarray(new_predictions)"
      ]
    },
    {
      "cell_type": "code",
      "execution_count": null,
      "id": "5cJENrPwcEEQ",
      "metadata": {
        "colab": {
          "base_uri": "https://localhost:8080/"
        },
        "id": "5cJENrPwcEEQ",
        "outputId": "1834f9f2-9dc9-4237-c4b2-2263f52d78e0"
      },
      "outputs": [],
      "source": [
        "np.mean(np.abs(new_predictions-Y_test)/(Y_test+1))*100"
      ]
    },
    {
      "cell_type": "code",
      "execution_count": null,
      "id": "GT9K1A8rcHnN",
      "metadata": {
        "colab": {
          "base_uri": "https://localhost:8080/"
        },
        "id": "GT9K1A8rcHnN",
        "outputId": "d8ca3f61-bab9-430b-c55f-bd71d96ab8f5"
      },
      "outputs": [],
      "source": [
        "metrics.mean_absolute_error(predictions,Y_test)"
      ]
    },
    {
      "cell_type": "markdown",
      "id": "kJlEfe2jnEN_",
      "metadata": {
        "id": "kJlEfe2jnEN_"
      },
      "source": [
        "Quantile regression"
      ]
    },
    {
      "cell_type": "code",
      "execution_count": null,
      "id": "Zu2923nnnIgz",
      "metadata": {
        "id": "Zu2923nnnIgz"
      },
      "outputs": [],
      "source": [
        "from sklearn.ensemble import GradientBoostingRegressor\n",
        "from sklearn.metrics import mean_pinball_loss, mean_squared_error\n",
        "\n",
        "\n",
        "all_models = {}\n",
        "common_params = dict(\n",
        "    learning_rate=0.05,\n",
        "    n_estimators=100,\n",
        "    max_depth=2,\n",
        "    min_samples_leaf=9,\n",
        "    min_samples_split=9,\n",
        ")\n",
        "for alpha in [0.05]:\n",
        "    gbr = GradientBoostingRegressor(loss=\"quantile\", alpha=alpha, **common_params)\n",
        "    all_models[\"model_1\"] = gbr.fit(X_train, Y_train)"
      ]
    },
    {
      "cell_type": "code",
      "execution_count": null,
      "id": "UDFNpOVXn-aR",
      "metadata": {
        "id": "UDFNpOVXn-aR"
      },
      "outputs": [],
      "source": [
        "predictions = all_models['model_1'].predict(X_test)\n"
      ]
    },
    {
      "cell_type": "code",
      "execution_count": null,
      "id": "HKk-lWG0poRv",
      "metadata": {
        "id": "HKk-lWG0poRv"
      },
      "outputs": [],
      "source": [
        "quantile_regression_pred = [[i] for i in predictions]\n",
        "quantile_regression_pred = np.asarray(quantile_regression_pred)"
      ]
    },
    {
      "cell_type": "code",
      "execution_count": null,
      "id": "eyPwjcoEpPbH",
      "metadata": {
        "colab": {
          "base_uri": "https://localhost:8080/"
        },
        "id": "eyPwjcoEpPbH",
        "outputId": "fef7388d-4086-4c86-e161-5df98941a631"
      },
      "outputs": [],
      "source": [
        "np.mean(np.abs(quantile_regression_pred-Y_test)/(Y_test+1))*100"
      ]
    },
    {
      "cell_type": "markdown",
      "id": "o8NYT3r8g_TG",
      "metadata": {
        "id": "o8NYT3r8g_TG"
      },
      "source": [
        "Prédictions sur données Test"
      ]
    },
    {
      "cell_type": "code",
      "execution_count": null,
      "id": "0hsqnDGahB32",
      "metadata": {
        "colab": {
          "base_uri": "https://localhost:8080/",
          "height": 424
        },
        "id": "0hsqnDGahB32",
        "outputId": "a80e8d98-65c7-480d-e7a2-15bdfb4ce42b"
      },
      "outputs": [],
      "source": [
        "# Lecture des données de l'ensemble test\n",
        "\n",
        "path = 'defi-ia-2022/Test/Test/X_station_test.csv'\n",
        "\n",
        "\n",
        "with open(path, encoding=\"utf8\", errors='ignore') as f:\n",
        "  contents = f.read()\n",
        "Xtest = pd.read_csv(path)\n",
        "display(Xtest)\n",
        "#Xtest['number_sta']=Xtest['number_sta'].astype('category')\n",
        "\n",
        "# Tri par station puis par datea\n",
        "#Xtest = Xtest.sort_values(['number_sta','date'])\n",
        "#Xtest"
      ]
    },
    {
      "cell_type": "code",
      "execution_count": null,
      "id": "dLaw4OHOsiWc",
      "metadata": {
        "colab": {
          "base_uri": "https://localhost:8080/",
          "height": 424
        },
        "id": "dLaw4OHOsiWc",
        "outputId": "f67a86d9-9591-4b2d-ccd1-9a0276fbfa6c"
      },
      "outputs": [],
      "source": [
        "split_Id = Xtest['Id'].str.split(pat=\"_\", expand = True)\n",
        "split_Id = split_Id.rename(columns={0: \"number_sta_2\", 1: \"day\", 2: \"hour\"})\n",
        "Xtest['number_sta_2'] = split_Id['number_sta_2']\n",
        "Xtest['day'] = split_Id[\"day\"]\n",
        "Xtest['hour'] = split_Id[\"hour\"]\n",
        "Xtest['Id'] = split_Id['number_sta_2'] + \"_\" + split_Id['day']\n",
        "Xtest = Xtest.drop(\"number_sta_2\",axis=1)\n",
        "Xtest.fillna(method='bfill',inplace=True)\n",
        "display(Xtest)"
      ]
    },
    {
      "cell_type": "code",
      "execution_count": null,
      "id": "ltKA54_cvI7e",
      "metadata": {
        "id": "ltKA54_cvI7e"
      },
      "outputs": [],
      "source": [
        "Xtest['ff_idx'] = 'ff_' + Xtest[\"hour\"].astype(str)\n",
        "Xtest['t_idx'] = 't_' + Xtest[\"hour\"].astype(str)\n",
        "Xtest['td_idx'] = 'td_' + Xtest[\"hour\"].astype(str)\n",
        "Xtest['hu_idx'] = 'hu_' + Xtest[\"hour\"].astype(str)\n",
        "Xtest['dd_idx'] = 'dd_' + Xtest[\"hour\"].astype(str)\n",
        "Xtest['precip_idx'] = 'precip_' + Xtest[\"hour\"].astype(str)"
      ]
    },
    {
      "cell_type": "code",
      "execution_count": null,
      "id": "dhFe4wIyv7ic",
      "metadata": {
        "id": "dhFe4wIyv7ic"
      },
      "outputs": [],
      "source": [
        "ff = Xtest.pivot(index='Id',columns='ff_idx',values='ff')\n",
        "t = Xtest.pivot(index='Id',columns='t_idx',values='t')\n",
        "td = Xtest.pivot(index='Id',columns='td_idx',values='td')\n",
        "hu = Xtest.pivot(index='Id',columns='hu_idx',values='hu')\n",
        "dd = Xtest.pivot(index='Id',columns='dd_idx',values='dd')\n",
        "precip = Xtest.pivot(index='Id',columns='precip_idx',values='precip')"
      ]
    },
    {
      "cell_type": "code",
      "execution_count": null,
      "id": "TflOk2YqwEVQ",
      "metadata": {
        "id": "TflOk2YqwEVQ"
      },
      "outputs": [],
      "source": [
        "X_reshape = pd.concat([ff ,t,td,hu,dd,precip],axis=1)"
      ]
    },
    {
      "cell_type": "code",
      "execution_count": null,
      "id": "YbhMwLXLwSq2",
      "metadata": {
        "colab": {
          "base_uri": "https://localhost:8080/",
          "height": 488
        },
        "id": "YbhMwLXLwSq2",
        "outputId": "b3255119-abc0-4874-9ef1-8ce67d46fa14"
      },
      "outputs": [],
      "source": [
        "X_reshape.reset_index(inplace=True)\n",
        "X_reshape"
      ]
    },
    {
      "cell_type": "code",
      "execution_count": null,
      "id": "gZg4YbOBwxAz",
      "metadata": {
        "id": "gZg4YbOBwxAz"
      },
      "outputs": [],
      "source": [
        "X = X_reshape\n",
        "\n",
        "X['day'] = X['Id'].str.rpartition(\"_\")[2]\n",
        "X['day'] = X['day'].astype('int')\n",
        "X['day'] = X['day'] % 365"
      ]
    },
    {
      "cell_type": "code",
      "execution_count": null,
      "id": "3iOeIDO1xoDf",
      "metadata": {
        "id": "3iOeIDO1xoDf"
      },
      "outputs": [],
      "source": [
        "X['number_sta'] = X['Id'].str.rpartition('_')[0]\n",
        "X['number_sta'] = X['number_sta'].astype('int64')"
      ]
    },
    {
      "cell_type": "code",
      "execution_count": null,
      "id": "znO4ZQwQxx-7",
      "metadata": {
        "colab": {
          "base_uri": "https://localhost:8080/"
        },
        "id": "znO4ZQwQxx-7",
        "outputId": "5f6f1969-91e3-43de-827f-6529160cb305"
      },
      "outputs": [],
      "source": [
        "X['season'] =pd.cut(X['day'],[0,60,151,243,334], labels=['Hiver','Printemps','Ete', 'Automne'],ordered=False)\n",
        "X['season'] = X['season'].fillna('Hiver')\n",
        "X['season']"
      ]
    },
    {
      "cell_type": "code",
      "execution_count": null,
      "id": "vjaKXt5bx8Bi",
      "metadata": {
        "id": "vjaKXt5bx8Bi"
      },
      "outputs": [],
      "source": [
        "X['month'] = X['day'] / 30\n",
        "X['month'] = X['month'].astype('int')"
      ]
    },
    {
      "cell_type": "code",
      "execution_count": null,
      "id": "OOHlsaYkyDbK",
      "metadata": {
        "id": "OOHlsaYkyDbK"
      },
      "outputs": [],
      "source": [
        "X.reset_index(inplace=True)\n",
        "X.drop('index',axis=1,inplace=True)"
      ]
    },
    {
      "cell_type": "code",
      "execution_count": null,
      "id": "C5rzphNhyGv-",
      "metadata": {
        "id": "C5rzphNhyGv-"
      },
      "outputs": [],
      "source": [
        "X['month'] = X['month'].astype('category')\n",
        "X['season'] = X['season'].astype('category')\n",
        "X['day'] = X['day'].astype('category')"
      ]
    },
    {
      "cell_type": "code",
      "execution_count": null,
      "id": "hQLRIqIYyQeN",
      "metadata": {
        "id": "hQLRIqIYyQeN"
      },
      "outputs": [],
      "source": [
        "X =pd.merge(X,coords,how='left',on='number_sta')\n",
        "X['number_sta'] = X['number_sta'].astype('category')\n",
        "X.fillna(method = 'bfill',inplace = True)"
      ]
    },
    {
      "cell_type": "code",
      "execution_count": null,
      "id": "HHTln-UG0J-2",
      "metadata": {
        "id": "HHTln-UG0J-2"
      },
      "outputs": [],
      "source": [
        "\n",
        "X_test = transformer.fit_transform(X)\n",
        "predictions_test = random_forest.predict(X_test)"
      ]
    },
    {
      "cell_type": "code",
      "execution_count": null,
      "id": "KZbmowG_1Wf8",
      "metadata": {
        "colab": {
          "base_uri": "https://localhost:8080/"
        },
        "id": "KZbmowG_1Wf8",
        "outputId": "1500755a-dc6c-472a-fed5-af6d86823b1f"
      },
      "outputs": [],
      "source": [
        "predictions_test"
      ]
    },
    {
      "cell_type": "code",
      "execution_count": null,
      "id": "Hm3oXeaR14Ha",
      "metadata": {
        "id": "Hm3oXeaR14Ha"
      },
      "outputs": [],
      "source": [
        "index_pluie =np.where(predictions_test==2)"
      ]
    },
    {
      "cell_type": "code",
      "execution_count": null,
      "id": "L7MSlTA21_a7",
      "metadata": {
        "colab": {
          "base_uri": "https://localhost:8080/",
          "height": 488
        },
        "id": "L7MSlTA21_a7",
        "outputId": "1c1a0fc6-e8fe-4c76-d6bc-9687ee1ef9ba"
      },
      "outputs": [],
      "source": [
        "X_pluie = X.loc[index_pluie]\n",
        "X_pluie"
      ]
    },
    {
      "cell_type": "code",
      "execution_count": null,
      "id": "GZGue1Z220cq",
      "metadata": {
        "id": "GZGue1Z220cq"
      },
      "outputs": [],
      "source": [
        "X_pluie_test = transformer.fit_transform(X_pluie)"
      ]
    },
    {
      "cell_type": "code",
      "execution_count": null,
      "id": "IhxZ8Ndf2bf9",
      "metadata": {
        "id": "IhxZ8Ndf2bf9"
      },
      "outputs": [],
      "source": [
        "predictions_test_regressor = regressor.predict(X_pluie_test)"
      ]
    },
    {
      "cell_type": "code",
      "execution_count": null,
      "id": "rorTl4zTq4ms",
      "metadata": {
        "id": "rorTl4zTq4ms"
      },
      "outputs": [],
      "source": [
        "predictions_test_regressor_quant = all_models['model_1'].predict(X_pluie_test)"
      ]
    },
    {
      "cell_type": "code",
      "execution_count": null,
      "id": "DAHgXfXS3G3A",
      "metadata": {
        "colab": {
          "base_uri": "https://localhost:8080/",
          "height": 424
        },
        "id": "DAHgXfXS3G3A",
        "outputId": "c9bfea63-66c5-4f35-9e66-28440e2a4ff6"
      },
      "outputs": [],
      "source": [
        "array_test = pd.DataFrame(predictions_test)\n",
        "array_test[0] = np.where(array_test[0]==1,0,2)\n",
        "array_test['Id'] = X['Id']\n",
        "display(array_test)"
      ]
    },
    {
      "cell_type": "code",
      "execution_count": null,
      "id": "MKrdfwoU-Hmq",
      "metadata": {
        "id": "MKrdfwoU-Hmq"
      },
      "outputs": [],
      "source": [
        "array_test.set_axis(['pred', 'Id'], axis=1, inplace=True)"
      ]
    },
    {
      "cell_type": "code",
      "execution_count": null,
      "id": "lTfSo4Hx_OAO",
      "metadata": {
        "colab": {
          "base_uri": "https://localhost:8080/",
          "height": 424
        },
        "id": "lTfSo4Hx_OAO",
        "outputId": "9ad7dd88-d35d-42f2-c51c-cf5c813f1923"
      },
      "outputs": [],
      "source": [
        "array_test"
      ]
    },
    {
      "cell_type": "code",
      "execution_count": null,
      "id": "l-4S_pel_2dq",
      "metadata": {
        "colab": {
          "base_uri": "https://localhost:8080/"
        },
        "id": "l-4S_pel_2dq",
        "outputId": "bf694b55-927f-4a22-efa3-7fb977c68b6d"
      },
      "outputs": [],
      "source": [
        "array_test.pred.value_counts()"
      ]
    },
    {
      "cell_type": "code",
      "execution_count": null,
      "id": "2JxBtD8-BBoq",
      "metadata": {
        "colab": {
          "base_uri": "https://localhost:8080/",
          "height": 424
        },
        "id": "2JxBtD8-BBoq",
        "outputId": "4d31db12-498e-498c-8769-9fd39fc3c684"
      },
      "outputs": [],
      "source": [
        "tab_reg = {'pred' : predictions_test_regressor ,'Id' : X_pluie['Id']}\n",
        "tab_reg = pd.DataFrame(tab_reg)\n",
        "tab_reg"
      ]
    },
    {
      "cell_type": "code",
      "execution_count": null,
      "id": "lQM5edFCu8_1",
      "metadata": {
        "colab": {
          "base_uri": "https://localhost:8080/",
          "height": 424
        },
        "id": "lQM5edFCu8_1",
        "outputId": "e515f29c-ac3b-46ca-bf99-c626f03bd1a2"
      },
      "outputs": [],
      "source": [
        "tab_reg_quant = {'pred_quant' : predictions_test_regressor_quant ,'Id' : X_pluie['Id']}\n",
        "tab_reg_quant = pd.DataFrame(tab_reg_quant)\n",
        "tab_reg_quant"
      ]
    },
    {
      "cell_type": "code",
      "execution_count": null,
      "id": "6X_jrIY3CJEU",
      "metadata": {
        "colab": {
          "base_uri": "https://localhost:8080/",
          "height": 424
        },
        "id": "6X_jrIY3CJEU",
        "outputId": "8bd3baf7-df72-4918-dfbe-11ab1a1ffb71"
      },
      "outputs": [],
      "source": [
        "pred = pd.merge(array_test,tab_reg,on ='Id',how='left')\n",
        "pred"
      ]
    },
    {
      "cell_type": "code",
      "execution_count": null,
      "id": "Bo6aSVUDDn1p",
      "metadata": {
        "colab": {
          "base_uri": "https://localhost:8080/",
          "height": 424
        },
        "id": "Bo6aSVUDDn1p",
        "outputId": "f5311daf-d64f-441e-9bed-77af2a81fa73"
      },
      "outputs": [],
      "source": [
        "pred['pred_y'] = pred.pred_y.fillna(0)\n",
        "pred.drop('pred_x',axis=1,inplace=True)\n",
        "pred.rename(columns = {'pred_y' : 'pred'},inplace=True)\n",
        "pred"
      ]
    },
    {
      "cell_type": "code",
      "execution_count": null,
      "id": "0UuALK8nvsli",
      "metadata": {
        "colab": {
          "base_uri": "https://localhost:8080/",
          "height": 424
        },
        "id": "0UuALK8nvsli",
        "outputId": "0cf3b776-82fc-420e-cae9-cff08328bc03"
      },
      "outputs": [],
      "source": [
        "pred = pd.merge(pred,tab_reg_quant,on ='Id',how='left')\n",
        "pred"
      ]
    },
    {
      "cell_type": "code",
      "execution_count": null,
      "id": "GCtbQpStwAbR",
      "metadata": {
        "colab": {
          "base_uri": "https://localhost:8080/",
          "height": 424
        },
        "id": "GCtbQpStwAbR",
        "outputId": "44109dea-657b-4f3c-e7ea-510c846bc1d4"
      },
      "outputs": [],
      "source": [
        "pred['pred_quant'] = pred.pred_quant.fillna(0)\n",
        "pred"
      ]
    },
    {
      "cell_type": "code",
      "execution_count": null,
      "id": "Ub02N6-meKJZ",
      "metadata": {
        "colab": {
          "base_uri": "https://localhost:8080/",
          "height": 424
        },
        "id": "Ub02N6-meKJZ",
        "outputId": "89d3d53a-1cc8-476e-89e6-a0996ca026a5"
      },
      "outputs": [],
      "source": [
        "fname = './defi-ia-2022/Test/Test/Baselines/Baseline_observation_test.csv'\n",
        "Baseline_observation_test = pd.read_csv(fname)\n",
        "Baseline_observation_test = Baseline_observation_test.sort_values(by=[\"Id\"])\n",
        "display(Baseline_observation_test)"
      ]
    },
    {
      "cell_type": "code",
      "execution_count": null,
      "id": "fTabiRSds5rj",
      "metadata": {
        "colab": {
          "base_uri": "https://localhost:8080/",
          "height": 424
        },
        "id": "fTabiRSds5rj",
        "outputId": "89fbec4f-f835-440c-cd13-f13cd7f2b85a"
      },
      "outputs": [],
      "source": [
        "pred = pd.merge(Baseline_observation_test,pred,on ='Id',how='left')\n",
        "pred"
      ]
    },
    {
      "cell_type": "code",
      "execution_count": null,
      "id": "CeErDX_BtTxv",
      "metadata": {
        "colab": {
          "base_uri": "https://localhost:8080/",
          "height": 424
        },
        "id": "CeErDX_BtTxv",
        "outputId": "53c582bb-56df-47fb-a182-e347fc0bb7aa"
      },
      "outputs": [],
      "source": [
        "pred = pred.drop([\"Prediction\",\"pred\"],axis=1)\n",
        "pred"
      ]
    },
    {
      "cell_type": "code",
      "execution_count": null,
      "id": "gSNnlZY7x3UA",
      "metadata": {
        "colab": {
          "base_uri": "https://localhost:8080/",
          "height": 424
        },
        "id": "gSNnlZY7x3UA",
        "outputId": "0a586b82-b2c8-4c28-a7ae-bd6b9af622ca"
      },
      "outputs": [],
      "source": [
        "pred.rename(columns = {'pred_quant' : 'Prediction'},inplace=True)\n",
        "pred['Prediction']=pred['Prediction']+1\n",
        "pred"
      ]
    },
    {
      "cell_type": "code",
      "execution_count": null,
      "id": "JWi9u1Lotlq1",
      "metadata": {
        "id": "JWi9u1Lotlq1"
      },
      "outputs": [],
      "source": [
        "# Enregistrement prédictions\n",
        "\n",
        "output_file = \"prediction_test.csv\"\n",
        "pred.to_csv('./predictions/' + output_file,index=False)"
      ]
    },
    {
      "cell_type": "markdown",
      "id": "92435666",
      "metadata": {
        "id": "92435666"
      },
      "source": [
        "Utilisons les données 2D"
      ]
    },
    {
      "cell_type": "code",
      "execution_count": null,
      "id": "39dfd5b9",
      "metadata": {
        "id": "39dfd5b9"
      },
      "outputs": [],
      "source": [
        "import xarray as xr\n",
        "import numpy as np\n",
        "import matplotlib.pyplot as plt\n",
        "import datetime as dt\n",
        "import cfgrib"
      ]
    },
    {
      "cell_type": "code",
      "execution_count": null,
      "id": "aa941219",
      "metadata": {},
      "outputs": [],
      "source": [
        "from netCDF4 import Dataset\n",
        "import h5py"
      ]
    },
    {
      "cell_type": "code",
      "execution_count": null,
      "id": "e8727e78",
      "metadata": {
        "id": "e8727e78"
      },
      "outputs": [],
      "source": [
        "model = 'arome'  #weather model (arome or arpege)\n",
        "param = \"tp\"   #parameter name in the file (cf cells below to know the parameter names -> exploration of metadata)\n",
        "file_date = dt.datetime(2017, 2, 14) # Day example "
      ]
    },
    {
      "cell_type": "code",
      "execution_count": null,
      "id": "ea78a0c0",
      "metadata": {
        "colab": {
          "base_uri": "https://localhost:8080/",
          "height": 628
        },
        "id": "ea78a0c0",
        "outputId": "734ec884-2852-4b92-9d61-f269c176be2f"
      },
      "outputs": [],
      "source": [
        "fname = \"defi-ia-2022/Train/Train/X_forecast/2D_%s_%s.nc\" %(model,file_date.strftime('%Y%m%d'))\n",
        "data = xr.load_dataset(fname)\n",
        "#data"
      ]
    },
    {
      "cell_type": "code",
      "execution_count": null,
      "id": "a1e9a0f3",
      "metadata": {},
      "outputs": [],
      "source": [
        "from scipy.io import netcdf\n",
        "import netCDF4\n",
        "nc = netCDF4.Dataset(fname)\n",
        "nc.variables.keys()"
      ]
    },
    {
      "cell_type": "code",
      "execution_count": null,
      "id": "79ad1794",
      "metadata": {},
      "outputs": [],
      "source": [
        "latitude = nc.variables['latitude']\n",
        "latitude = nc.variables['latitude']\n",
        "latitude = nc.variables['latitude']\n",
        "latitude = nc.variables['latitude']\n",
        "latitude = nc.variables['latitude']\n",
        "latitude = nc.variables['latitude']\n",
        "latitude = nc.variables['latitude']\n",
        "latitude = nc.variables['latitude']\n",
        "latitude = nc.variables['latitude']\n",
        "latitude = nc.variables['latitude']\n",
        "latitude = nc.variables['latitude']\n",
        "latitude = nc.variables['latitude']"
      ]
    },
    {
      "cell_type": "code",
      "execution_count": null,
      "id": "5c0a6d5b",
      "metadata": {},
      "outputs": [],
      "source": [
        "nc.variables['Id']"
      ]
    }
  ],
  "metadata": {
    "colab": {
      "collapsed_sections": [],
      "name": "projet2.ipynb",
      "provenance": []
    },
    "kernelspec": {
      "display_name": "Python 3",
      "language": "python",
      "name": "python3"
    },
    "language_info": {
      "codemirror_mode": {
        "name": "ipython",
        "version": 3
      },
      "file_extension": ".py",
      "mimetype": "text/x-python",
      "name": "python",
      "nbconvert_exporter": "python",
      "pygments_lexer": "ipython3",
      "version": "3.9.5"
    },
    "papermill": {
      "default_parameters": {},
      "duration": 39.628329,
      "end_time": "2021-10-07T08:26:53.792240",
      "environment_variables": {},
      "exception": null,
      "input_path": "__notebook__.ipynb",
      "output_path": "__notebook__.ipynb",
      "parameters": {},
      "start_time": "2021-10-07T08:26:14.163911",
      "version": "2.3.3"
    }
  },
  "nbformat": 4,
  "nbformat_minor": 5
}
